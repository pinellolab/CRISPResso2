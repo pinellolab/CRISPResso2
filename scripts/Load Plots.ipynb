{
 "cells": [
  {
   "cell_type": "code",
   "execution_count": 1,
   "id": "5895c995",
   "metadata": {},
   "outputs": [],
   "source": [
    "import os\n",
    "import pandas as pd\n",
    "from CRISPResso2 import CRISPRessoShared, CRISPRessoPlot, CRISPResso2Align\n",
    "from collections import defaultdict\n",
    "import matplotlib.pyplot as plt\n",
    "import ast\n",
    "import numpy as np"
   ]
  },
  {
   "cell_type": "code",
   "execution_count": 2,
   "id": "1a0e9834",
   "metadata": {},
   "outputs": [],
   "source": [
    "%matplotlib inline"
   ]
  },
  {
   "cell_type": "code",
   "execution_count": 3,
   "id": "cf91acbb",
   "metadata": {},
   "outputs": [],
   "source": [
    "# ! unzip ../CRISPResso2_tests/cli_integration_tests/CRISPResso_on_params/Alleles_frequency_table.zip"
   ]
  },
  {
   "cell_type": "markdown",
   "id": "deac54fa",
   "metadata": {},
   "source": [
    "## Load info dict"
   ]
  },
  {
   "cell_type": "code",
   "execution_count": 4,
   "id": "96d3d0c0",
   "metadata": {},
   "outputs": [],
   "source": [
    "root = '../CRISPResso2_tests/cli_integration_tests/CRISPResso_on_params/'\n",
    "crispresso2_info = CRISPRessoShared.load_crispresso_info(root)\n",
    "refs = crispresso2_info['results']['refs']\n",
    "reference_seq = refs['FANC']['sequence']\n",
    "exon_positions = refs['FANC']['exon_positions']\n",
    "coding_seq = ''.join([refs['FANC']['sequence'][i] for i in refs['FANC']['exon_positions']])"
   ]
  },
  {
   "cell_type": "markdown",
   "id": "33bbac51",
   "metadata": {},
   "source": [
    "## Get DF to Plot"
   ]
  },
  {
   "cell_type": "markdown",
   "id": "ee924b88",
   "metadata": {},
   "source": [
    "* Aligned Sequence is the aligned read from the fastq. '-' is a deletion.\n",
    "* Reference Sequence is the aligned reference sequence. '-' is an insertion.\n",
    "\n",
    "Our goal is to grab the coding sequences out of the aligned sequences. We'll use `CRISPRessoShared.get_dataframe_around_cut`"
   ]
  },
  {
   "cell_type": "code",
   "execution_count": 5,
   "id": "6d11205a",
   "metadata": {},
   "outputs": [],
   "source": [
    "df_alleles = pd.read_csv('df_alleles.txt', sep='\\t', index_col=0)\n",
    "df_alleles['ref_positions'] = df_alleles['ref_positions'].apply(ast.literal_eval)"
   ]
  },
  {
   "cell_type": "code",
   "execution_count": 6,
   "id": "c641ebd3",
   "metadata": {},
   "outputs": [],
   "source": [
    "cut_point = refs['FANC']['sgRNA_cut_points'][0]"
   ]
  },
  {
   "cell_type": "code",
   "execution_count": 7,
   "id": "c7d7a510",
   "metadata": {},
   "outputs": [
    {
     "name": "stdout",
     "output_type": "stream",
     "text": [
      "coding seq ragng: (56:106)\n",
      "coding seq: GGGCCTTCGCGCACCTCATGGAATCCCTTCTGCAGCACCTGGATCGCTTTT\n",
      "sgRNA cut points: [91, 188, 172]\n"
     ]
    }
   ],
   "source": [
    "print(f'coding seq ragng: ({exon_positions[0]}:{exon_positions[-1]})')\n",
    "print(f'coding seq: {coding_seq}')\n",
    "print(f'sgRNA cut points: {refs[\"FANC\"][\"sgRNA_cut_points\"]}')"
   ]
  },
  {
   "cell_type": "code",
   "execution_count": 8,
   "id": "aef758c5",
   "metadata": {},
   "outputs": [
    {
     "name": "stdout",
     "output_type": "stream",
     "text": [
      "36 15\n"
     ]
    }
   ],
   "source": [
    "plot_left = cut_point - exon_positions[0] + 1\n",
    "plot_right = exon_positions[-1] - cut_point\n",
    "print(plot_left, plot_right)\n"
   ]
  },
  {
   "cell_type": "code",
   "execution_count": 9,
   "id": "1f5497cc",
   "metadata": {},
   "outputs": [],
   "source": [
    "#[0,1,2,3,4,5,6] 3 is cut_point, then plot_left = 3 = cut_point - exon_pos[0], plot_right = exon_pos[-1] - cut_point "
   ]
  },
  {
   "cell_type": "code",
   "execution_count": 10,
   "id": "15166a0a",
   "metadata": {},
   "outputs": [
    {
     "data": {
      "text/plain": [
       "91"
      ]
     },
     "execution_count": 10,
     "metadata": {},
     "output_type": "execute_result"
    }
   ],
   "source": [
    "cut_point"
   ]
  },
  {
   "cell_type": "code",
   "execution_count": 11,
   "id": "1a8054c0",
   "metadata": {},
   "outputs": [],
   "source": [
    "ref_seq = CRISPRessoShared.get_amino_acids_from_nucs(coding_seq)"
   ]
  },
  {
   "cell_type": "code",
   "execution_count": 12,
   "id": "7d181920",
   "metadata": {},
   "outputs": [
    {
     "data": {
      "text/plain": [
       "'GPSRTSWNPFCSTWIAF'"
      ]
     },
     "execution_count": 12,
     "metadata": {},
     "output_type": "execute_result"
    }
   ],
   "source": [
    "ref_seq"
   ]
  },
  {
   "cell_type": "code",
   "execution_count": 13,
   "id": "57ef2765",
   "metadata": {},
   "outputs": [
    {
     "data": {
      "text/plain": [
       "17"
      ]
     },
     "execution_count": 13,
     "metadata": {},
     "output_type": "execute_result"
    }
   ],
   "source": [
    "len(coding_seq[:len(ref_seq)])"
   ]
  },
  {
   "cell_type": "code",
   "execution_count": 14,
   "id": "79338989",
   "metadata": {},
   "outputs": [],
   "source": [
    "df_test = df_alleles_around_cut=CRISPRessoShared.get_amino_acid_dataframe(df_alleles.loc[df_alleles['Reference_Name'] == 'FANC'], cut_point, plot_left, len(ref_seq), './CRISPResso2/BLOSUM62')"
   ]
  },
  {
   "cell_type": "code",
   "execution_count": null,
   "id": "41994fde",
   "metadata": {},
   "outputs": [],
   "source": []
  },
  {
   "cell_type": "markdown",
   "id": "1e451402",
   "metadata": {},
   "source": [
    "Note: it's important that we get the start of the coding sequence. Otherwise the sequence will be shifted and the codons will be incorrect."
   ]
  },
  {
   "cell_type": "markdown",
   "id": "6ed2cea2",
   "metadata": {},
   "source": [
    "## Plotting"
   ]
  },
  {
   "cell_type": "code",
   "execution_count": 15,
   "id": "97fde43f",
   "metadata": {},
   "outputs": [],
   "source": [
    "df_to_plot = df_test"
   ]
  },
  {
   "cell_type": "code",
   "execution_count": 16,
   "id": "12ea4a35",
   "metadata": {},
   "outputs": [
    {
     "data": {
      "text/html": [
       "<div>\n",
       "<style scoped>\n",
       "    .dataframe tbody tr th:only-of-type {\n",
       "        vertical-align: middle;\n",
       "    }\n",
       "\n",
       "    .dataframe tbody tr th {\n",
       "        vertical-align: top;\n",
       "    }\n",
       "\n",
       "    .dataframe thead th {\n",
       "        text-align: right;\n",
       "    }\n",
       "</style>\n",
       "<table border=\"1\" class=\"dataframe\">\n",
       "  <thead>\n",
       "    <tr style=\"text-align: right;\">\n",
       "      <th></th>\n",
       "      <th>Reference_Sequence</th>\n",
       "      <th>Unedited</th>\n",
       "      <th>n_deleted</th>\n",
       "      <th>n_inserted</th>\n",
       "      <th>n_mutated</th>\n",
       "      <th>#Reads</th>\n",
       "      <th>%Reads</th>\n",
       "    </tr>\n",
       "    <tr>\n",
       "      <th>Aligned_Sequence</th>\n",
       "      <th></th>\n",
       "      <th></th>\n",
       "      <th></th>\n",
       "      <th></th>\n",
       "      <th></th>\n",
       "      <th></th>\n",
       "      <th></th>\n",
       "    </tr>\n",
       "  </thead>\n",
       "  <tbody>\n",
       "    <tr>\n",
       "      <th>GPSRTSWNPFCSTWIAF</th>\n",
       "      <td>GPSRTSWNPFCSTWIAF</td>\n",
       "      <td>True</td>\n",
       "      <td>0</td>\n",
       "      <td>0</td>\n",
       "      <td>0</td>\n",
       "      <td>163</td>\n",
       "      <td>78.365385</td>\n",
       "    </tr>\n",
       "    <tr>\n",
       "      <th>GPSRTSWNPFC-TWIAF</th>\n",
       "      <td>GPSRTSWNPFCSTWIAF</td>\n",
       "      <td>True</td>\n",
       "      <td>0</td>\n",
       "      <td>0</td>\n",
       "      <td>0</td>\n",
       "      <td>8</td>\n",
       "      <td>3.846154</td>\n",
       "    </tr>\n",
       "    <tr>\n",
       "      <th>GPSRTSWNPF*PGS--L</th>\n",
       "      <td>GPSRTSWNPFC--STWI</td>\n",
       "      <td>True</td>\n",
       "      <td>0</td>\n",
       "      <td>0</td>\n",
       "      <td>0</td>\n",
       "      <td>2</td>\n",
       "      <td>0.961538</td>\n",
       "    </tr>\n",
       "    <tr>\n",
       "      <th>GPSRTSWNPFCSHLDRF</th>\n",
       "      <td>GPSRTSWNPFCS-T--W</td>\n",
       "      <td>True</td>\n",
       "      <td>0</td>\n",
       "      <td>0</td>\n",
       "      <td>0</td>\n",
       "      <td>2</td>\n",
       "      <td>0.961538</td>\n",
       "    </tr>\n",
       "    <tr>\n",
       "      <th>GPSRTSWNPFCSLDRFS</th>\n",
       "      <td>GPSRTSWNPFCST--W-</td>\n",
       "      <td>True</td>\n",
       "      <td>0</td>\n",
       "      <td>0</td>\n",
       "      <td>0</td>\n",
       "      <td>2</td>\n",
       "      <td>0.961538</td>\n",
       "    </tr>\n",
       "  </tbody>\n",
       "</table>\n",
       "</div>"
      ],
      "text/plain": [
       "                  Reference_Sequence  Unedited  n_deleted  n_inserted  \\\n",
       "Aligned_Sequence                                                        \n",
       "GPSRTSWNPFCSTWIAF  GPSRTSWNPFCSTWIAF      True          0           0   \n",
       "GPSRTSWNPFC-TWIAF  GPSRTSWNPFCSTWIAF      True          0           0   \n",
       "GPSRTSWNPF*PGS--L  GPSRTSWNPFC--STWI      True          0           0   \n",
       "GPSRTSWNPFCSHLDRF  GPSRTSWNPFCS-T--W      True          0           0   \n",
       "GPSRTSWNPFCSLDRFS  GPSRTSWNPFCST--W-      True          0           0   \n",
       "\n",
       "                   n_mutated  #Reads     %Reads  \n",
       "Aligned_Sequence                                 \n",
       "GPSRTSWNPFCSTWIAF          0     163  78.365385  \n",
       "GPSRTSWNPFC-TWIAF          0       8   3.846154  \n",
       "GPSRTSWNPF*PGS--L          0       2   0.961538  \n",
       "GPSRTSWNPFCSHLDRF          0       2   0.961538  \n",
       "GPSRTSWNPFCSLDRFS          0       2   0.961538  "
      ]
     },
     "execution_count": 16,
     "metadata": {},
     "output_type": "execute_result"
    }
   ],
   "source": [
    "df_to_plot.head()"
   ]
  },
  {
   "cell_type": "code",
   "execution_count": 17,
   "id": "cf16012a",
   "metadata": {},
   "outputs": [],
   "source": [
    "reference_seq = df_to_plot.iloc[0]['Reference_Sequence']"
   ]
  },
  {
   "cell_type": "code",
   "execution_count": 18,
   "id": "e7a4cfdd",
   "metadata": {},
   "outputs": [],
   "source": [
    "plot_9_inputs = {\n",
    "    'reference_seq': coding_seq, \n",
    "    'df_alleles': df_to_plot, \n",
    "    'fig_filename_root': (fig_filename_root:='./scripts/figures/9'), \n",
    "    'custom_colors': (custom_colors:={\n",
    "        'Substitution': '#0000FF', \n",
    "        'Insertion': '#008000', \n",
    "        'Deletion': '#FF0000', \n",
    "        'A': '#7FC97F', \n",
    "        'T': '#BEAED4', \n",
    "        'C': '#FDC086', \n",
    "        'G': '#FFFF99', \n",
    "        'N': '#C8C8C8', \n",
    "        '-': '#1E1E1E'\n",
    "    }), \n",
    "    'MIN_FREQUENCY': (MIN_FREQUENCY:=0.2), \n",
    "    'MAX_N_ROWS': (MAX_N_ROWS:=50), \n",
    "    'SAVE_ALSO_PNG': (SAVE_ALSO_PNG:=True), \n",
    "    'plot_cut_point': (plot_cut_point:=True), \n",
    "    'sgRNA_intervals': (sgRNA_intervals:=[(3, 22), (99, 119), (98, 112)]), \n",
    "    'sgRNA_names': (sgRNA_names:=['hi', 'dear', '']), \n",
    "    'sgRNA_mismatches': (sgRNA_mismatches:=[[], [0], [7]]), \n",
    "    'annotate_wildtype_allele': (annotate_wildtype_allele:='')\n",
    "}"
   ]
  },
  {
   "cell_type": "code",
   "execution_count": 19,
   "id": "6690ab9e",
   "metadata": {},
   "outputs": [],
   "source": [
    "plot_9a_inputs = {\n",
    "    'reference_seq': reference_seq, \n",
    "    'df_alleles': df_to_plot, \n",
    "    'fig_filename_root': (fig_filename_root:='./scripts/figures/9a'), \n",
    "    'custom_colors': (custom_colors:={\n",
    "        'Substitution': '#0000FF', \n",
    "        'Insertion': '#008000', \n",
    "        'Deletion': '#FF0000', \n",
    "        'A': '#7FC97F', \n",
    "        'T': '#BEAED4', \n",
    "        'C': '#FDC086', \n",
    "        'G': '#FFFF99', \n",
    "        'N': '#C8C8C8', \n",
    "        '-': '#1E1E1E'\n",
    "    }), \n",
    "    'MIN_FREQUENCY': (MIN_FREQUENCY:=0.2), \n",
    "    'MAX_N_ROWS': (MAX_N_ROWS:=50), \n",
    "    'SAVE_ALSO_PNG': (SAVE_ALSO_PNG:=True), \n",
    "    'plot_cut_point': (plot_cut_point:=True), \n",
    "    'sgRNA_intervals': (sgRNA_intervals:=[(3, 22), (99, 119), (98, 112)]), \n",
    "    'sgRNA_names': (sgRNA_names:=['hi', 'dear', '']), \n",
    "    'sgRNA_mismatches': (sgRNA_mismatches:=[[], [0], [7]]), \n",
    "    'annotate_wildtype_allele': (annotate_wildtype_allele:=''),\n",
    "    'amino_acid_cut_point' : (cut_point - refs['FANC']['exon_positions'][0] + 1) // 3\n",
    "}"
   ]
  },
  {
   "cell_type": "code",
   "execution_count": 20,
   "id": "6dca25ef",
   "metadata": {},
   "outputs": [
    {
     "data": {
      "text/plain": [
       "12"
      ]
     },
     "execution_count": 20,
     "metadata": {},
     "output_type": "execute_result"
    }
   ],
   "source": [
    "(cut_point - refs['FANC']['exon_positions'][0] + 1) // 3"
   ]
  },
  {
   "cell_type": "code",
   "execution_count": 21,
   "id": "86094be1",
   "metadata": {},
   "outputs": [],
   "source": [
    "(\n",
    "    X, # 2d array: This is the sequence converted to ints I THINK for the cmap \n",
    "    annot, # This is the sequence of bp's \n",
    "    y_labels, # this is the percentage and tallies displayed to the right ``\n",
    "    insertion_dict, # I think this is key: which aligned_seq has insertion, value: where the insertion is\n",
    "    per_element_annot_kws, # dict of dicts: this is for bolding the substitutions\n",
    "    is_reference,\n",
    "    ref_sequence_amino_acids) = CRISPRessoPlot.prep_amino_acid_table(\n",
    "        df_to_plot, \n",
    "        plot_9a_inputs['reference_seq'], \n",
    "        plot_9a_inputs['MAX_N_ROWS'], \n",
    "        plot_9a_inputs['MIN_FREQUENCY']\n",
    "        )\n"
   ]
  },
  {
   "cell_type": "code",
   "execution_count": 22,
   "id": "78099829",
   "metadata": {},
   "outputs": [],
   "source": [
    "CRISPRessoPlot.plot_amino_acid_table(**plot_9a_inputs)"
   ]
  },
  {
   "cell_type": "code",
   "execution_count": 23,
   "id": "ff2cd25a",
   "metadata": {},
   "outputs": [
    {
     "ename": "KeyError",
     "evalue": "'P'",
     "output_type": "error",
     "traceback": [
      "\u001b[0;31m---------------------------------------------------------------------------\u001b[0m",
      "\u001b[0;31mKeyError\u001b[0m                                  Traceback (most recent call last)",
      "Cell \u001b[0;32mIn[23], line 1\u001b[0m\n\u001b[0;32m----> 1\u001b[0m \u001b[43mCRISPRessoPlot\u001b[49m\u001b[38;5;241;43m.\u001b[39;49m\u001b[43mplot_alleles_table\u001b[49m\u001b[43m(\u001b[49m\u001b[38;5;241;43m*\u001b[39;49m\u001b[38;5;241;43m*\u001b[39;49m\u001b[43mplot_9_inputs\u001b[49m\u001b[43m)\u001b[49m\n",
      "File \u001b[0;32m~/Edilytics/CRISPResso2/CRISPResso2/CRISPRessoPlot.py:3334\u001b[0m, in \u001b[0;36mplot_alleles_table\u001b[0;34m(reference_seq, df_alleles, fig_filename_root, custom_colors, MIN_FREQUENCY, MAX_N_ROWS, SAVE_ALSO_PNG, plot_cut_point, sgRNA_intervals, sgRNA_names, sgRNA_mismatches, annotate_wildtype_allele, **kwargs)\u001b[0m\n\u001b[1;32m   3317\u001b[0m \u001b[38;5;28;01mdef\u001b[39;00m \u001b[38;5;21mplot_alleles_table\u001b[39m(reference_seq,df_alleles,fig_filename_root,custom_colors,MIN_FREQUENCY\u001b[38;5;241m=\u001b[39m\u001b[38;5;241m0.5\u001b[39m,MAX_N_ROWS\u001b[38;5;241m=\u001b[39m\u001b[38;5;241m100\u001b[39m,SAVE_ALSO_PNG\u001b[38;5;241m=\u001b[39m\u001b[38;5;28;01mFalse\u001b[39;00m,plot_cut_point\u001b[38;5;241m=\u001b[39m\u001b[38;5;28;01mTrue\u001b[39;00m,sgRNA_intervals\u001b[38;5;241m=\u001b[39m\u001b[38;5;28;01mNone\u001b[39;00m,sgRNA_names\u001b[38;5;241m=\u001b[39m\u001b[38;5;28;01mNone\u001b[39;00m,sgRNA_mismatches\u001b[38;5;241m=\u001b[39m\u001b[38;5;28;01mNone\u001b[39;00m,annotate_wildtype_allele\u001b[38;5;241m=\u001b[39m\u001b[38;5;124m'\u001b[39m\u001b[38;5;124m****\u001b[39m\u001b[38;5;124m'\u001b[39m,\u001b[38;5;241m*\u001b[39m\u001b[38;5;241m*\u001b[39mkwargs):\n\u001b[1;32m   3318\u001b[0m \u001b[38;5;250m    \u001b[39m\u001b[38;5;124;03m\"\"\"\u001b[39;00m\n\u001b[1;32m   3319\u001b[0m \u001b[38;5;124;03m    plots an allele table for a dataframe with allele frequencies\u001b[39;00m\n\u001b[1;32m   3320\u001b[0m \u001b[38;5;124;03m    input:\u001b[39;00m\n\u001b[0;32m   (...)\u001b[0m\n\u001b[1;32m   3332\u001b[0m \u001b[38;5;124;03m    annotate_wildtype_allele: string to add to the end of the wildtype allele (e.g. ** or '')\u001b[39;00m\n\u001b[1;32m   3333\u001b[0m \u001b[38;5;124;03m    \"\"\"\u001b[39;00m\n\u001b[0;32m-> 3334\u001b[0m     X, annot, y_labels, insertion_dict, per_element_annot_kws, is_reference \u001b[38;5;241m=\u001b[39m \u001b[43mprep_alleles_table\u001b[49m\u001b[43m(\u001b[49m\u001b[43mdf_alleles\u001b[49m\u001b[43m,\u001b[49m\u001b[43m \u001b[49m\u001b[43mreference_seq\u001b[49m\u001b[43m,\u001b[49m\u001b[43m \u001b[49m\u001b[43mMAX_N_ROWS\u001b[49m\u001b[43m,\u001b[49m\u001b[43m \u001b[49m\u001b[43mMIN_FREQUENCY\u001b[49m\u001b[43m)\u001b[49m\n\u001b[1;32m   3335\u001b[0m     \u001b[38;5;28;01mif\u001b[39;00m annotate_wildtype_allele \u001b[38;5;241m!=\u001b[39m \u001b[38;5;124m'\u001b[39m\u001b[38;5;124m'\u001b[39m:\n\u001b[1;32m   3336\u001b[0m         \u001b[38;5;28;01mfor\u001b[39;00m ix, is_ref \u001b[38;5;129;01min\u001b[39;00m \u001b[38;5;28menumerate\u001b[39m(is_reference):\n",
      "File \u001b[0;32m~/Edilytics/CRISPResso2/CRISPResso2/CRISPRessoPlot.py:2920\u001b[0m, in \u001b[0;36mprep_alleles_table\u001b[0;34m(df_alleles, reference_seq, MAX_N_ROWS, MIN_FREQUENCY)\u001b[0m\n\u001b[1;32m   2918\u001b[0m idx_row\u001b[38;5;241m=\u001b[39m\u001b[38;5;241m0\u001b[39m\n\u001b[1;32m   2919\u001b[0m \u001b[38;5;28;01mfor\u001b[39;00m idx, row \u001b[38;5;129;01min\u001b[39;00m df_alleles[df_alleles[\u001b[38;5;124m'\u001b[39m\u001b[38;5;124m%\u001b[39m\u001b[38;5;124mReads\u001b[39m\u001b[38;5;124m'\u001b[39m]\u001b[38;5;241m>\u001b[39m\u001b[38;5;241m=\u001b[39mMIN_FREQUENCY][:MAX_N_ROWS]\u001b[38;5;241m.\u001b[39miterrows():\n\u001b[0;32m-> 2920\u001b[0m     X\u001b[38;5;241m.\u001b[39mappend(\u001b[43mseq_to_numbers\u001b[49m\u001b[43m(\u001b[49m\u001b[43midx\u001b[49m\u001b[38;5;241;43m.\u001b[39;49m\u001b[43mupper\u001b[49m\u001b[43m(\u001b[49m\u001b[43m)\u001b[49m\u001b[43m)\u001b[49m)\n\u001b[1;32m   2921\u001b[0m     annot\u001b[38;5;241m.\u001b[39mappend(\u001b[38;5;28mlist\u001b[39m(idx))\n\u001b[1;32m   2923\u001b[0m     has_indels \u001b[38;5;241m=\u001b[39m \u001b[38;5;28;01mFalse\u001b[39;00m\n",
      "File \u001b[0;32m~/Edilytics/CRISPResso2/CRISPResso2/CRISPRessoPlot.py:2908\u001b[0m, in \u001b[0;36mprep_alleles_table.<locals>.<lambda>\u001b[0;34m(seq)\u001b[0m\n\u001b[1;32m   2892\u001b[0m \u001b[38;5;250m\u001b[39m\u001b[38;5;124;03m\"\"\"\u001b[39;00m\n\u001b[1;32m   2893\u001b[0m \u001b[38;5;124;03mPrepares a df of alleles for Plotting\u001b[39;00m\n\u001b[1;32m   2894\u001b[0m \u001b[38;5;124;03minput:\u001b[39;00m\n\u001b[0;32m   (...)\u001b[0m\n\u001b[1;32m   2905\u001b[0m \u001b[38;5;124;03m-is_reference: list of booleans for whether the read is equal to the reference\u001b[39;00m\n\u001b[1;32m   2906\u001b[0m \u001b[38;5;124;03m\"\"\"\u001b[39;00m\n\u001b[1;32m   2907\u001b[0m dna_to_numbers\u001b[38;5;241m=\u001b[39m{\u001b[38;5;124m'\u001b[39m\u001b[38;5;124m-\u001b[39m\u001b[38;5;124m'\u001b[39m:\u001b[38;5;241m0\u001b[39m,\u001b[38;5;124m'\u001b[39m\u001b[38;5;124mA\u001b[39m\u001b[38;5;124m'\u001b[39m:\u001b[38;5;241m1\u001b[39m,\u001b[38;5;124m'\u001b[39m\u001b[38;5;124mT\u001b[39m\u001b[38;5;124m'\u001b[39m:\u001b[38;5;241m2\u001b[39m,\u001b[38;5;124m'\u001b[39m\u001b[38;5;124mC\u001b[39m\u001b[38;5;124m'\u001b[39m:\u001b[38;5;241m3\u001b[39m,\u001b[38;5;124m'\u001b[39m\u001b[38;5;124mG\u001b[39m\u001b[38;5;124m'\u001b[39m:\u001b[38;5;241m4\u001b[39m,\u001b[38;5;124m'\u001b[39m\u001b[38;5;124mN\u001b[39m\u001b[38;5;124m'\u001b[39m:\u001b[38;5;241m5\u001b[39m}\n\u001b[0;32m-> 2908\u001b[0m seq_to_numbers\u001b[38;5;241m=\u001b[39m \u001b[38;5;28;01mlambda\u001b[39;00m seq: [dna_to_numbers[x] \u001b[38;5;28;01mfor\u001b[39;00m x \u001b[38;5;129;01min\u001b[39;00m seq]\n\u001b[1;32m   2910\u001b[0m X\u001b[38;5;241m=\u001b[39m[]\n\u001b[1;32m   2911\u001b[0m annot\u001b[38;5;241m=\u001b[39m[]\n",
      "File \u001b[0;32m~/Edilytics/CRISPResso2/CRISPResso2/CRISPRessoPlot.py:2908\u001b[0m, in \u001b[0;36m<listcomp>\u001b[0;34m(.0)\u001b[0m\n\u001b[1;32m   2892\u001b[0m \u001b[38;5;250m\u001b[39m\u001b[38;5;124;03m\"\"\"\u001b[39;00m\n\u001b[1;32m   2893\u001b[0m \u001b[38;5;124;03mPrepares a df of alleles for Plotting\u001b[39;00m\n\u001b[1;32m   2894\u001b[0m \u001b[38;5;124;03minput:\u001b[39;00m\n\u001b[0;32m   (...)\u001b[0m\n\u001b[1;32m   2905\u001b[0m \u001b[38;5;124;03m-is_reference: list of booleans for whether the read is equal to the reference\u001b[39;00m\n\u001b[1;32m   2906\u001b[0m \u001b[38;5;124;03m\"\"\"\u001b[39;00m\n\u001b[1;32m   2907\u001b[0m dna_to_numbers\u001b[38;5;241m=\u001b[39m{\u001b[38;5;124m'\u001b[39m\u001b[38;5;124m-\u001b[39m\u001b[38;5;124m'\u001b[39m:\u001b[38;5;241m0\u001b[39m,\u001b[38;5;124m'\u001b[39m\u001b[38;5;124mA\u001b[39m\u001b[38;5;124m'\u001b[39m:\u001b[38;5;241m1\u001b[39m,\u001b[38;5;124m'\u001b[39m\u001b[38;5;124mT\u001b[39m\u001b[38;5;124m'\u001b[39m:\u001b[38;5;241m2\u001b[39m,\u001b[38;5;124m'\u001b[39m\u001b[38;5;124mC\u001b[39m\u001b[38;5;124m'\u001b[39m:\u001b[38;5;241m3\u001b[39m,\u001b[38;5;124m'\u001b[39m\u001b[38;5;124mG\u001b[39m\u001b[38;5;124m'\u001b[39m:\u001b[38;5;241m4\u001b[39m,\u001b[38;5;124m'\u001b[39m\u001b[38;5;124mN\u001b[39m\u001b[38;5;124m'\u001b[39m:\u001b[38;5;241m5\u001b[39m}\n\u001b[0;32m-> 2908\u001b[0m seq_to_numbers\u001b[38;5;241m=\u001b[39m \u001b[38;5;28;01mlambda\u001b[39;00m seq: [\u001b[43mdna_to_numbers\u001b[49m\u001b[43m[\u001b[49m\u001b[43mx\u001b[49m\u001b[43m]\u001b[49m \u001b[38;5;28;01mfor\u001b[39;00m x \u001b[38;5;129;01min\u001b[39;00m seq]\n\u001b[1;32m   2910\u001b[0m X\u001b[38;5;241m=\u001b[39m[]\n\u001b[1;32m   2911\u001b[0m annot\u001b[38;5;241m=\u001b[39m[]\n",
      "\u001b[0;31mKeyError\u001b[0m: 'P'"
     ]
    }
   ],
   "source": [
    "CRISPRessoPlot.plot_alleles_table(**plot_9_inputs)"
   ]
  },
  {
   "cell_type": "code",
   "execution_count": 23,
   "id": "6279bd5e",
   "metadata": {},
   "outputs": [],
   "source": [
    "def pad_amino_acids(amino_acids, amino_acid_seq_length):\n",
    "        return amino_acids + [''] * (amino_acid_seq_length - len(amino_acids))"
   ]
  },
  {
   "cell_type": "code",
   "execution_count": 46,
   "id": "e8221e0d",
   "metadata": {},
   "outputs": [
    {
     "data": {
      "text/plain": [
       "'GGGCCTTCGCGCACCTCATGGAATCCCTTCTGCAGCACCTGGATCGCTTTT'"
      ]
     },
     "execution_count": 46,
     "metadata": {},
     "output_type": "execute_result"
    }
   ],
   "source": [
    "df_alleles.iloc[0]['Aligned_Sequence'][exon_positions[0] + 4:exon_positions[-1] + 4 + 1]"
   ]
  },
  {
   "cell_type": "code",
   "execution_count": 42,
   "id": "d9d3b870",
   "metadata": {},
   "outputs": [
    {
     "data": {
      "text/plain": [
       "'GGGCCTTCGCGCACCTCATGGAATCCCTTCTGCAGCACCTGGATCGCTTTT'"
      ]
     },
     "execution_count": 42,
     "metadata": {},
     "output_type": "execute_result"
    }
   ],
   "source": [
    "coding_seq"
   ]
  },
  {
   "cell_type": "code",
   "execution_count": 44,
   "id": "d0ce18dc",
   "metadata": {},
   "outputs": [
    {
     "data": {
      "text/plain": [
       "'----CGGATG'"
      ]
     },
     "execution_count": 44,
     "metadata": {},
     "output_type": "execute_result"
    }
   ],
   "source": [
    "df_alleles.iloc[0]['Aligned_Sequence'][:10]\n",
    "df_alleles.iloc[0]['Reference_Sequence'][:10]"
   ]
  },
  {
   "cell_type": "code",
   "execution_count": 47,
   "id": "c487f868",
   "metadata": {},
   "outputs": [
    {
     "data": {
      "text/plain": [
       "'----CGGATGTTCCAATCAGTACGCAGAGAGTCGCCGTCTCCAAGGTGAAAGCGGAAGTAGGGCCTTCGCGCACCTCATGGAATCCCTTCTGCAGCACCTGGATCGCTTTTCCGAGCTTCTGGCGGTCTCAAGCACTACCTACGTCAGCACCTGGGACCCCGCCACCGTGCGCCGGGCCTTGCAGTGGGCGCGCTACCTGCGCCACATCCATCGGCGCTTTGGTCGG-----------------------'"
      ]
     },
     "execution_count": 47,
     "metadata": {},
     "output_type": "execute_result"
    }
   ],
   "source": [
    "df_alleles.iloc[0]['Reference_Sequence']"
   ]
  },
  {
   "cell_type": "markdown",
   "id": "6bead3b6",
   "metadata": {},
   "source": [
    "in the above example, there's a 4 bp insertion at the start of the aligned sequence (which can be seen in the aligned reference sequence). This means `exon_positions` is off by 4 bps."
   ]
  },
  {
   "cell_type": "code",
   "execution_count": 48,
   "id": "9f3c8976",
   "metadata": {},
   "outputs": [
    {
     "data": {
      "text/plain": [
       "6      ----CGGATGTTCCAATCAGTACGCAGAGAGTCGCCGTCTCCAAGG...\n",
       "12     ----CGGATGTTCCAATCAGTACGCAGAGAGTCGCCGTCTCCAAGG...\n",
       "56     ----CGGATGTTCCAATCAGTACGCAGAGAGTCGCCGTCTCCAAGG...\n",
       "29     ----CGGATGTTCCAATCAGTACGCAGAGAGTCGCCGTCTCCAAGG...\n",
       "110    ----CGGATGTTCCAATCAGTACGCAGAGAGTCGCCGTCTCCAAGG...\n",
       "Name: Reference_Sequence, dtype: object"
      ]
     },
     "execution_count": 48,
     "metadata": {},
     "output_type": "execute_result"
    }
   ],
   "source": [
    "df_alleles['Reference_Sequence'].head()"
   ]
  },
  {
   "cell_type": "markdown",
   "id": "4666016b",
   "metadata": {},
   "source": [
    "we may be able to use `df_alleles['ref_positions']`"
   ]
  },
  {
   "cell_type": "code",
   "execution_count": 51,
   "id": "538bb779",
   "metadata": {},
   "outputs": [
    {
     "data": {
      "text/plain": [
       "87"
      ]
     },
     "execution_count": 51,
     "metadata": {},
     "output_type": "execute_result"
    }
   ],
   "source": [
    "cut_point = 91\n",
    "df_alleles.iloc[0]['ref_positions'][cut_point]"
   ]
  },
  {
   "cell_type": "markdown",
   "id": "fbc40b6a",
   "metadata": {},
   "source": [
    "## Reference to Read Coord Conversion"
   ]
  },
  {
   "cell_type": "code",
   "execution_count": 42,
   "id": "e8c0830f",
   "metadata": {},
   "outputs": [],
   "source": [
    "aligned_seq = df_alleles.iloc[0]['Aligned_Sequence']\n",
    "reference_seq = df_alleles.iloc[0]['Reference_Sequence']"
   ]
  },
  {
   "cell_type": "code",
   "execution_count": 58,
   "id": "ea0dfc69",
   "metadata": {},
   "outputs": [
    {
     "name": "stdout",
     "output_type": "stream",
     "text": [
      "----CGGATGTTCCAATCAGTACGCAGAGAGTCGCCGTCTCCAAGGTGAAAGCGGAAGTAGGGCCTTCGCGCACCTCATGGAATCCCTTCTGCAGCACCTGGATCGCTTTTCCGAGCTTCTGGCGGTCTCAAGCACTACCTACGTCAGCACCTGGGACCCCGCCACCGTGCGCCGGGCCTTGCAGTGGGCGCGCTACCTGCGCCACATCCATCGGCGCTTTGGTCGG-----------------------\n",
      "ACATCGGATGTTCCAATCAGTACGCAGAGAGTCGCCGTCTCCAAGGTGAAAGCGGAAGTAGGGCCTTCGCGCACCTCATGGAATCCCTTCTGCAGCACCTGGATCGCTTTTCCGAGCTTCTGGCGGTCTCAAGCACTACCTACGTCAGCACCTGGGACCCCGCCACCGTGCGCCGGGCCTTGCAGTGGGCGCGCTACCTGCGCCACATCCATCGGCGCTTTGGTCGGCATGGCCCCATTCGCACGGCTCT\n"
     ]
    },
    {
     "data": {
      "text/plain": [
       "True"
      ]
     },
     "execution_count": 58,
     "metadata": {},
     "output_type": "execute_result"
    }
   ],
   "source": [
    "print(reference_seq)\n",
    "print(aligned_seq)\n",
    "len(aligned_seq) == len(reference_seq)"
   ]
  },
  {
   "cell_type": "code",
   "execution_count": 13,
   "id": "100947c9",
   "metadata": {},
   "outputs": [],
   "source": [
    "ref =     '--ACT--CTCGTC'\n",
    "aligned = 'GGACTGGCT--TC'\n",
    "\n",
    "# ref_to_aligned_coords = [-1, -1, 0, 1, 2, 2, 2, 3, 4, 7, 8 ]"
   ]
  },
  {
   "cell_type": "code",
   "execution_count": 14,
   "id": "9a1cf400",
   "metadata": {},
   "outputs": [
    {
     "data": {
      "text/plain": [
       "([-1, -1, 0, 1, 2, 2, 2, 3, 4, 7, 8], [0, 0, 0, 1, 2, 3, 3, 3, 4, 7, 8])"
      ]
     },
     "execution_count": 14,
     "metadata": {},
     "output_type": "execute_result"
    }
   ],
   "source": [
    "CRISPRessoShared.get_relative_coordinates(ref, aligned)"
   ]
  },
  {
   "cell_type": "code",
   "execution_count": 15,
   "id": "e2135abe",
   "metadata": {},
   "outputs": [
    {
     "data": {
      "text/html": [
       "<div>\n",
       "<style scoped>\n",
       "    .dataframe tbody tr th:only-of-type {\n",
       "        vertical-align: middle;\n",
       "    }\n",
       "\n",
       "    .dataframe tbody tr th {\n",
       "        vertical-align: top;\n",
       "    }\n",
       "\n",
       "    .dataframe thead th {\n",
       "        text-align: right;\n",
       "    }\n",
       "</style>\n",
       "<table border=\"1\" class=\"dataframe\">\n",
       "  <thead>\n",
       "    <tr style=\"text-align: right;\">\n",
       "      <th></th>\n",
       "      <th>#Reads</th>\n",
       "      <th>Aligned_Sequence</th>\n",
       "      <th>Reference_Sequence</th>\n",
       "      <th>n_inserted</th>\n",
       "      <th>n_deleted</th>\n",
       "      <th>n_mutated</th>\n",
       "      <th>Reference_Name</th>\n",
       "      <th>Read_Status</th>\n",
       "      <th>Aligned_Reference_Names</th>\n",
       "      <th>Aligned_Reference_Scores</th>\n",
       "      <th>ref_positions</th>\n",
       "      <th>%Reads</th>\n",
       "      <th>contains dsODN fw</th>\n",
       "      <th>contains dsODN rv</th>\n",
       "      <th>contains dsODN</th>\n",
       "      <th>contains dsODN fragment fw</th>\n",
       "      <th>contains dsODN fragment rv</th>\n",
       "      <th>contains dsODN fragment</th>\n",
       "    </tr>\n",
       "  </thead>\n",
       "  <tbody>\n",
       "    <tr>\n",
       "      <th>6</th>\n",
       "      <td>3</td>\n",
       "      <td>ACATCGGATGTTCCAATCAGTACGCAGAGAGTCGCCGTCTCCAAGG...</td>\n",
       "      <td>----CGGATGTTCCAATCAGTACGCAGAGAGTCGCCGTCTCCAAGG...</td>\n",
       "      <td>0</td>\n",
       "      <td>0</td>\n",
       "      <td>0</td>\n",
       "      <td>FANC</td>\n",
       "      <td>UNMODIFIED</td>\n",
       "      <td>FANC</td>\n",
       "      <td>89.2&amp;84.4</td>\n",
       "      <td>[-1, -1, -1, -1, 0, 1, 2, 3, 4, 5, 6, 7, 8, 9,...</td>\n",
       "      <td>1.442308</td>\n",
       "      <td>False</td>\n",
       "      <td>False</td>\n",
       "      <td>False</td>\n",
       "      <td>False</td>\n",
       "      <td>False</td>\n",
       "      <td>False</td>\n",
       "    </tr>\n",
       "    <tr>\n",
       "      <th>12</th>\n",
       "      <td>3</td>\n",
       "      <td>AGAGCGGATGTTCCAATCAGTACGCAGAGAGTCGCCGTCTCCAAGG...</td>\n",
       "      <td>----CGGATGTTCCAATCAGTACGCAGAGAGTCGCCGTCTCCAAGG...</td>\n",
       "      <td>0</td>\n",
       "      <td>0</td>\n",
       "      <td>0</td>\n",
       "      <td>FANC</td>\n",
       "      <td>UNMODIFIED</td>\n",
       "      <td>FANC</td>\n",
       "      <td>89.2&amp;84.8</td>\n",
       "      <td>[-1, -1, -1, -1, 0, 1, 2, 3, 4, 5, 6, 7, 8, 9,...</td>\n",
       "      <td>1.442308</td>\n",
       "      <td>False</td>\n",
       "      <td>False</td>\n",
       "      <td>False</td>\n",
       "      <td>False</td>\n",
       "      <td>False</td>\n",
       "      <td>False</td>\n",
       "    </tr>\n",
       "    <tr>\n",
       "      <th>56</th>\n",
       "      <td>3</td>\n",
       "      <td>AGGGCGGATGTTCCAATCAGTACGCAGAGAGTCGCCGTCTCCAAGG...</td>\n",
       "      <td>----CGGATGTTCCAATCAGTACGCAGAGAGTCGCCGTCTCCAAGG...</td>\n",
       "      <td>0</td>\n",
       "      <td>0</td>\n",
       "      <td>0</td>\n",
       "      <td>FANC</td>\n",
       "      <td>UNMODIFIED</td>\n",
       "      <td>FANC</td>\n",
       "      <td>89.2&amp;85.2</td>\n",
       "      <td>[-1, -1, -1, -1, 0, 1, 2, 3, 4, 5, 6, 7, 8, 9,...</td>\n",
       "      <td>1.442308</td>\n",
       "      <td>False</td>\n",
       "      <td>False</td>\n",
       "      <td>False</td>\n",
       "      <td>False</td>\n",
       "      <td>False</td>\n",
       "      <td>False</td>\n",
       "    </tr>\n",
       "    <tr>\n",
       "      <th>29</th>\n",
       "      <td>3</td>\n",
       "      <td>GCAGCGGATGTTCCAATCAGTACGCAGAGAGTCGCCGTCTCCAAGG...</td>\n",
       "      <td>----CGGATGTTCCAATCAGTACGCAGAGAGTCGCCGTCTCCAAGG...</td>\n",
       "      <td>0</td>\n",
       "      <td>0</td>\n",
       "      <td>0</td>\n",
       "      <td>FANC</td>\n",
       "      <td>UNMODIFIED</td>\n",
       "      <td>FANC</td>\n",
       "      <td>89.2&amp;84.861</td>\n",
       "      <td>[-1, -1, -1, -1, 0, 1, 2, 3, 4, 5, 6, 7, 8, 9,...</td>\n",
       "      <td>1.442308</td>\n",
       "      <td>False</td>\n",
       "      <td>False</td>\n",
       "      <td>False</td>\n",
       "      <td>False</td>\n",
       "      <td>False</td>\n",
       "      <td>False</td>\n",
       "    </tr>\n",
       "    <tr>\n",
       "      <th>110</th>\n",
       "      <td>3</td>\n",
       "      <td>GGAGCGGATGTTCCAATCAGTACGCAGAGAGTCGCCGTCTCCAAGG...</td>\n",
       "      <td>----CGGATGTTCCAATCAGTACGCAGAGAGTCGCCGTCTCCAAGG...</td>\n",
       "      <td>0</td>\n",
       "      <td>0</td>\n",
       "      <td>0</td>\n",
       "      <td>FANC</td>\n",
       "      <td>UNMODIFIED</td>\n",
       "      <td>FANC</td>\n",
       "      <td>89.2&amp;84.8</td>\n",
       "      <td>[-1, -1, -1, -1, 0, 1, 2, 3, 4, 5, 6, 7, 8, 9,...</td>\n",
       "      <td>1.442308</td>\n",
       "      <td>False</td>\n",
       "      <td>False</td>\n",
       "      <td>False</td>\n",
       "      <td>False</td>\n",
       "      <td>False</td>\n",
       "      <td>False</td>\n",
       "    </tr>\n",
       "  </tbody>\n",
       "</table>\n",
       "</div>"
      ],
      "text/plain": [
       "     #Reads                                   Aligned_Sequence  \\\n",
       "6         3  ACATCGGATGTTCCAATCAGTACGCAGAGAGTCGCCGTCTCCAAGG...   \n",
       "12        3  AGAGCGGATGTTCCAATCAGTACGCAGAGAGTCGCCGTCTCCAAGG...   \n",
       "56        3  AGGGCGGATGTTCCAATCAGTACGCAGAGAGTCGCCGTCTCCAAGG...   \n",
       "29        3  GCAGCGGATGTTCCAATCAGTACGCAGAGAGTCGCCGTCTCCAAGG...   \n",
       "110       3  GGAGCGGATGTTCCAATCAGTACGCAGAGAGTCGCCGTCTCCAAGG...   \n",
       "\n",
       "                                    Reference_Sequence  n_inserted  n_deleted  \\\n",
       "6    ----CGGATGTTCCAATCAGTACGCAGAGAGTCGCCGTCTCCAAGG...           0          0   \n",
       "12   ----CGGATGTTCCAATCAGTACGCAGAGAGTCGCCGTCTCCAAGG...           0          0   \n",
       "56   ----CGGATGTTCCAATCAGTACGCAGAGAGTCGCCGTCTCCAAGG...           0          0   \n",
       "29   ----CGGATGTTCCAATCAGTACGCAGAGAGTCGCCGTCTCCAAGG...           0          0   \n",
       "110  ----CGGATGTTCCAATCAGTACGCAGAGAGTCGCCGTCTCCAAGG...           0          0   \n",
       "\n",
       "     n_mutated Reference_Name Read_Status Aligned_Reference_Names  \\\n",
       "6            0           FANC  UNMODIFIED                    FANC   \n",
       "12           0           FANC  UNMODIFIED                    FANC   \n",
       "56           0           FANC  UNMODIFIED                    FANC   \n",
       "29           0           FANC  UNMODIFIED                    FANC   \n",
       "110          0           FANC  UNMODIFIED                    FANC   \n",
       "\n",
       "    Aligned_Reference_Scores  \\\n",
       "6                  89.2&84.4   \n",
       "12                 89.2&84.8   \n",
       "56                 89.2&85.2   \n",
       "29               89.2&84.861   \n",
       "110                89.2&84.8   \n",
       "\n",
       "                                         ref_positions    %Reads  \\\n",
       "6    [-1, -1, -1, -1, 0, 1, 2, 3, 4, 5, 6, 7, 8, 9,...  1.442308   \n",
       "12   [-1, -1, -1, -1, 0, 1, 2, 3, 4, 5, 6, 7, 8, 9,...  1.442308   \n",
       "56   [-1, -1, -1, -1, 0, 1, 2, 3, 4, 5, 6, 7, 8, 9,...  1.442308   \n",
       "29   [-1, -1, -1, -1, 0, 1, 2, 3, 4, 5, 6, 7, 8, 9,...  1.442308   \n",
       "110  [-1, -1, -1, -1, 0, 1, 2, 3, 4, 5, 6, 7, 8, 9,...  1.442308   \n",
       "\n",
       "     contains dsODN fw  contains dsODN rv  contains dsODN  \\\n",
       "6                False              False           False   \n",
       "12               False              False           False   \n",
       "56               False              False           False   \n",
       "29               False              False           False   \n",
       "110              False              False           False   \n",
       "\n",
       "     contains dsODN fragment fw  contains dsODN fragment rv  \\\n",
       "6                         False                       False   \n",
       "12                        False                       False   \n",
       "56                        False                       False   \n",
       "29                        False                       False   \n",
       "110                       False                       False   \n",
       "\n",
       "     contains dsODN fragment  \n",
       "6                      False  \n",
       "12                     False  \n",
       "56                     False  \n",
       "29                     False  \n",
       "110                    False  "
      ]
     },
     "execution_count": 15,
     "metadata": {},
     "output_type": "execute_result"
    }
   ],
   "source": [
    "df_alleles.head()"
   ]
  },
  {
   "cell_type": "code",
   "execution_count": 16,
   "id": "68f7f5c0",
   "metadata": {},
   "outputs": [],
   "source": [
    "seq = df_alleles.iloc[0]['Aligned_Sequence']\n",
    "ref = df_alleles.iloc[0]['Reference_Sequence']"
   ]
  },
  {
   "cell_type": "markdown",
   "id": "195ccce1",
   "metadata": {},
   "source": [
    "## AA Alignment"
   ]
  },
  {
   "cell_type": "code",
   "execution_count": 78,
   "id": "f303889e",
   "metadata": {},
   "outputs": [],
   "source": [
    "AA_MATRIX = CRISPResso2Align.read_matrix('./CRISPResso2/BLOSUM62')"
   ]
  },
  {
   "cell_type": "code",
   "execution_count": 95,
   "id": "92a91d3d",
   "metadata": {},
   "outputs": [],
   "source": [
    "seq1, seq2, score = CRISPResso2Align.global_align(seqj:='GPSRTSWNPFCSTWIAF', seqi:='GPSRTSWNPFCTWIAF', matrix=AA_MATRIX, gap_incentive=np.zeros(len(seqi) + 1, dtype=int))"
   ]
  },
  {
   "cell_type": "code",
   "execution_count": 96,
   "id": "ef7189fa",
   "metadata": {},
   "outputs": [
    {
     "name": "stdout",
     "output_type": "stream",
     "text": [
      "GPSRTSWNPFCSTWIAF GPSRTSWNPFC-TWIAF 94.118\n"
     ]
    }
   ],
   "source": [
    "print(seq1, seq2, score)"
   ]
  },
  {
   "cell_type": "markdown",
   "id": "5976fc6b",
   "metadata": {},
   "source": []
  },
  {
   "cell_type": "code",
   "execution_count": 86,
   "id": "c4dcfb0a",
   "metadata": {},
   "outputs": [
    {
     "data": {
      "text/plain": [
       "'ATTA'"
      ]
     },
     "execution_count": 86,
     "metadata": {},
     "output_type": "execute_result"
    }
   ],
   "source": [
    "seq2"
   ]
  },
  {
   "cell_type": "code",
   "execution_count": 87,
   "id": "137f022a",
   "metadata": {},
   "outputs": [
    {
     "data": {
      "text/plain": [
       "100.0"
      ]
     },
     "execution_count": 87,
     "metadata": {},
     "output_type": "execute_result"
    }
   ],
   "source": [
    "score"
   ]
  },
  {
   "cell_type": "code",
   "execution_count": 97,
   "id": "d4f776e0",
   "metadata": {},
   "outputs": [
    {
     "data": {
      "text/html": [
       "<div>\n",
       "<style scoped>\n",
       "    .dataframe tbody tr th:only-of-type {\n",
       "        vertical-align: middle;\n",
       "    }\n",
       "\n",
       "    .dataframe tbody tr th {\n",
       "        vertical-align: top;\n",
       "    }\n",
       "\n",
       "    .dataframe thead th {\n",
       "        text-align: right;\n",
       "    }\n",
       "</style>\n",
       "<table border=\"1\" class=\"dataframe\">\n",
       "  <thead>\n",
       "    <tr style=\"text-align: right;\">\n",
       "      <th></th>\n",
       "      <th>Reference_Sequence</th>\n",
       "      <th>Unedited</th>\n",
       "      <th>n_deleted</th>\n",
       "      <th>n_inserted</th>\n",
       "      <th>n_mutated</th>\n",
       "      <th>#Reads</th>\n",
       "      <th>%Reads</th>\n",
       "    </tr>\n",
       "    <tr>\n",
       "      <th>Aligned_Sequence</th>\n",
       "      <th></th>\n",
       "      <th></th>\n",
       "      <th></th>\n",
       "      <th></th>\n",
       "      <th></th>\n",
       "      <th></th>\n",
       "      <th></th>\n",
       "    </tr>\n",
       "  </thead>\n",
       "  <tbody>\n",
       "    <tr>\n",
       "      <th>GGGCCTTCGCGCACCTCATGGAATCCCTTCTGCAGCACCTGGATCGCTTTT</th>\n",
       "      <td>GGGCCTTCGCGCACCTCATGGAATCCCTTCTGCAGCACCTGGATCG...</td>\n",
       "      <td>True</td>\n",
       "      <td>0</td>\n",
       "      <td>0</td>\n",
       "      <td>0</td>\n",
       "      <td>162</td>\n",
       "      <td>77.884615</td>\n",
       "    </tr>\n",
       "    <tr>\n",
       "      <th>GGGCCTTCGCGCACCTCATGGAATCCCTTCTGCA---CCTGGATCGCTTTT</th>\n",
       "      <td>GGGCCTTCGCGCACCTCATGGAATCCCTTCTGCAGCACCTGGATCG...</td>\n",
       "      <td>True</td>\n",
       "      <td>0</td>\n",
       "      <td>0</td>\n",
       "      <td>0</td>\n",
       "      <td>8</td>\n",
       "      <td>3.846154</td>\n",
       "    </tr>\n",
       "    <tr>\n",
       "      <th>GGGCCTTCGCGCACCTCATGGAATCCCTTCTG----ACCTGGATCGCTTTT</th>\n",
       "      <td>GGGCCTTCGCGCACCTCATGGAATCCCTTCTGCAGCACCTGGATCG...</td>\n",
       "      <td>True</td>\n",
       "      <td>0</td>\n",
       "      <td>0</td>\n",
       "      <td>0</td>\n",
       "      <td>2</td>\n",
       "      <td>0.961538</td>\n",
       "    </tr>\n",
       "    <tr>\n",
       "      <th>GGGCCTTCGCGCACCTCATGGAATCCCTTCTGCAGC--CTGGATCGCTTTT</th>\n",
       "      <td>GGGCCTTCGCGCACCTCATGGAATCCCTTCTGCAGCACCTGGATCG...</td>\n",
       "      <td>True</td>\n",
       "      <td>0</td>\n",
       "      <td>0</td>\n",
       "      <td>0</td>\n",
       "      <td>2</td>\n",
       "      <td>0.961538</td>\n",
       "    </tr>\n",
       "    <tr>\n",
       "      <th>GGGCCTTCGCGCACCTCATGGAATCCCTTCTGCAGCCACCTGGATCGCTTT</th>\n",
       "      <td>GGGCCTTCGCGCACCTCATGGAATCCCTTCTGCAGC-ACCTGGATC...</td>\n",
       "      <td>True</td>\n",
       "      <td>0</td>\n",
       "      <td>0</td>\n",
       "      <td>0</td>\n",
       "      <td>2</td>\n",
       "      <td>0.961538</td>\n",
       "    </tr>\n",
       "    <tr>\n",
       "      <th>GGGCCTTCGCGCACCTCATGGAATC---TGTGGATAACC-GTATTACCGCC</th>\n",
       "      <td>GGGCCTTCGCGCACCTCATGGAATCCCTTCTGCAGCACCTGGATCG...</td>\n",
       "      <td>True</td>\n",
       "      <td>0</td>\n",
       "      <td>0</td>\n",
       "      <td>0</td>\n",
       "      <td>1</td>\n",
       "      <td>0.480769</td>\n",
       "    </tr>\n",
       "    <tr>\n",
       "      <th>GGGCCTTCGCGCACCTCATGGAATCCCTTC------ACCTGGATCGCTTTT</th>\n",
       "      <td>GGGCCTTCGCGCACCTCATGGAATCCCTTCTGCAGCACCTGGATCG...</td>\n",
       "      <td>True</td>\n",
       "      <td>0</td>\n",
       "      <td>0</td>\n",
       "      <td>0</td>\n",
       "      <td>1</td>\n",
       "      <td>0.480769</td>\n",
       "    </tr>\n",
       "    <tr>\n",
       "      <th>GGGCCTTCGCGCACCTCATGGAATCCCTTCT-----ACCTGGATCGCTTTT</th>\n",
       "      <td>GGGCCTTCGCGCACCTCATGGAATCCCTTCTGCAGCACCTGGATCG...</td>\n",
       "      <td>True</td>\n",
       "      <td>0</td>\n",
       "      <td>0</td>\n",
       "      <td>0</td>\n",
       "      <td>1</td>\n",
       "      <td>0.480769</td>\n",
       "    </tr>\n",
       "    <tr>\n",
       "      <th>GGGCCTTCGCGCACCTCATGGAATCCCTTCT----CACCTGGATCGCTTTT</th>\n",
       "      <td>GGGCCTTCGCGCACCTCATGGAATCCCTTCTGCAGCACCTGGATCG...</td>\n",
       "      <td>True</td>\n",
       "      <td>0</td>\n",
       "      <td>0</td>\n",
       "      <td>0</td>\n",
       "      <td>1</td>\n",
       "      <td>0.480769</td>\n",
       "    </tr>\n",
       "    <tr>\n",
       "      <th>GGGCCTTCGCGCACCTCATGGAATCCCTTCTGC-----CTGGATCGCTTTT</th>\n",
       "      <td>GGGCCTTCGCGCACCTCATGGAATCCCTTCTGCAGCACCTGGATCG...</td>\n",
       "      <td>True</td>\n",
       "      <td>0</td>\n",
       "      <td>0</td>\n",
       "      <td>0</td>\n",
       "      <td>1</td>\n",
       "      <td>0.480769</td>\n",
       "    </tr>\n",
       "    <tr>\n",
       "      <th>GGGCCTTCGCGCACCTCATGGAATCCCTTCTGCA--ACCTGGATCGCTTTT</th>\n",
       "      <td>GGGCCTTCGCGCACCTCATGGAATCCCTTCTGCAGCACCTGGATCG...</td>\n",
       "      <td>True</td>\n",
       "      <td>0</td>\n",
       "      <td>0</td>\n",
       "      <td>0</td>\n",
       "      <td>1</td>\n",
       "      <td>0.480769</td>\n",
       "    </tr>\n",
       "    <tr>\n",
       "      <th>GGGCCTTCGCGCACCTCATGGAATCCCTTCTGCAGAAG--GGATCGCTTTT</th>\n",
       "      <td>GGGCCTTCGCGCACCTCATGGAATCCCTTCTGCAGCACCTGGATCG...</td>\n",
       "      <td>True</td>\n",
       "      <td>0</td>\n",
       "      <td>0</td>\n",
       "      <td>0</td>\n",
       "      <td>1</td>\n",
       "      <td>0.480769</td>\n",
       "    </tr>\n",
       "    <tr>\n",
       "      <th>GGGCCTTCGCGCACCTCATGGAATCCCTTCTGCAGATCAGCGGGGATCCCT</th>\n",
       "      <td>GGGCCTTCGCGCACCTCATGGAATCCCTTCTGCAGC----------...</td>\n",
       "      <td>True</td>\n",
       "      <td>0</td>\n",
       "      <td>0</td>\n",
       "      <td>0</td>\n",
       "      <td>1</td>\n",
       "      <td>0.480769</td>\n",
       "    </tr>\n",
       "    <tr>\n",
       "      <th>GGGCCTTCGCGCACCTCATGGAATCCCTTCTGCAGC-----GATCGCTTTT</th>\n",
       "      <td>GGGCCTTCGCGCACCTCATGGAATCCCTTCTGCAGCACCTGGATCG...</td>\n",
       "      <td>True</td>\n",
       "      <td>0</td>\n",
       "      <td>0</td>\n",
       "      <td>0</td>\n",
       "      <td>1</td>\n",
       "      <td>0.480769</td>\n",
       "    </tr>\n",
       "    <tr>\n",
       "      <th>GGGCCTTCGCGCACCTCATGGAATCCCTTCTGCAGC---TGGATCGCTTTT</th>\n",
       "      <td>GGGCCTTCGCGCACCTCATGGAATCCCTTCTGCAGCACCTGGATCG...</td>\n",
       "      <td>True</td>\n",
       "      <td>0</td>\n",
       "      <td>0</td>\n",
       "      <td>0</td>\n",
       "      <td>1</td>\n",
       "      <td>0.480769</td>\n",
       "    </tr>\n",
       "    <tr>\n",
       "      <th>GGGCCTTCGCGCACCTCATGGAATCCCTTCTGCAGCAACCTGGATCGCTTT</th>\n",
       "      <td>GGGCCTTCGCGCACCTCATGGAATCCCTTCTGCAGC-ACCTGGATC...</td>\n",
       "      <td>True</td>\n",
       "      <td>0</td>\n",
       "      <td>0</td>\n",
       "      <td>0</td>\n",
       "      <td>1</td>\n",
       "      <td>0.480769</td>\n",
       "    </tr>\n",
       "    <tr>\n",
       "      <th>GGGCCTTCGCGCACCTCATGGAATCCCTTCTGCAGCAC-TGGATCGCTTTT</th>\n",
       "      <td>GGGCCTTCGCGCACCTCATGGAATCCCTTCTGCAGCACCTGGATCG...</td>\n",
       "      <td>True</td>\n",
       "      <td>0</td>\n",
       "      <td>0</td>\n",
       "      <td>0</td>\n",
       "      <td>1</td>\n",
       "      <td>0.480769</td>\n",
       "    </tr>\n",
       "    <tr>\n",
       "      <th>GGGCCTTCGCGCACCTCATGGAATCCCTTCTGCAGCATCTGGATCGCTTTT</th>\n",
       "      <td>GGGCCTTCGCGCACCTCATGGAATCCCTTCTGCAGCACCTGGATCG...</td>\n",
       "      <td>True</td>\n",
       "      <td>0</td>\n",
       "      <td>0</td>\n",
       "      <td>0</td>\n",
       "      <td>1</td>\n",
       "      <td>0.480769</td>\n",
       "    </tr>\n",
       "    <tr>\n",
       "      <th>GGGCCTTCGCGCACCTCATGGAATCCCTTCTGCAGCTACCTGGATCGCTTT</th>\n",
       "      <td>GGGCCTTCGCGCACCTCATGGAATCCCTTCTGCAGC-ACCTGGATC...</td>\n",
       "      <td>True</td>\n",
       "      <td>0</td>\n",
       "      <td>0</td>\n",
       "      <td>0</td>\n",
       "      <td>1</td>\n",
       "      <td>0.480769</td>\n",
       "    </tr>\n",
       "    <tr>\n",
       "      <th>GGGCCTTCGCGCACCTCATGGAATCCCTTCTGCAGCTTCT----CGCTTTT</th>\n",
       "      <td>GGGCCTTCGCGCACCTCATGGAATCCCTTCTGCAGCACCTGGATCG...</td>\n",
       "      <td>True</td>\n",
       "      <td>0</td>\n",
       "      <td>0</td>\n",
       "      <td>0</td>\n",
       "      <td>1</td>\n",
       "      <td>0.480769</td>\n",
       "    </tr>\n",
       "    <tr>\n",
       "      <th>GGGCCTTCGCGTACCTCATGGAATCCCTTCTGCAGCACCTGGATCGCTTTT</th>\n",
       "      <td>GGGCCTTCGCGCACCTCATGGAATCCCTTCTGCAGCACCTGGATCG...</td>\n",
       "      <td>True</td>\n",
       "      <td>0</td>\n",
       "      <td>0</td>\n",
       "      <td>0</td>\n",
       "      <td>1</td>\n",
       "      <td>0.480769</td>\n",
       "    </tr>\n",
       "  </tbody>\n",
       "</table>\n",
       "</div>"
      ],
      "text/plain": [
       "                                                                                   Reference_Sequence  \\\n",
       "Aligned_Sequence                                                                                        \n",
       "GGGCCTTCGCGCACCTCATGGAATCCCTTCTGCAGCACCTGGATCGC...  GGGCCTTCGCGCACCTCATGGAATCCCTTCTGCAGCACCTGGATCG...   \n",
       "GGGCCTTCGCGCACCTCATGGAATCCCTTCTGCA---CCTGGATCGC...  GGGCCTTCGCGCACCTCATGGAATCCCTTCTGCAGCACCTGGATCG...   \n",
       "GGGCCTTCGCGCACCTCATGGAATCCCTTCTG----ACCTGGATCGC...  GGGCCTTCGCGCACCTCATGGAATCCCTTCTGCAGCACCTGGATCG...   \n",
       "GGGCCTTCGCGCACCTCATGGAATCCCTTCTGCAGC--CTGGATCGC...  GGGCCTTCGCGCACCTCATGGAATCCCTTCTGCAGCACCTGGATCG...   \n",
       "GGGCCTTCGCGCACCTCATGGAATCCCTTCTGCAGCCACCTGGATCG...  GGGCCTTCGCGCACCTCATGGAATCCCTTCTGCAGC-ACCTGGATC...   \n",
       "GGGCCTTCGCGCACCTCATGGAATC---TGTGGATAACC-GTATTAC...  GGGCCTTCGCGCACCTCATGGAATCCCTTCTGCAGCACCTGGATCG...   \n",
       "GGGCCTTCGCGCACCTCATGGAATCCCTTC------ACCTGGATCGC...  GGGCCTTCGCGCACCTCATGGAATCCCTTCTGCAGCACCTGGATCG...   \n",
       "GGGCCTTCGCGCACCTCATGGAATCCCTTCT-----ACCTGGATCGC...  GGGCCTTCGCGCACCTCATGGAATCCCTTCTGCAGCACCTGGATCG...   \n",
       "GGGCCTTCGCGCACCTCATGGAATCCCTTCT----CACCTGGATCGC...  GGGCCTTCGCGCACCTCATGGAATCCCTTCTGCAGCACCTGGATCG...   \n",
       "GGGCCTTCGCGCACCTCATGGAATCCCTTCTGC-----CTGGATCGC...  GGGCCTTCGCGCACCTCATGGAATCCCTTCTGCAGCACCTGGATCG...   \n",
       "GGGCCTTCGCGCACCTCATGGAATCCCTTCTGCA--ACCTGGATCGC...  GGGCCTTCGCGCACCTCATGGAATCCCTTCTGCAGCACCTGGATCG...   \n",
       "GGGCCTTCGCGCACCTCATGGAATCCCTTCTGCAGAAG--GGATCGC...  GGGCCTTCGCGCACCTCATGGAATCCCTTCTGCAGCACCTGGATCG...   \n",
       "GGGCCTTCGCGCACCTCATGGAATCCCTTCTGCAGATCAGCGGGGAT...  GGGCCTTCGCGCACCTCATGGAATCCCTTCTGCAGC----------...   \n",
       "GGGCCTTCGCGCACCTCATGGAATCCCTTCTGCAGC-----GATCGC...  GGGCCTTCGCGCACCTCATGGAATCCCTTCTGCAGCACCTGGATCG...   \n",
       "GGGCCTTCGCGCACCTCATGGAATCCCTTCTGCAGC---TGGATCGC...  GGGCCTTCGCGCACCTCATGGAATCCCTTCTGCAGCACCTGGATCG...   \n",
       "GGGCCTTCGCGCACCTCATGGAATCCCTTCTGCAGCAACCTGGATCG...  GGGCCTTCGCGCACCTCATGGAATCCCTTCTGCAGC-ACCTGGATC...   \n",
       "GGGCCTTCGCGCACCTCATGGAATCCCTTCTGCAGCAC-TGGATCGC...  GGGCCTTCGCGCACCTCATGGAATCCCTTCTGCAGCACCTGGATCG...   \n",
       "GGGCCTTCGCGCACCTCATGGAATCCCTTCTGCAGCATCTGGATCGC...  GGGCCTTCGCGCACCTCATGGAATCCCTTCTGCAGCACCTGGATCG...   \n",
       "GGGCCTTCGCGCACCTCATGGAATCCCTTCTGCAGCTACCTGGATCG...  GGGCCTTCGCGCACCTCATGGAATCCCTTCTGCAGC-ACCTGGATC...   \n",
       "GGGCCTTCGCGCACCTCATGGAATCCCTTCTGCAGCTTCT----CGC...  GGGCCTTCGCGCACCTCATGGAATCCCTTCTGCAGCACCTGGATCG...   \n",
       "GGGCCTTCGCGTACCTCATGGAATCCCTTCTGCAGCACCTGGATCGC...  GGGCCTTCGCGCACCTCATGGAATCCCTTCTGCAGCACCTGGATCG...   \n",
       "\n",
       "                                                    Unedited  n_deleted  \\\n",
       "Aligned_Sequence                                                          \n",
       "GGGCCTTCGCGCACCTCATGGAATCCCTTCTGCAGCACCTGGATCGC...      True          0   \n",
       "GGGCCTTCGCGCACCTCATGGAATCCCTTCTGCA---CCTGGATCGC...      True          0   \n",
       "GGGCCTTCGCGCACCTCATGGAATCCCTTCTG----ACCTGGATCGC...      True          0   \n",
       "GGGCCTTCGCGCACCTCATGGAATCCCTTCTGCAGC--CTGGATCGC...      True          0   \n",
       "GGGCCTTCGCGCACCTCATGGAATCCCTTCTGCAGCCACCTGGATCG...      True          0   \n",
       "GGGCCTTCGCGCACCTCATGGAATC---TGTGGATAACC-GTATTAC...      True          0   \n",
       "GGGCCTTCGCGCACCTCATGGAATCCCTTC------ACCTGGATCGC...      True          0   \n",
       "GGGCCTTCGCGCACCTCATGGAATCCCTTCT-----ACCTGGATCGC...      True          0   \n",
       "GGGCCTTCGCGCACCTCATGGAATCCCTTCT----CACCTGGATCGC...      True          0   \n",
       "GGGCCTTCGCGCACCTCATGGAATCCCTTCTGC-----CTGGATCGC...      True          0   \n",
       "GGGCCTTCGCGCACCTCATGGAATCCCTTCTGCA--ACCTGGATCGC...      True          0   \n",
       "GGGCCTTCGCGCACCTCATGGAATCCCTTCTGCAGAAG--GGATCGC...      True          0   \n",
       "GGGCCTTCGCGCACCTCATGGAATCCCTTCTGCAGATCAGCGGGGAT...      True          0   \n",
       "GGGCCTTCGCGCACCTCATGGAATCCCTTCTGCAGC-----GATCGC...      True          0   \n",
       "GGGCCTTCGCGCACCTCATGGAATCCCTTCTGCAGC---TGGATCGC...      True          0   \n",
       "GGGCCTTCGCGCACCTCATGGAATCCCTTCTGCAGCAACCTGGATCG...      True          0   \n",
       "GGGCCTTCGCGCACCTCATGGAATCCCTTCTGCAGCAC-TGGATCGC...      True          0   \n",
       "GGGCCTTCGCGCACCTCATGGAATCCCTTCTGCAGCATCTGGATCGC...      True          0   \n",
       "GGGCCTTCGCGCACCTCATGGAATCCCTTCTGCAGCTACCTGGATCG...      True          0   \n",
       "GGGCCTTCGCGCACCTCATGGAATCCCTTCTGCAGCTTCT----CGC...      True          0   \n",
       "GGGCCTTCGCGTACCTCATGGAATCCCTTCTGCAGCACCTGGATCGC...      True          0   \n",
       "\n",
       "                                                    n_inserted  n_mutated  \\\n",
       "Aligned_Sequence                                                            \n",
       "GGGCCTTCGCGCACCTCATGGAATCCCTTCTGCAGCACCTGGATCGC...           0          0   \n",
       "GGGCCTTCGCGCACCTCATGGAATCCCTTCTGCA---CCTGGATCGC...           0          0   \n",
       "GGGCCTTCGCGCACCTCATGGAATCCCTTCTG----ACCTGGATCGC...           0          0   \n",
       "GGGCCTTCGCGCACCTCATGGAATCCCTTCTGCAGC--CTGGATCGC...           0          0   \n",
       "GGGCCTTCGCGCACCTCATGGAATCCCTTCTGCAGCCACCTGGATCG...           0          0   \n",
       "GGGCCTTCGCGCACCTCATGGAATC---TGTGGATAACC-GTATTAC...           0          0   \n",
       "GGGCCTTCGCGCACCTCATGGAATCCCTTC------ACCTGGATCGC...           0          0   \n",
       "GGGCCTTCGCGCACCTCATGGAATCCCTTCT-----ACCTGGATCGC...           0          0   \n",
       "GGGCCTTCGCGCACCTCATGGAATCCCTTCT----CACCTGGATCGC...           0          0   \n",
       "GGGCCTTCGCGCACCTCATGGAATCCCTTCTGC-----CTGGATCGC...           0          0   \n",
       "GGGCCTTCGCGCACCTCATGGAATCCCTTCTGCA--ACCTGGATCGC...           0          0   \n",
       "GGGCCTTCGCGCACCTCATGGAATCCCTTCTGCAGAAG--GGATCGC...           0          0   \n",
       "GGGCCTTCGCGCACCTCATGGAATCCCTTCTGCAGATCAGCGGGGAT...           0          0   \n",
       "GGGCCTTCGCGCACCTCATGGAATCCCTTCTGCAGC-----GATCGC...           0          0   \n",
       "GGGCCTTCGCGCACCTCATGGAATCCCTTCTGCAGC---TGGATCGC...           0          0   \n",
       "GGGCCTTCGCGCACCTCATGGAATCCCTTCTGCAGCAACCTGGATCG...           0          0   \n",
       "GGGCCTTCGCGCACCTCATGGAATCCCTTCTGCAGCAC-TGGATCGC...           0          0   \n",
       "GGGCCTTCGCGCACCTCATGGAATCCCTTCTGCAGCATCTGGATCGC...           0          0   \n",
       "GGGCCTTCGCGCACCTCATGGAATCCCTTCTGCAGCTACCTGGATCG...           0          0   \n",
       "GGGCCTTCGCGCACCTCATGGAATCCCTTCTGCAGCTTCT----CGC...           0          0   \n",
       "GGGCCTTCGCGTACCTCATGGAATCCCTTCTGCAGCACCTGGATCGC...           0          0   \n",
       "\n",
       "                                                    #Reads     %Reads  \n",
       "Aligned_Sequence                                                       \n",
       "GGGCCTTCGCGCACCTCATGGAATCCCTTCTGCAGCACCTGGATCGC...     162  77.884615  \n",
       "GGGCCTTCGCGCACCTCATGGAATCCCTTCTGCA---CCTGGATCGC...       8   3.846154  \n",
       "GGGCCTTCGCGCACCTCATGGAATCCCTTCTG----ACCTGGATCGC...       2   0.961538  \n",
       "GGGCCTTCGCGCACCTCATGGAATCCCTTCTGCAGC--CTGGATCGC...       2   0.961538  \n",
       "GGGCCTTCGCGCACCTCATGGAATCCCTTCTGCAGCCACCTGGATCG...       2   0.961538  \n",
       "GGGCCTTCGCGCACCTCATGGAATC---TGTGGATAACC-GTATTAC...       1   0.480769  \n",
       "GGGCCTTCGCGCACCTCATGGAATCCCTTC------ACCTGGATCGC...       1   0.480769  \n",
       "GGGCCTTCGCGCACCTCATGGAATCCCTTCT-----ACCTGGATCGC...       1   0.480769  \n",
       "GGGCCTTCGCGCACCTCATGGAATCCCTTCT----CACCTGGATCGC...       1   0.480769  \n",
       "GGGCCTTCGCGCACCTCATGGAATCCCTTCTGC-----CTGGATCGC...       1   0.480769  \n",
       "GGGCCTTCGCGCACCTCATGGAATCCCTTCTGCA--ACCTGGATCGC...       1   0.480769  \n",
       "GGGCCTTCGCGCACCTCATGGAATCCCTTCTGCAGAAG--GGATCGC...       1   0.480769  \n",
       "GGGCCTTCGCGCACCTCATGGAATCCCTTCTGCAGATCAGCGGGGAT...       1   0.480769  \n",
       "GGGCCTTCGCGCACCTCATGGAATCCCTTCTGCAGC-----GATCGC...       1   0.480769  \n",
       "GGGCCTTCGCGCACCTCATGGAATCCCTTCTGCAGC---TGGATCGC...       1   0.480769  \n",
       "GGGCCTTCGCGCACCTCATGGAATCCCTTCTGCAGCAACCTGGATCG...       1   0.480769  \n",
       "GGGCCTTCGCGCACCTCATGGAATCCCTTCTGCAGCAC-TGGATCGC...       1   0.480769  \n",
       "GGGCCTTCGCGCACCTCATGGAATCCCTTCTGCAGCATCTGGATCGC...       1   0.480769  \n",
       "GGGCCTTCGCGCACCTCATGGAATCCCTTCTGCAGCTACCTGGATCG...       1   0.480769  \n",
       "GGGCCTTCGCGCACCTCATGGAATCCCTTCTGCAGCTTCT----CGC...       1   0.480769  \n",
       "GGGCCTTCGCGTACCTCATGGAATCCCTTCTGCAGCACCTGGATCGC...       1   0.480769  "
      ]
     },
     "execution_count": 97,
     "metadata": {},
     "output_type": "execute_result"
    }
   ],
   "source": [
    "CRISPRessoShared.get_amino_acid_dataframe_around_cut_assymetrical()"
   ]
  },
  {
   "cell_type": "code",
   "execution_count": 36,
   "id": "fd32f828",
   "metadata": {},
   "outputs": [
    {
     "data": {
      "text/plain": [
       "0"
      ]
     },
     "execution_count": 36,
     "metadata": {},
     "output_type": "execute_result"
    }
   ],
   "source": [
    "1 // 3"
   ]
  },
  {
   "cell_type": "code",
   "execution_count": null,
   "id": "2bc9465b",
   "metadata": {},
   "outputs": [],
   "source": []
  }
 ],
 "metadata": {
  "kernelspec": {
   "display_name": "Python 3 (ipykernel)",
   "language": "python",
   "name": "python3"
  }
 },
 "nbformat": 4,
 "nbformat_minor": 5
}
