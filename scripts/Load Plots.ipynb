{
 "cells": [
  {
   "cell_type": "code",
   "execution_count": 1,
   "id": "5895c995",
   "metadata": {},
   "outputs": [],
   "source": [
    "import os\n",
    "import pandas as pd\n",
    "from CRISPResso2 import CRISPRessoShared, CRISPRessoPlot\n",
    "from collections import defaultdict\n",
    "import matplotlib.pyplot as plt\n",
    "import ast"
   ]
  },
  {
   "cell_type": "code",
   "execution_count": 2,
   "id": "1a0e9834",
   "metadata": {},
   "outputs": [],
   "source": [
    "%matplotlib inline"
   ]
  },
  {
   "cell_type": "code",
   "execution_count": 12,
   "id": "cf91acbb",
   "metadata": {},
   "outputs": [
    {
     "name": "stdout",
     "output_type": "stream",
     "text": [
      "Archive:  ../CRISPResso2_tests/cli_integration_tests/CRISPResso_on_params/Alleles_frequency_table.zip\n",
      "  inflating: Alleles_frequency_table.txt  \n"
     ]
    }
   ],
   "source": [
    "! unzip ../CRISPResso2_tests/cli_integration_tests/CRISPResso_on_params/Alleles_frequency_table.zip"
   ]
  },
  {
   "cell_type": "markdown",
   "id": "deac54fa",
   "metadata": {},
   "source": [
    "## Load info dict"
   ]
  },
  {
   "cell_type": "code",
   "execution_count": 3,
   "id": "96d3d0c0",
   "metadata": {},
   "outputs": [],
   "source": [
    "root = '../CRISPResso2_tests/cli_integration_tests/CRISPResso_on_params/'\n",
    "crispresso2_info = CRISPRessoShared.load_crispresso_info(root)"
   ]
  },
  {
   "cell_type": "code",
   "execution_count": 4,
   "id": "36319e7e",
   "metadata": {},
   "outputs": [],
   "source": [
    "refs = crispresso2_info['results']['refs']"
   ]
  },
  {
   "cell_type": "code",
   "execution_count": 5,
   "id": "76711c73",
   "metadata": {},
   "outputs": [],
   "source": [
    "sequence = refs['FANC']['sequence']"
   ]
  },
  {
   "cell_type": "code",
   "execution_count": 6,
   "id": "35c1721f",
   "metadata": {},
   "outputs": [
    {
     "data": {
      "text/plain": [
       "True"
      ]
     },
     "execution_count": 6,
     "metadata": {},
     "output_type": "execute_result"
    }
   ],
   "source": [
    "refs['FANC']['contains_coding_seq']"
   ]
  },
  {
   "cell_type": "code",
   "execution_count": 7,
   "id": "a383b527",
   "metadata": {},
   "outputs": [],
   "source": [
    "exon_positions = refs['FANC']['exon_positions']"
   ]
  },
  {
   "cell_type": "code",
   "execution_count": 8,
   "id": "090b4305",
   "metadata": {},
   "outputs": [],
   "source": [
    "coding_seq = ''.join([refs['FANC']['sequence'][i] for i in refs['FANC']['exon_positions']])"
   ]
  },
  {
   "cell_type": "markdown",
   "id": "33bbac51",
   "metadata": {},
   "source": [
    "## Get DF to Plot"
   ]
  },
  {
   "cell_type": "markdown",
   "id": "ee924b88",
   "metadata": {},
   "source": [
    "* Aligned Sequence is the aligned read from the fastq. '-' is a deletion.\n",
    "* Reference Sequence is the aligned reference sequence. '-' is an insertion.\n",
    "\n",
    "Our goal is to grab the coding sequences out of the aligned sequences. We'll use `CRISPRessoShared.get_dataframe_around_cut`"
   ]
  },
  {
   "cell_type": "code",
   "execution_count": 9,
   "id": "40b8a43d",
   "metadata": {},
   "outputs": [
    {
     "data": {
      "text/plain": [
       "[91, 188, 172]"
      ]
     },
     "execution_count": 9,
     "metadata": {},
     "output_type": "execute_result"
    }
   ],
   "source": [
    "refs['FANC']['sgRNA_cut_points']"
   ]
  },
  {
   "cell_type": "code",
   "execution_count": 10,
   "id": "6d11205a",
   "metadata": {},
   "outputs": [],
   "source": [
    "df_alleles = pd.read_csv('df_alleles.txt', sep='\\t', index_col=0)\n",
    "df_alleles['ref_positions'] = df_alleles['ref_positions'].apply(ast.literal_eval)"
   ]
  },
  {
   "cell_type": "code",
   "execution_count": 11,
   "id": "c641ebd3",
   "metadata": {},
   "outputs": [],
   "source": [
    "cut_point = refs['FANC']['sgRNA_cut_points'][0]"
   ]
  },
  {
   "cell_type": "code",
   "execution_count": 12,
   "id": "c7d7a510",
   "metadata": {},
   "outputs": [
    {
     "name": "stdout",
     "output_type": "stream",
     "text": [
      "coding seq ragng: (56:106)\n",
      "coding seq: GGGCCTTCGCGCACCTCATGGAATCCCTTCTGCAGCACCTGGATCGCTTTT\n",
      "sgRNA cut points: [91, 188, 172]\n"
     ]
    }
   ],
   "source": [
    "print(f'coding seq ragng: ({exon_positions[0]}:{exon_positions[-1]})')\n",
    "print(f'coding seq: {coding_seq}')\n",
    "print(f'sgRNA cut points: {refs[\"FANC\"][\"sgRNA_cut_points\"]}')"
   ]
  },
  {
   "cell_type": "code",
   "execution_count": 13,
   "id": "aef758c5",
   "metadata": {},
   "outputs": [],
   "source": [
    "plot_left = cut_point - exon_positions[0] - 1\n",
    "plot_right = exon_positions[-1] - cut_point\n"
   ]
  },
  {
   "cell_type": "code",
   "execution_count": 14,
   "id": "79338989",
   "metadata": {},
   "outputs": [],
   "source": [
    "df_test = df_alleles_around_cut=CRISPRessoShared.get_dataframe_around_cut_assymetrical(df_alleles.loc[df_alleles['Reference_Name'] == 'FANC'], cut_point, plot_left, plot_right)"
   ]
  },
  {
   "cell_type": "markdown",
   "id": "1e451402",
   "metadata": {},
   "source": [
    "Note: it's important that we get the start of the coding sequence. Otherwise the sequence will be shifted and the codons will be incorrect."
   ]
  },
  {
   "cell_type": "code",
   "execution_count": 15,
   "id": "b239d3d1",
   "metadata": {},
   "outputs": [
    {
     "data": {
      "text/html": [
       "<div>\n",
       "<style scoped>\n",
       "    .dataframe tbody tr th:only-of-type {\n",
       "        vertical-align: middle;\n",
       "    }\n",
       "\n",
       "    .dataframe tbody tr th {\n",
       "        vertical-align: top;\n",
       "    }\n",
       "\n",
       "    .dataframe thead th {\n",
       "        text-align: right;\n",
       "    }\n",
       "</style>\n",
       "<table border=\"1\" class=\"dataframe\">\n",
       "  <thead>\n",
       "    <tr style=\"text-align: right;\">\n",
       "      <th></th>\n",
       "      <th>Reference_Sequence</th>\n",
       "      <th>Unedited</th>\n",
       "      <th>n_deleted</th>\n",
       "      <th>n_inserted</th>\n",
       "      <th>n_mutated</th>\n",
       "      <th>#Reads</th>\n",
       "      <th>%Reads</th>\n",
       "    </tr>\n",
       "    <tr>\n",
       "      <th>Aligned_Sequence</th>\n",
       "      <th></th>\n",
       "      <th></th>\n",
       "      <th></th>\n",
       "      <th></th>\n",
       "      <th></th>\n",
       "      <th></th>\n",
       "      <th></th>\n",
       "    </tr>\n",
       "  </thead>\n",
       "  <tbody>\n",
       "    <tr>\n",
       "      <th>GCCTTCGCGCACCTCATGGAATCCCTTCTGCAGCACCTGGATCGCTTTT</th>\n",
       "      <td>GCCTTCGCGCACCTCATGGAATCCCTTCTGCAGCACCTGGATCGCTTTT</td>\n",
       "      <td>True</td>\n",
       "      <td>0</td>\n",
       "      <td>0</td>\n",
       "      <td>0</td>\n",
       "      <td>162</td>\n",
       "      <td>77.884615</td>\n",
       "    </tr>\n",
       "    <tr>\n",
       "      <th>GCCTTCGCGCACCTCATGGAATCCCTTCTGCA---CCTGGATCGCTTTT</th>\n",
       "      <td>GCCTTCGCGCACCTCATGGAATCCCTTCTGCAGCACCTGGATCGCTTTT</td>\n",
       "      <td>True</td>\n",
       "      <td>0</td>\n",
       "      <td>0</td>\n",
       "      <td>0</td>\n",
       "      <td>8</td>\n",
       "      <td>3.846154</td>\n",
       "    </tr>\n",
       "    <tr>\n",
       "      <th>GCCTTCGCGCACCTCATGGAATCCCTTCTG----ACCTGGATCGCTTTT</th>\n",
       "      <td>GCCTTCGCGCACCTCATGGAATCCCTTCTGCAGCACCTGGATCGCTTTT</td>\n",
       "      <td>True</td>\n",
       "      <td>0</td>\n",
       "      <td>0</td>\n",
       "      <td>0</td>\n",
       "      <td>2</td>\n",
       "      <td>0.961538</td>\n",
       "    </tr>\n",
       "    <tr>\n",
       "      <th>GCCTTCGCGCACCTCATGGAATCCCTTCTGCAGC--CTGGATCGCTTTT</th>\n",
       "      <td>GCCTTCGCGCACCTCATGGAATCCCTTCTGCAGCACCTGGATCGCTTTT</td>\n",
       "      <td>True</td>\n",
       "      <td>0</td>\n",
       "      <td>0</td>\n",
       "      <td>0</td>\n",
       "      <td>2</td>\n",
       "      <td>0.961538</td>\n",
       "    </tr>\n",
       "    <tr>\n",
       "      <th>GCCTTCGCGCACCTCATGGAATCCCTTCTGCAGCCACCTGGATCGCTTT</th>\n",
       "      <td>GCCTTCGCGCACCTCATGGAATCCCTTCTGCAGC-ACCTGGATCGCTTT</td>\n",
       "      <td>True</td>\n",
       "      <td>0</td>\n",
       "      <td>0</td>\n",
       "      <td>0</td>\n",
       "      <td>2</td>\n",
       "      <td>0.961538</td>\n",
       "    </tr>\n",
       "    <tr>\n",
       "      <th>GCCTTCGCGCACCTCATGGAATC---TGTGGATAACC-GTATTACCGCC</th>\n",
       "      <td>GCCTTCGCGCACCTCATGGAATCCCTTCTGCAGCACCTGGATCGC----</td>\n",
       "      <td>True</td>\n",
       "      <td>0</td>\n",
       "      <td>0</td>\n",
       "      <td>0</td>\n",
       "      <td>1</td>\n",
       "      <td>0.480769</td>\n",
       "    </tr>\n",
       "    <tr>\n",
       "      <th>GCCTTCGCGCACCTCATGGAATCCCTTC------ACCTGGATCGCTTTT</th>\n",
       "      <td>GCCTTCGCGCACCTCATGGAATCCCTTCTGCAGCACCTGGATCGCTTTT</td>\n",
       "      <td>True</td>\n",
       "      <td>0</td>\n",
       "      <td>0</td>\n",
       "      <td>0</td>\n",
       "      <td>1</td>\n",
       "      <td>0.480769</td>\n",
       "    </tr>\n",
       "    <tr>\n",
       "      <th>GCCTTCGCGCACCTCATGGAATCCCTTCT-----ACCTGGATCGCTTTT</th>\n",
       "      <td>GCCTTCGCGCACCTCATGGAATCCCTTCTGCAGCACCTGGATCGCTTTT</td>\n",
       "      <td>True</td>\n",
       "      <td>0</td>\n",
       "      <td>0</td>\n",
       "      <td>0</td>\n",
       "      <td>1</td>\n",
       "      <td>0.480769</td>\n",
       "    </tr>\n",
       "    <tr>\n",
       "      <th>GCCTTCGCGCACCTCATGGAATCCCTTCT----CACCTGGATCGCTTTT</th>\n",
       "      <td>GCCTTCGCGCACCTCATGGAATCCCTTCTGCAGCACCTGGATCGCTTTT</td>\n",
       "      <td>True</td>\n",
       "      <td>0</td>\n",
       "      <td>0</td>\n",
       "      <td>0</td>\n",
       "      <td>1</td>\n",
       "      <td>0.480769</td>\n",
       "    </tr>\n",
       "    <tr>\n",
       "      <th>GCCTTCGCGCACCTCATGGAATCCCTTCTGC-----CTGGATCGCTTTT</th>\n",
       "      <td>GCCTTCGCGCACCTCATGGAATCCCTTCTGCAGCACCTGGATCGCTTTT</td>\n",
       "      <td>True</td>\n",
       "      <td>0</td>\n",
       "      <td>0</td>\n",
       "      <td>0</td>\n",
       "      <td>1</td>\n",
       "      <td>0.480769</td>\n",
       "    </tr>\n",
       "    <tr>\n",
       "      <th>GCCTTCGCGCACCTCATGGAATCCCTTCTGCA--ACCTGGATCGCTTTT</th>\n",
       "      <td>GCCTTCGCGCACCTCATGGAATCCCTTCTGCAGCACCTGGATCGCTTTT</td>\n",
       "      <td>True</td>\n",
       "      <td>0</td>\n",
       "      <td>0</td>\n",
       "      <td>0</td>\n",
       "      <td>1</td>\n",
       "      <td>0.480769</td>\n",
       "    </tr>\n",
       "    <tr>\n",
       "      <th>GCCTTCGCGCACCTCATGGAATCCCTTCTGCAGAAG--GGATCGCTTTT</th>\n",
       "      <td>GCCTTCGCGCACCTCATGGAATCCCTTCTGCAGCACCTGGATCGCTTTT</td>\n",
       "      <td>True</td>\n",
       "      <td>0</td>\n",
       "      <td>0</td>\n",
       "      <td>0</td>\n",
       "      <td>1</td>\n",
       "      <td>0.480769</td>\n",
       "    </tr>\n",
       "    <tr>\n",
       "      <th>GCCTTCGCGCACCTCATGGAATCCCTTCTGCAGATCAGCGGGGATCCCT</th>\n",
       "      <td>GCCTTCGCGCACCTCATGGAATCCCTTCTGCAGC---------------</td>\n",
       "      <td>True</td>\n",
       "      <td>0</td>\n",
       "      <td>0</td>\n",
       "      <td>0</td>\n",
       "      <td>1</td>\n",
       "      <td>0.480769</td>\n",
       "    </tr>\n",
       "    <tr>\n",
       "      <th>GCCTTCGCGCACCTCATGGAATCCCTTCTGCAGC-----GATCGCTTTT</th>\n",
       "      <td>GCCTTCGCGCACCTCATGGAATCCCTTCTGCAGCACCTGGATCGCTTTT</td>\n",
       "      <td>True</td>\n",
       "      <td>0</td>\n",
       "      <td>0</td>\n",
       "      <td>0</td>\n",
       "      <td>1</td>\n",
       "      <td>0.480769</td>\n",
       "    </tr>\n",
       "    <tr>\n",
       "      <th>GCCTTCGCGCACCTCATGGAATCCCTTCTGCAGC---TGGATCGCTTTT</th>\n",
       "      <td>GCCTTCGCGCACCTCATGGAATCCCTTCTGCAGCACCTGGATCGCTTTT</td>\n",
       "      <td>True</td>\n",
       "      <td>0</td>\n",
       "      <td>0</td>\n",
       "      <td>0</td>\n",
       "      <td>1</td>\n",
       "      <td>0.480769</td>\n",
       "    </tr>\n",
       "    <tr>\n",
       "      <th>GCCTTCGCGCACCTCATGGAATCCCTTCTGCAGCAACCTGGATCGCTTT</th>\n",
       "      <td>GCCTTCGCGCACCTCATGGAATCCCTTCTGCAGC-ACCTGGATCGCTTT</td>\n",
       "      <td>True</td>\n",
       "      <td>0</td>\n",
       "      <td>0</td>\n",
       "      <td>0</td>\n",
       "      <td>1</td>\n",
       "      <td>0.480769</td>\n",
       "    </tr>\n",
       "    <tr>\n",
       "      <th>GCCTTCGCGCACCTCATGGAATCCCTTCTGCAGCAC-TGGATCGCTTTT</th>\n",
       "      <td>GCCTTCGCGCACCTCATGGAATCCCTTCTGCAGCACCTGGATCGCTTTT</td>\n",
       "      <td>True</td>\n",
       "      <td>0</td>\n",
       "      <td>0</td>\n",
       "      <td>0</td>\n",
       "      <td>1</td>\n",
       "      <td>0.480769</td>\n",
       "    </tr>\n",
       "    <tr>\n",
       "      <th>GCCTTCGCGCACCTCATGGAATCCCTTCTGCAGCATCTGGATCGCTTTT</th>\n",
       "      <td>GCCTTCGCGCACCTCATGGAATCCCTTCTGCAGCACCTGGATCGCTTTT</td>\n",
       "      <td>True</td>\n",
       "      <td>0</td>\n",
       "      <td>0</td>\n",
       "      <td>0</td>\n",
       "      <td>1</td>\n",
       "      <td>0.480769</td>\n",
       "    </tr>\n",
       "    <tr>\n",
       "      <th>GCCTTCGCGCACCTCATGGAATCCCTTCTGCAGCTACCTGGATCGCTTT</th>\n",
       "      <td>GCCTTCGCGCACCTCATGGAATCCCTTCTGCAGC-ACCTGGATCGCTTT</td>\n",
       "      <td>True</td>\n",
       "      <td>0</td>\n",
       "      <td>0</td>\n",
       "      <td>0</td>\n",
       "      <td>1</td>\n",
       "      <td>0.480769</td>\n",
       "    </tr>\n",
       "    <tr>\n",
       "      <th>GCCTTCGCGCACCTCATGGAATCCCTTCTGCAGCTTCT----CGCTTTT</th>\n",
       "      <td>GCCTTCGCGCACCTCATGGAATCCCTTCTGCAGCACCTGGATCGCTTTT</td>\n",
       "      <td>True</td>\n",
       "      <td>0</td>\n",
       "      <td>0</td>\n",
       "      <td>0</td>\n",
       "      <td>1</td>\n",
       "      <td>0.480769</td>\n",
       "    </tr>\n",
       "    <tr>\n",
       "      <th>GCCTTCGCGTACCTCATGGAATCCCTTCTGCAGCACCTGGATCGCTTTT</th>\n",
       "      <td>GCCTTCGCGCACCTCATGGAATCCCTTCTGCAGCACCTGGATCGCTTTT</td>\n",
       "      <td>True</td>\n",
       "      <td>0</td>\n",
       "      <td>0</td>\n",
       "      <td>0</td>\n",
       "      <td>1</td>\n",
       "      <td>0.480769</td>\n",
       "    </tr>\n",
       "  </tbody>\n",
       "</table>\n",
       "</div>"
      ],
      "text/plain": [
       "                                                                                  Reference_Sequence  \\\n",
       "Aligned_Sequence                                                                                       \n",
       "GCCTTCGCGCACCTCATGGAATCCCTTCTGCAGCACCTGGATCGCTTTT  GCCTTCGCGCACCTCATGGAATCCCTTCTGCAGCACCTGGATCGCTTTT   \n",
       "GCCTTCGCGCACCTCATGGAATCCCTTCTGCA---CCTGGATCGCTTTT  GCCTTCGCGCACCTCATGGAATCCCTTCTGCAGCACCTGGATCGCTTTT   \n",
       "GCCTTCGCGCACCTCATGGAATCCCTTCTG----ACCTGGATCGCTTTT  GCCTTCGCGCACCTCATGGAATCCCTTCTGCAGCACCTGGATCGCTTTT   \n",
       "GCCTTCGCGCACCTCATGGAATCCCTTCTGCAGC--CTGGATCGCTTTT  GCCTTCGCGCACCTCATGGAATCCCTTCTGCAGCACCTGGATCGCTTTT   \n",
       "GCCTTCGCGCACCTCATGGAATCCCTTCTGCAGCCACCTGGATCGCTTT  GCCTTCGCGCACCTCATGGAATCCCTTCTGCAGC-ACCTGGATCGCTTT   \n",
       "GCCTTCGCGCACCTCATGGAATC---TGTGGATAACC-GTATTACCGCC  GCCTTCGCGCACCTCATGGAATCCCTTCTGCAGCACCTGGATCGC----   \n",
       "GCCTTCGCGCACCTCATGGAATCCCTTC------ACCTGGATCGCTTTT  GCCTTCGCGCACCTCATGGAATCCCTTCTGCAGCACCTGGATCGCTTTT   \n",
       "GCCTTCGCGCACCTCATGGAATCCCTTCT-----ACCTGGATCGCTTTT  GCCTTCGCGCACCTCATGGAATCCCTTCTGCAGCACCTGGATCGCTTTT   \n",
       "GCCTTCGCGCACCTCATGGAATCCCTTCT----CACCTGGATCGCTTTT  GCCTTCGCGCACCTCATGGAATCCCTTCTGCAGCACCTGGATCGCTTTT   \n",
       "GCCTTCGCGCACCTCATGGAATCCCTTCTGC-----CTGGATCGCTTTT  GCCTTCGCGCACCTCATGGAATCCCTTCTGCAGCACCTGGATCGCTTTT   \n",
       "GCCTTCGCGCACCTCATGGAATCCCTTCTGCA--ACCTGGATCGCTTTT  GCCTTCGCGCACCTCATGGAATCCCTTCTGCAGCACCTGGATCGCTTTT   \n",
       "GCCTTCGCGCACCTCATGGAATCCCTTCTGCAGAAG--GGATCGCTTTT  GCCTTCGCGCACCTCATGGAATCCCTTCTGCAGCACCTGGATCGCTTTT   \n",
       "GCCTTCGCGCACCTCATGGAATCCCTTCTGCAGATCAGCGGGGATCCCT  GCCTTCGCGCACCTCATGGAATCCCTTCTGCAGC---------------   \n",
       "GCCTTCGCGCACCTCATGGAATCCCTTCTGCAGC-----GATCGCTTTT  GCCTTCGCGCACCTCATGGAATCCCTTCTGCAGCACCTGGATCGCTTTT   \n",
       "GCCTTCGCGCACCTCATGGAATCCCTTCTGCAGC---TGGATCGCTTTT  GCCTTCGCGCACCTCATGGAATCCCTTCTGCAGCACCTGGATCGCTTTT   \n",
       "GCCTTCGCGCACCTCATGGAATCCCTTCTGCAGCAACCTGGATCGCTTT  GCCTTCGCGCACCTCATGGAATCCCTTCTGCAGC-ACCTGGATCGCTTT   \n",
       "GCCTTCGCGCACCTCATGGAATCCCTTCTGCAGCAC-TGGATCGCTTTT  GCCTTCGCGCACCTCATGGAATCCCTTCTGCAGCACCTGGATCGCTTTT   \n",
       "GCCTTCGCGCACCTCATGGAATCCCTTCTGCAGCATCTGGATCGCTTTT  GCCTTCGCGCACCTCATGGAATCCCTTCTGCAGCACCTGGATCGCTTTT   \n",
       "GCCTTCGCGCACCTCATGGAATCCCTTCTGCAGCTACCTGGATCGCTTT  GCCTTCGCGCACCTCATGGAATCCCTTCTGCAGC-ACCTGGATCGCTTT   \n",
       "GCCTTCGCGCACCTCATGGAATCCCTTCTGCAGCTTCT----CGCTTTT  GCCTTCGCGCACCTCATGGAATCCCTTCTGCAGCACCTGGATCGCTTTT   \n",
       "GCCTTCGCGTACCTCATGGAATCCCTTCTGCAGCACCTGGATCGCTTTT  GCCTTCGCGCACCTCATGGAATCCCTTCTGCAGCACCTGGATCGCTTTT   \n",
       "\n",
       "                                                   Unedited  n_deleted  \\\n",
       "Aligned_Sequence                                                         \n",
       "GCCTTCGCGCACCTCATGGAATCCCTTCTGCAGCACCTGGATCGCTTTT      True          0   \n",
       "GCCTTCGCGCACCTCATGGAATCCCTTCTGCA---CCTGGATCGCTTTT      True          0   \n",
       "GCCTTCGCGCACCTCATGGAATCCCTTCTG----ACCTGGATCGCTTTT      True          0   \n",
       "GCCTTCGCGCACCTCATGGAATCCCTTCTGCAGC--CTGGATCGCTTTT      True          0   \n",
       "GCCTTCGCGCACCTCATGGAATCCCTTCTGCAGCCACCTGGATCGCTTT      True          0   \n",
       "GCCTTCGCGCACCTCATGGAATC---TGTGGATAACC-GTATTACCGCC      True          0   \n",
       "GCCTTCGCGCACCTCATGGAATCCCTTC------ACCTGGATCGCTTTT      True          0   \n",
       "GCCTTCGCGCACCTCATGGAATCCCTTCT-----ACCTGGATCGCTTTT      True          0   \n",
       "GCCTTCGCGCACCTCATGGAATCCCTTCT----CACCTGGATCGCTTTT      True          0   \n",
       "GCCTTCGCGCACCTCATGGAATCCCTTCTGC-----CTGGATCGCTTTT      True          0   \n",
       "GCCTTCGCGCACCTCATGGAATCCCTTCTGCA--ACCTGGATCGCTTTT      True          0   \n",
       "GCCTTCGCGCACCTCATGGAATCCCTTCTGCAGAAG--GGATCGCTTTT      True          0   \n",
       "GCCTTCGCGCACCTCATGGAATCCCTTCTGCAGATCAGCGGGGATCCCT      True          0   \n",
       "GCCTTCGCGCACCTCATGGAATCCCTTCTGCAGC-----GATCGCTTTT      True          0   \n",
       "GCCTTCGCGCACCTCATGGAATCCCTTCTGCAGC---TGGATCGCTTTT      True          0   \n",
       "GCCTTCGCGCACCTCATGGAATCCCTTCTGCAGCAACCTGGATCGCTTT      True          0   \n",
       "GCCTTCGCGCACCTCATGGAATCCCTTCTGCAGCAC-TGGATCGCTTTT      True          0   \n",
       "GCCTTCGCGCACCTCATGGAATCCCTTCTGCAGCATCTGGATCGCTTTT      True          0   \n",
       "GCCTTCGCGCACCTCATGGAATCCCTTCTGCAGCTACCTGGATCGCTTT      True          0   \n",
       "GCCTTCGCGCACCTCATGGAATCCCTTCTGCAGCTTCT----CGCTTTT      True          0   \n",
       "GCCTTCGCGTACCTCATGGAATCCCTTCTGCAGCACCTGGATCGCTTTT      True          0   \n",
       "\n",
       "                                                   n_inserted  n_mutated  \\\n",
       "Aligned_Sequence                                                           \n",
       "GCCTTCGCGCACCTCATGGAATCCCTTCTGCAGCACCTGGATCGCTTTT           0          0   \n",
       "GCCTTCGCGCACCTCATGGAATCCCTTCTGCA---CCTGGATCGCTTTT           0          0   \n",
       "GCCTTCGCGCACCTCATGGAATCCCTTCTG----ACCTGGATCGCTTTT           0          0   \n",
       "GCCTTCGCGCACCTCATGGAATCCCTTCTGCAGC--CTGGATCGCTTTT           0          0   \n",
       "GCCTTCGCGCACCTCATGGAATCCCTTCTGCAGCCACCTGGATCGCTTT           0          0   \n",
       "GCCTTCGCGCACCTCATGGAATC---TGTGGATAACC-GTATTACCGCC           0          0   \n",
       "GCCTTCGCGCACCTCATGGAATCCCTTC------ACCTGGATCGCTTTT           0          0   \n",
       "GCCTTCGCGCACCTCATGGAATCCCTTCT-----ACCTGGATCGCTTTT           0          0   \n",
       "GCCTTCGCGCACCTCATGGAATCCCTTCT----CACCTGGATCGCTTTT           0          0   \n",
       "GCCTTCGCGCACCTCATGGAATCCCTTCTGC-----CTGGATCGCTTTT           0          0   \n",
       "GCCTTCGCGCACCTCATGGAATCCCTTCTGCA--ACCTGGATCGCTTTT           0          0   \n",
       "GCCTTCGCGCACCTCATGGAATCCCTTCTGCAGAAG--GGATCGCTTTT           0          0   \n",
       "GCCTTCGCGCACCTCATGGAATCCCTTCTGCAGATCAGCGGGGATCCCT           0          0   \n",
       "GCCTTCGCGCACCTCATGGAATCCCTTCTGCAGC-----GATCGCTTTT           0          0   \n",
       "GCCTTCGCGCACCTCATGGAATCCCTTCTGCAGC---TGGATCGCTTTT           0          0   \n",
       "GCCTTCGCGCACCTCATGGAATCCCTTCTGCAGCAACCTGGATCGCTTT           0          0   \n",
       "GCCTTCGCGCACCTCATGGAATCCCTTCTGCAGCAC-TGGATCGCTTTT           0          0   \n",
       "GCCTTCGCGCACCTCATGGAATCCCTTCTGCAGCATCTGGATCGCTTTT           0          0   \n",
       "GCCTTCGCGCACCTCATGGAATCCCTTCTGCAGCTACCTGGATCGCTTT           0          0   \n",
       "GCCTTCGCGCACCTCATGGAATCCCTTCTGCAGCTTCT----CGCTTTT           0          0   \n",
       "GCCTTCGCGTACCTCATGGAATCCCTTCTGCAGCACCTGGATCGCTTTT           0          0   \n",
       "\n",
       "                                                   #Reads     %Reads  \n",
       "Aligned_Sequence                                                      \n",
       "GCCTTCGCGCACCTCATGGAATCCCTTCTGCAGCACCTGGATCGCTTTT     162  77.884615  \n",
       "GCCTTCGCGCACCTCATGGAATCCCTTCTGCA---CCTGGATCGCTTTT       8   3.846154  \n",
       "GCCTTCGCGCACCTCATGGAATCCCTTCTG----ACCTGGATCGCTTTT       2   0.961538  \n",
       "GCCTTCGCGCACCTCATGGAATCCCTTCTGCAGC--CTGGATCGCTTTT       2   0.961538  \n",
       "GCCTTCGCGCACCTCATGGAATCCCTTCTGCAGCCACCTGGATCGCTTT       2   0.961538  \n",
       "GCCTTCGCGCACCTCATGGAATC---TGTGGATAACC-GTATTACCGCC       1   0.480769  \n",
       "GCCTTCGCGCACCTCATGGAATCCCTTC------ACCTGGATCGCTTTT       1   0.480769  \n",
       "GCCTTCGCGCACCTCATGGAATCCCTTCT-----ACCTGGATCGCTTTT       1   0.480769  \n",
       "GCCTTCGCGCACCTCATGGAATCCCTTCT----CACCTGGATCGCTTTT       1   0.480769  \n",
       "GCCTTCGCGCACCTCATGGAATCCCTTCTGC-----CTGGATCGCTTTT       1   0.480769  \n",
       "GCCTTCGCGCACCTCATGGAATCCCTTCTGCA--ACCTGGATCGCTTTT       1   0.480769  \n",
       "GCCTTCGCGCACCTCATGGAATCCCTTCTGCAGAAG--GGATCGCTTTT       1   0.480769  \n",
       "GCCTTCGCGCACCTCATGGAATCCCTTCTGCAGATCAGCGGGGATCCCT       1   0.480769  \n",
       "GCCTTCGCGCACCTCATGGAATCCCTTCTGCAGC-----GATCGCTTTT       1   0.480769  \n",
       "GCCTTCGCGCACCTCATGGAATCCCTTCTGCAGC---TGGATCGCTTTT       1   0.480769  \n",
       "GCCTTCGCGCACCTCATGGAATCCCTTCTGCAGCAACCTGGATCGCTTT       1   0.480769  \n",
       "GCCTTCGCGCACCTCATGGAATCCCTTCTGCAGCAC-TGGATCGCTTTT       1   0.480769  \n",
       "GCCTTCGCGCACCTCATGGAATCCCTTCTGCAGCATCTGGATCGCTTTT       1   0.480769  \n",
       "GCCTTCGCGCACCTCATGGAATCCCTTCTGCAGCTACCTGGATCGCTTT       1   0.480769  \n",
       "GCCTTCGCGCACCTCATGGAATCCCTTCTGCAGCTTCT----CGCTTTT       1   0.480769  \n",
       "GCCTTCGCGTACCTCATGGAATCCCTTCTGCAGCACCTGGATCGCTTTT       1   0.480769  "
      ]
     },
     "execution_count": 15,
     "metadata": {},
     "output_type": "execute_result"
    }
   ],
   "source": [
    "df_test"
   ]
  },
  {
   "cell_type": "markdown",
   "id": "6ed2cea2",
   "metadata": {},
   "source": [
    "## Plotting"
   ]
  },
  {
   "cell_type": "code",
   "execution_count": 17,
   "id": "97fde43f",
   "metadata": {},
   "outputs": [],
   "source": [
    "df_to_plot = df_test"
   ]
  },
  {
   "cell_type": "code",
   "execution_count": 18,
   "id": "12ea4a35",
   "metadata": {},
   "outputs": [
    {
     "data": {
      "text/html": [
       "<div>\n",
       "<style scoped>\n",
       "    .dataframe tbody tr th:only-of-type {\n",
       "        vertical-align: middle;\n",
       "    }\n",
       "\n",
       "    .dataframe tbody tr th {\n",
       "        vertical-align: top;\n",
       "    }\n",
       "\n",
       "    .dataframe thead th {\n",
       "        text-align: right;\n",
       "    }\n",
       "</style>\n",
       "<table border=\"1\" class=\"dataframe\">\n",
       "  <thead>\n",
       "    <tr style=\"text-align: right;\">\n",
       "      <th></th>\n",
       "      <th>Reference_Sequence</th>\n",
       "      <th>Unedited</th>\n",
       "      <th>n_deleted</th>\n",
       "      <th>n_inserted</th>\n",
       "      <th>n_mutated</th>\n",
       "      <th>#Reads</th>\n",
       "      <th>%Reads</th>\n",
       "    </tr>\n",
       "    <tr>\n",
       "      <th>Aligned_Sequence</th>\n",
       "      <th></th>\n",
       "      <th></th>\n",
       "      <th></th>\n",
       "      <th></th>\n",
       "      <th></th>\n",
       "      <th></th>\n",
       "      <th></th>\n",
       "    </tr>\n",
       "  </thead>\n",
       "  <tbody>\n",
       "    <tr>\n",
       "      <th>GCCTTCGCGCACCTCATGGAATCCCTTCTGCAGCACCTGGATCGCTTTT</th>\n",
       "      <td>GCCTTCGCGCACCTCATGGAATCCCTTCTGCAGCACCTGGATCGCTTTT</td>\n",
       "      <td>True</td>\n",
       "      <td>0</td>\n",
       "      <td>0</td>\n",
       "      <td>0</td>\n",
       "      <td>162</td>\n",
       "      <td>77.884615</td>\n",
       "    </tr>\n",
       "    <tr>\n",
       "      <th>GCCTTCGCGCACCTCATGGAATCCCTTCTGCA---CCTGGATCGCTTTT</th>\n",
       "      <td>GCCTTCGCGCACCTCATGGAATCCCTTCTGCAGCACCTGGATCGCTTTT</td>\n",
       "      <td>True</td>\n",
       "      <td>0</td>\n",
       "      <td>0</td>\n",
       "      <td>0</td>\n",
       "      <td>8</td>\n",
       "      <td>3.846154</td>\n",
       "    </tr>\n",
       "    <tr>\n",
       "      <th>GCCTTCGCGCACCTCATGGAATCCCTTCTG----ACCTGGATCGCTTTT</th>\n",
       "      <td>GCCTTCGCGCACCTCATGGAATCCCTTCTGCAGCACCTGGATCGCTTTT</td>\n",
       "      <td>True</td>\n",
       "      <td>0</td>\n",
       "      <td>0</td>\n",
       "      <td>0</td>\n",
       "      <td>2</td>\n",
       "      <td>0.961538</td>\n",
       "    </tr>\n",
       "    <tr>\n",
       "      <th>GCCTTCGCGCACCTCATGGAATCCCTTCTGCAGC--CTGGATCGCTTTT</th>\n",
       "      <td>GCCTTCGCGCACCTCATGGAATCCCTTCTGCAGCACCTGGATCGCTTTT</td>\n",
       "      <td>True</td>\n",
       "      <td>0</td>\n",
       "      <td>0</td>\n",
       "      <td>0</td>\n",
       "      <td>2</td>\n",
       "      <td>0.961538</td>\n",
       "    </tr>\n",
       "    <tr>\n",
       "      <th>GCCTTCGCGCACCTCATGGAATCCCTTCTGCAGCCACCTGGATCGCTTT</th>\n",
       "      <td>GCCTTCGCGCACCTCATGGAATCCCTTCTGCAGC-ACCTGGATCGCTTT</td>\n",
       "      <td>True</td>\n",
       "      <td>0</td>\n",
       "      <td>0</td>\n",
       "      <td>0</td>\n",
       "      <td>2</td>\n",
       "      <td>0.961538</td>\n",
       "    </tr>\n",
       "  </tbody>\n",
       "</table>\n",
       "</div>"
      ],
      "text/plain": [
       "                                                                                  Reference_Sequence  \\\n",
       "Aligned_Sequence                                                                                       \n",
       "GCCTTCGCGCACCTCATGGAATCCCTTCTGCAGCACCTGGATCGCTTTT  GCCTTCGCGCACCTCATGGAATCCCTTCTGCAGCACCTGGATCGCTTTT   \n",
       "GCCTTCGCGCACCTCATGGAATCCCTTCTGCA---CCTGGATCGCTTTT  GCCTTCGCGCACCTCATGGAATCCCTTCTGCAGCACCTGGATCGCTTTT   \n",
       "GCCTTCGCGCACCTCATGGAATCCCTTCTG----ACCTGGATCGCTTTT  GCCTTCGCGCACCTCATGGAATCCCTTCTGCAGCACCTGGATCGCTTTT   \n",
       "GCCTTCGCGCACCTCATGGAATCCCTTCTGCAGC--CTGGATCGCTTTT  GCCTTCGCGCACCTCATGGAATCCCTTCTGCAGCACCTGGATCGCTTTT   \n",
       "GCCTTCGCGCACCTCATGGAATCCCTTCTGCAGCCACCTGGATCGCTTT  GCCTTCGCGCACCTCATGGAATCCCTTCTGCAGC-ACCTGGATCGCTTT   \n",
       "\n",
       "                                                   Unedited  n_deleted  \\\n",
       "Aligned_Sequence                                                         \n",
       "GCCTTCGCGCACCTCATGGAATCCCTTCTGCAGCACCTGGATCGCTTTT      True          0   \n",
       "GCCTTCGCGCACCTCATGGAATCCCTTCTGCA---CCTGGATCGCTTTT      True          0   \n",
       "GCCTTCGCGCACCTCATGGAATCCCTTCTG----ACCTGGATCGCTTTT      True          0   \n",
       "GCCTTCGCGCACCTCATGGAATCCCTTCTGCAGC--CTGGATCGCTTTT      True          0   \n",
       "GCCTTCGCGCACCTCATGGAATCCCTTCTGCAGCCACCTGGATCGCTTT      True          0   \n",
       "\n",
       "                                                   n_inserted  n_mutated  \\\n",
       "Aligned_Sequence                                                           \n",
       "GCCTTCGCGCACCTCATGGAATCCCTTCTGCAGCACCTGGATCGCTTTT           0          0   \n",
       "GCCTTCGCGCACCTCATGGAATCCCTTCTGCA---CCTGGATCGCTTTT           0          0   \n",
       "GCCTTCGCGCACCTCATGGAATCCCTTCTG----ACCTGGATCGCTTTT           0          0   \n",
       "GCCTTCGCGCACCTCATGGAATCCCTTCTGCAGC--CTGGATCGCTTTT           0          0   \n",
       "GCCTTCGCGCACCTCATGGAATCCCTTCTGCAGCCACCTGGATCGCTTT           0          0   \n",
       "\n",
       "                                                   #Reads     %Reads  \n",
       "Aligned_Sequence                                                      \n",
       "GCCTTCGCGCACCTCATGGAATCCCTTCTGCAGCACCTGGATCGCTTTT     162  77.884615  \n",
       "GCCTTCGCGCACCTCATGGAATCCCTTCTGCA---CCTGGATCGCTTTT       8   3.846154  \n",
       "GCCTTCGCGCACCTCATGGAATCCCTTCTG----ACCTGGATCGCTTTT       2   0.961538  \n",
       "GCCTTCGCGCACCTCATGGAATCCCTTCTGCAGC--CTGGATCGCTTTT       2   0.961538  \n",
       "GCCTTCGCGCACCTCATGGAATCCCTTCTGCAGCCACCTGGATCGCTTT       2   0.961538  "
      ]
     },
     "execution_count": 18,
     "metadata": {},
     "output_type": "execute_result"
    }
   ],
   "source": [
    "df_to_plot.head()"
   ]
  },
  {
   "cell_type": "code",
   "execution_count": 19,
   "id": "6690ab9e",
   "metadata": {},
   "outputs": [],
   "source": [
    "plot_9a_inputs = {\n",
    "    'reference_seq': (reference_seq:=coding_seq), \n",
    "    'df_alleles': (df_alleles:=df_to_plot), \n",
    "    'fig_filename_root': (fig_filename_root:='./scripts/figures/9a'), \n",
    "    'custom_colors': (custom_colors:={\n",
    "        'Substitution': '#0000FF', \n",
    "        'Insertion': '#008000', \n",
    "        'Deletion': '#FF0000', \n",
    "        'A': '#7FC97F', \n",
    "        'T': '#BEAED4', \n",
    "        'C': '#FDC086', \n",
    "        'G': '#FFFF99', \n",
    "        'N': '#C8C8C8', \n",
    "        '-': '#1E1E1E'\n",
    "    }), \n",
    "    'MIN_FREQUENCY': (MIN_FREQUENCY:=0.2), \n",
    "    'MAX_N_ROWS': (MAX_N_ROWS:=50), \n",
    "    'SAVE_ALSO_PNG': (SAVE_ALSO_PNG:=True), \n",
    "    'plot_cut_point': (plot_cut_point:=False), \n",
    "    'sgRNA_intervals': (sgRNA_intervals:=[(3, 22), (99, 119), (98, 112)]), \n",
    "    'sgRNA_names': (sgRNA_names:=['hi', 'dear', '']), \n",
    "    'sgRNA_mismatches': (sgRNA_mismatches:=[[], [0], [7]]), \n",
    "    'annotate_wildtype_allele': (annotate_wildtype_allele:='')\n",
    "}"
   ]
  },
  {
   "cell_type": "code",
   "execution_count": 20,
   "id": "86094be1",
   "metadata": {},
   "outputs": [],
   "source": [
    "(\n",
    "    X, # 2d array: This is the sequence converted to ints I THINK for the cmap \n",
    "    annot, # This is the sequence of bp's \n",
    "    y_labels, # this is the percentage and tallies displayed to the right ``\n",
    "    insertion_dict, # I think this is key: which aligned_seq has insertion, value: where the insertion is\n",
    "    per_element_annot_kws, # dict of dicts: this is for bolding the substitutions\n",
    "    is_reference,\n",
    "    ref_sequence_amino_acids) = CRISPRessoPlot.prep_amino_acid_table(\n",
    "        df_to_plot, \n",
    "        plot_9a_inputs['reference_seq'], \n",
    "        plot_9a_inputs['MAX_N_ROWS'], \n",
    "        plot_9a_inputs['MIN_FREQUENCY']\n",
    "        )\n"
   ]
  },
  {
   "cell_type": "code",
   "execution_count": 21,
   "id": "78099829",
   "metadata": {},
   "outputs": [
    {
     "ename": "ValueError",
     "evalue": "all the input array dimensions except for the concatenation axis must match exactly, but along dimension 1, the array at index 0 has size 16 and the array at index 1 has size 15",
     "output_type": "error",
     "traceback": [
      "\u001b[0;31m---------------------------------------------------------------------------\u001b[0m",
      "\u001b[0;31mValueError\u001b[0m                                Traceback (most recent call last)",
      "Cell \u001b[0;32mIn[21], line 1\u001b[0m\n\u001b[0;32m----> 1\u001b[0m \u001b[43mCRISPRessoPlot\u001b[49m\u001b[38;5;241;43m.\u001b[39;49m\u001b[43mplot_amino_acid_table\u001b[49m\u001b[43m(\u001b[49m\u001b[38;5;241;43m*\u001b[39;49m\u001b[38;5;241;43m*\u001b[39;49m\u001b[43mplot_9a_inputs\u001b[49m\u001b[43m)\u001b[49m\n",
      "File \u001b[0;32m~/Edilytics/CRISPResso2/CRISPResso2/CRISPRessoPlot.py:3633\u001b[0m, in \u001b[0;36mplot_amino_acid_table\u001b[0;34m(reference_seq, df_alleles, fig_filename_root, custom_colors, MIN_FREQUENCY, MAX_N_ROWS, SAVE_ALSO_PNG, plot_cut_point, sgRNA_intervals, sgRNA_names, sgRNA_mismatches, annotate_wildtype_allele, **kwargs)\u001b[0m\n\u001b[1;32m   3630\u001b[0m         \u001b[38;5;28;01mif\u001b[39;00m is_ref:\n\u001b[1;32m   3631\u001b[0m             y_labels[ix] \u001b[38;5;241m+\u001b[39m\u001b[38;5;241m=\u001b[39m annotate_wildtype_allele\n\u001b[0;32m-> 3633\u001b[0m \u001b[43mplot_amino_acid_heatmap\u001b[49m\u001b[43m(\u001b[49m\u001b[43mref_sequence_amino_acids\u001b[49m\u001b[43m,\u001b[49m\u001b[43m \u001b[49m\u001b[43mfig_filename_root\u001b[49m\u001b[43m,\u001b[49m\u001b[43m \u001b[49m\u001b[43mX\u001b[49m\u001b[43m,\u001b[49m\u001b[43m \u001b[49m\u001b[43mannot\u001b[49m\u001b[43m,\u001b[49m\u001b[43m \u001b[49m\u001b[43my_labels\u001b[49m\u001b[43m,\u001b[49m\u001b[43m \u001b[49m\u001b[43minsertion_dict\u001b[49m\u001b[43m,\u001b[49m\u001b[43m \u001b[49m\u001b[43mper_element_annot_kws\u001b[49m\u001b[43m,\u001b[49m\u001b[43m \u001b[49m\u001b[43mcustom_colors\u001b[49m\u001b[43m,\u001b[49m\u001b[43m \u001b[49m\u001b[43mSAVE_ALSO_PNG\u001b[49m\u001b[43m,\u001b[49m\u001b[43m \u001b[49m\u001b[43mplot_cut_point\u001b[49m\u001b[43m,\u001b[49m\u001b[43m \u001b[49m\u001b[43msgRNA_intervals\u001b[49m\u001b[43m,\u001b[49m\u001b[43m \u001b[49m\u001b[43msgRNA_names\u001b[49m\u001b[43m,\u001b[49m\u001b[43m \u001b[49m\u001b[43msgRNA_mismatches\u001b[49m\u001b[43m)\u001b[49m\n",
      "File \u001b[0;32m~/Edilytics/CRISPResso2/CRISPResso2/CRISPRessoPlot.py:2832\u001b[0m, in \u001b[0;36mplot_amino_acid_heatmap\u001b[0;34m(reference_seq_amino_acids, fig_filename_root, X, annot, y_labels, insertion_dict, per_element_annot_kws, custom_colors, SAVE_ALSO_PNG, plot_cut_point, sgRNA_intervals, sgRNA_names, sgRNA_mismatches, **kwargs)\u001b[0m\n\u001b[1;32m   2829\u001b[0m cmap \u001b[38;5;241m=\u001b[39m colors_mpl\u001b[38;5;241m.\u001b[39mListedColormap(amino_acid_colors)\n\u001b[1;32m   2831\u001b[0m \u001b[38;5;28;01mif\u001b[39;00m \u001b[38;5;28mlen\u001b[39m(per_element_annot_kws) \u001b[38;5;241m>\u001b[39m \u001b[38;5;241m1\u001b[39m:\n\u001b[0;32m-> 2832\u001b[0m     per_element_annot_kws\u001b[38;5;241m=\u001b[39m\u001b[43mnp\u001b[49m\u001b[38;5;241;43m.\u001b[39;49m\u001b[43mvstack\u001b[49m\u001b[43m(\u001b[49m\u001b[43mper_element_annot_kws\u001b[49m\u001b[43m[\u001b[49m\u001b[43m:\u001b[49m\u001b[43m:\u001b[49m\u001b[38;5;241;43m-\u001b[39;49m\u001b[38;5;241;43m1\u001b[39;49m\u001b[43m]\u001b[49m\u001b[43m)\u001b[49m\n\u001b[1;32m   2833\u001b[0m \u001b[38;5;28;01melse\u001b[39;00m:\n\u001b[1;32m   2834\u001b[0m     per_element_annot_kws\u001b[38;5;241m=\u001b[39mnp\u001b[38;5;241m.\u001b[39marray(per_element_annot_kws)\n",
      "File \u001b[0;32m~/micromamba/envs/jupyter-env/lib/python3.10/site-packages/numpy/core/shape_base.py:289\u001b[0m, in \u001b[0;36mvstack\u001b[0;34m(tup, dtype, casting)\u001b[0m\n\u001b[1;32m    287\u001b[0m \u001b[38;5;28;01mif\u001b[39;00m \u001b[38;5;129;01mnot\u001b[39;00m \u001b[38;5;28misinstance\u001b[39m(arrs, \u001b[38;5;28mlist\u001b[39m):\n\u001b[1;32m    288\u001b[0m     arrs \u001b[38;5;241m=\u001b[39m [arrs]\n\u001b[0;32m--> 289\u001b[0m \u001b[38;5;28;01mreturn\u001b[39;00m \u001b[43m_nx\u001b[49m\u001b[38;5;241;43m.\u001b[39;49m\u001b[43mconcatenate\u001b[49m\u001b[43m(\u001b[49m\u001b[43marrs\u001b[49m\u001b[43m,\u001b[49m\u001b[43m \u001b[49m\u001b[38;5;241;43m0\u001b[39;49m\u001b[43m,\u001b[49m\u001b[43m \u001b[49m\u001b[43mdtype\u001b[49m\u001b[38;5;241;43m=\u001b[39;49m\u001b[43mdtype\u001b[49m\u001b[43m,\u001b[49m\u001b[43m \u001b[49m\u001b[43mcasting\u001b[49m\u001b[38;5;241;43m=\u001b[39;49m\u001b[43mcasting\u001b[49m\u001b[43m)\u001b[49m\n",
      "\u001b[0;31mValueError\u001b[0m: all the input array dimensions except for the concatenation axis must match exactly, but along dimension 1, the array at index 0 has size 16 and the array at index 1 has size 15"
     ]
    }
   ],
   "source": [
    "CRISPRessoPlot.plot_amino_acid_table(**plot_9a_inputs)"
   ]
  },
  {
   "cell_type": "code",
   "execution_count": 23,
   "id": "6279bd5e",
   "metadata": {},
   "outputs": [],
   "source": [
    "def pad_amino_acids(amino_acids, amino_acid_seq_length):\n",
    "        return amino_acids + [''] * (amino_acid_seq_length - len(amino_acids))"
   ]
  },
  {
   "cell_type": "code",
   "execution_count": 22,
   "id": "7314e70a",
   "metadata": {},
   "outputs": [
    {
     "data": {
      "text/plain": [
       "[[1, 5, 1, 7, 10, 11, 4, 16, 10, 10, 14, 7, 10, 3, 15, 5],\n",
       " [1, 5, 1, 7, 10, 11, 4, 16, 10, 10, 7, 10, 3, 15, 5],\n",
       " [1, 5, 1, 7, 10, 11, 4, 16, 10, 10, 22, 17, 19, 8, 1, 5],\n",
       " [1, 5, 1, 7, 10, 11, 4, 16, 10, 10, 14, 13, 6, 16, 10],\n",
       " [1, 5, 1, 7, 10, 11, 4, 16, 10, 10, 14, 13, 13, 6, 16, 10],\n",
       " [1, 5, 1, 7, 10, 11, 4, 16, 18, 3, 12, 15, 8, 17, 1],\n",
       " [1, 5, 1, 7, 10, 11, 4, 16, 10, 7, 10, 3, 15, 5],\n",
       " [1, 5, 1, 7, 10, 11, 4, 16, 10, 10, 13, 6, 16, 10],\n",
       " [1, 5, 1, 7, 10, 11, 4, 16, 10, 10, 17, 19, 8, 1, 5],\n",
       " [1, 5, 1, 7, 10, 11, 4, 16, 10, 10, 13, 6, 16, 10],\n",
       " [1, 5, 1, 7, 10, 11, 4, 16, 10, 10, 14, 13, 6, 16, 10],\n",
       " [1, 5, 1, 7, 10, 11, 4, 16, 10, 10, 14, 9, 6, 16, 10],\n",
       " [1, 5, 1, 7, 10, 11, 4, 16, 10, 10, 14, 8, 16, 6, 3, 13],\n",
       " [1, 5, 1, 7, 10, 11, 4, 16, 10, 10, 14, 15, 16, 10],\n",
       " [1, 5, 1, 7, 10, 11, 4, 16, 10, 10, 14, 10, 3, 15, 5],\n",
       " [1, 5, 1, 7, 10, 11, 4, 16, 10, 10, 14, 14, 13, 6, 16, 10],\n",
       " [1, 5, 1, 7, 10, 11, 4, 16, 10, 10, 14, 7, 19, 8, 1, 5],\n",
       " [1, 5, 1, 7, 10, 11, 4, 16, 10, 10, 14, 7, 10, 3, 15, 5],\n",
       " [1, 5, 1, 7, 10, 11, 4, 16, 10, 10, 14, 10, 13, 6, 16, 10],\n",
       " [1, 5, 1, 7, 10, 11, 4, 16, 10, 10, 14, 10, 10, 1, 5],\n",
       " [1, 5, 1, 20, 10, 11, 4, 16, 10, 10, 14, 7, 10, 3, 15, 5]]"
      ]
     },
     "execution_count": 22,
     "metadata": {},
     "output_type": "execute_result"
    }
   ],
   "source": [
    "X"
   ]
  },
  {
   "cell_type": "code",
   "execution_count": null,
   "id": "e8221e0d",
   "metadata": {},
   "outputs": [],
   "source": []
  }
 ],
 "metadata": {
  "kernelspec": {
   "display_name": "Python 3 (ipykernel)",
   "language": "python",
   "name": "python3"
  },
  "language_info": {
   "codemirror_mode": {
    "name": "ipython",
    "version": 3
   },
   "file_extension": ".py",
   "mimetype": "text/x-python",
   "name": "python",
   "nbconvert_exporter": "python",
   "pygments_lexer": "ipython3",
   "version": "3.10.14"
  }
 },
 "nbformat": 4,
 "nbformat_minor": 5
}
