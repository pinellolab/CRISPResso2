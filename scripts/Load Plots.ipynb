{
 "cells": [
  {
   "cell_type": "code",
   "execution_count": 61,
   "id": "5895c995",
   "metadata": {},
   "outputs": [],
   "source": [
    "import os\n",
    "import pandas as pd\n",
    "from CRISPResso2 import CRISPRessoShared, CRISPRessoPlot\n",
    "from collections import defaultdict\n",
    "import matplotlib.pyplot as plt\n",
    "import ast"
   ]
  },
  {
   "cell_type": "code",
   "execution_count": 2,
   "id": "1a0e9834",
   "metadata": {},
   "outputs": [],
   "source": [
    "%matplotlib inline"
   ]
  },
  {
   "cell_type": "code",
   "execution_count": 12,
   "id": "cf91acbb",
   "metadata": {},
   "outputs": [
    {
     "name": "stdout",
     "output_type": "stream",
     "text": [
      "Archive:  ../CRISPResso2_tests/cli_integration_tests/CRISPResso_on_params/Alleles_frequency_table.zip\n",
      "  inflating: Alleles_frequency_table.txt  \n"
     ]
    }
   ],
   "source": [
    "! unzip ../CRISPResso2_tests/cli_integration_tests/CRISPResso_on_params/Alleles_frequency_table.zip"
   ]
  },
  {
   "cell_type": "code",
   "execution_count": 26,
   "id": "83c6d0d1",
   "metadata": {},
   "outputs": [],
   "source": [
    "df_alleles = pd.read_csv('df_alleles.txt', sep='\\t')"
   ]
  },
  {
   "cell_type": "code",
   "execution_count": 28,
   "id": "8439032c",
   "metadata": {},
   "outputs": [],
   "source": [
    "df_alleles = df_alleles.set_index('Aligned_Sequence')"
   ]
  },
  {
   "cell_type": "code",
   "execution_count": 36,
   "id": "4ff346d1",
   "metadata": {},
   "outputs": [
    {
     "name": "stdout",
     "output_type": "stream",
     "text": [
      "ACATCGGATGTTCCAATCAGTACGCAGAGAGTCGCCGTCTCCAAGGTGAAAGCGGAAGTAGGGCCTTCGCGCACCTCATGGAATCCCTTCTGCAGCACCTGGATCGCTTTTCCGAGCTTCTGGCGGTCTCAAGCACTACCTACGTCAGCACCTGGGACCCCGCCACCGTGCGCCGGGCCTTGCAGTGGGCGCGCTACCTGCGCCACATCCATCGGCGCTTTGGTCGGCATGGCCCCATTCGCACGGCTCT\n"
     ]
    }
   ],
   "source": [
    "for idx, row in df_alleles.iterrows():\n",
    "    print(idx)\n",
    "    "
   ]
  },
  {
   "cell_type": "markdown",
   "id": "6ed2cea2",
   "metadata": {},
   "source": [
    "## Plotting"
   ]
  },
  {
   "cell_type": "code",
   "execution_count": 3,
   "id": "97fde43f",
   "metadata": {},
   "outputs": [],
   "source": [
    "df_to_plot = pd.read_csv('df_to_plot.csv', header=0, sep='\\t', index_col=0)"
   ]
  },
  {
   "cell_type": "code",
   "execution_count": 4,
   "id": "12ea4a35",
   "metadata": {},
   "outputs": [
    {
     "data": {
      "text/html": [
       "<div>\n",
       "<style scoped>\n",
       "    .dataframe tbody tr th:only-of-type {\n",
       "        vertical-align: middle;\n",
       "    }\n",
       "\n",
       "    .dataframe tbody tr th {\n",
       "        vertical-align: top;\n",
       "    }\n",
       "\n",
       "    .dataframe thead th {\n",
       "        text-align: right;\n",
       "    }\n",
       "</style>\n",
       "<table border=\"1\" class=\"dataframe\">\n",
       "  <thead>\n",
       "    <tr style=\"text-align: right;\">\n",
       "      <th></th>\n",
       "      <th>Reference_Sequence</th>\n",
       "      <th>Unedited</th>\n",
       "      <th>n_deleted</th>\n",
       "      <th>n_inserted</th>\n",
       "      <th>n_mutated</th>\n",
       "      <th>#Reads</th>\n",
       "      <th>%Reads</th>\n",
       "    </tr>\n",
       "    <tr>\n",
       "      <th>Aligned_Sequence</th>\n",
       "      <th></th>\n",
       "      <th></th>\n",
       "      <th></th>\n",
       "      <th></th>\n",
       "      <th></th>\n",
       "      <th></th>\n",
       "      <th></th>\n",
       "    </tr>\n",
       "  </thead>\n",
       "  <tbody>\n",
       "    <tr>\n",
       "      <th>CATGGAATCCCTTCTGCAGCACCTGGATCGCTTTTCCGAG</th>\n",
       "      <td>CATGGAATCCCTTCTGCAGCACCTGGATCGCTTTTCCGAG</td>\n",
       "      <td>1</td>\n",
       "      <td>0</td>\n",
       "      <td>0</td>\n",
       "      <td>0</td>\n",
       "      <td>163</td>\n",
       "      <td>78.365385</td>\n",
       "    </tr>\n",
       "    <tr>\n",
       "      <th>CATGGAATCCCTTCTGCA---CCTGGATCGCTTTTCCGAG</th>\n",
       "      <td>CATGGAATCCCTTCTGCAGCACCTGGATCGCTTTTCCGAG</td>\n",
       "      <td>1</td>\n",
       "      <td>0</td>\n",
       "      <td>0</td>\n",
       "      <td>0</td>\n",
       "      <td>8</td>\n",
       "      <td>3.846154</td>\n",
       "    </tr>\n",
       "    <tr>\n",
       "      <th>CATGGAATCCCTTCTG----ACCTGGATCGCTTTTCCGAG</th>\n",
       "      <td>CATGGAATCCCTTCTGCAGCACCTGGATCGCTTTTCCGAG</td>\n",
       "      <td>1</td>\n",
       "      <td>0</td>\n",
       "      <td>0</td>\n",
       "      <td>0</td>\n",
       "      <td>2</td>\n",
       "      <td>0.961538</td>\n",
       "    </tr>\n",
       "    <tr>\n",
       "      <th>CATGGAATCCCTTCTGCAGC--CTGGATCGCTTTTCCGAG</th>\n",
       "      <td>CATGGAATCCCTTCTGCAGCACCTGGATCGCTTTTCCGAG</td>\n",
       "      <td>1</td>\n",
       "      <td>0</td>\n",
       "      <td>0</td>\n",
       "      <td>0</td>\n",
       "      <td>2</td>\n",
       "      <td>0.961538</td>\n",
       "    </tr>\n",
       "    <tr>\n",
       "      <th>CATGGAATCCCTTCTGCAGCCACCTGGATCGCTTTTCCGA</th>\n",
       "      <td>CATGGAATCCCTTCTGCAGC-ACCTGGATCGCTTTTCCGA</td>\n",
       "      <td>1</td>\n",
       "      <td>0</td>\n",
       "      <td>0</td>\n",
       "      <td>0</td>\n",
       "      <td>2</td>\n",
       "      <td>0.961538</td>\n",
       "    </tr>\n",
       "  </tbody>\n",
       "</table>\n",
       "</div>"
      ],
      "text/plain": [
       "                                                                Reference_Sequence  \\\n",
       "Aligned_Sequence                                                                     \n",
       "CATGGAATCCCTTCTGCAGCACCTGGATCGCTTTTCCGAG  CATGGAATCCCTTCTGCAGCACCTGGATCGCTTTTCCGAG   \n",
       "CATGGAATCCCTTCTGCA---CCTGGATCGCTTTTCCGAG  CATGGAATCCCTTCTGCAGCACCTGGATCGCTTTTCCGAG   \n",
       "CATGGAATCCCTTCTG----ACCTGGATCGCTTTTCCGAG  CATGGAATCCCTTCTGCAGCACCTGGATCGCTTTTCCGAG   \n",
       "CATGGAATCCCTTCTGCAGC--CTGGATCGCTTTTCCGAG  CATGGAATCCCTTCTGCAGCACCTGGATCGCTTTTCCGAG   \n",
       "CATGGAATCCCTTCTGCAGCCACCTGGATCGCTTTTCCGA  CATGGAATCCCTTCTGCAGC-ACCTGGATCGCTTTTCCGA   \n",
       "\n",
       "                                          Unedited  n_deleted  n_inserted  \\\n",
       "Aligned_Sequence                                                            \n",
       "CATGGAATCCCTTCTGCAGCACCTGGATCGCTTTTCCGAG         1          0           0   \n",
       "CATGGAATCCCTTCTGCA---CCTGGATCGCTTTTCCGAG         1          0           0   \n",
       "CATGGAATCCCTTCTG----ACCTGGATCGCTTTTCCGAG         1          0           0   \n",
       "CATGGAATCCCTTCTGCAGC--CTGGATCGCTTTTCCGAG         1          0           0   \n",
       "CATGGAATCCCTTCTGCAGCCACCTGGATCGCTTTTCCGA         1          0           0   \n",
       "\n",
       "                                          n_mutated  #Reads     %Reads  \n",
       "Aligned_Sequence                                                        \n",
       "CATGGAATCCCTTCTGCAGCACCTGGATCGCTTTTCCGAG          0     163  78.365385  \n",
       "CATGGAATCCCTTCTGCA---CCTGGATCGCTTTTCCGAG          0       8   3.846154  \n",
       "CATGGAATCCCTTCTG----ACCTGGATCGCTTTTCCGAG          0       2   0.961538  \n",
       "CATGGAATCCCTTCTGCAGC--CTGGATCGCTTTTCCGAG          0       2   0.961538  \n",
       "CATGGAATCCCTTCTGCAGCCACCTGGATCGCTTTTCCGA          0       2   0.961538  "
      ]
     },
     "execution_count": 4,
     "metadata": {},
     "output_type": "execute_result"
    }
   ],
   "source": [
    "df_to_plot.head()"
   ]
  },
  {
   "cell_type": "code",
   "execution_count": 5,
   "id": "6690ab9e",
   "metadata": {},
   "outputs": [],
   "source": [
    "plot_9a_inputs = {\n",
    "    'reference_seq': (reference_seq:='CATGGAATCCCTTCTGCAGCACCTGGATCGCTTTTCCGAG'), \n",
    "    'df_alleles': (df_alleles:=df_to_plot), \n",
    "    'fig_filename_root': (fig_filename_root:='./scripts/figures/9a'), \n",
    "    'custom_colors': (custom_colors:={\n",
    "        'Substitution': '#0000FF', \n",
    "        'Insertion': '#008000', \n",
    "        'Deletion': '#FF0000', \n",
    "        'A': '#7FC97F', \n",
    "        'T': '#BEAED4', \n",
    "        'C': '#FDC086', \n",
    "        'G': '#FFFF99', \n",
    "        'N': '#C8C8C8', \n",
    "        '-': '#1E1E1E'\n",
    "    }), \n",
    "    'MIN_FREQUENCY': (MIN_FREQUENCY:=0.2), \n",
    "    'MAX_N_ROWS': (MAX_N_ROWS:=50), \n",
    "    'SAVE_ALSO_PNG': (SAVE_ALSO_PNG:=True), \n",
    "    'plot_cut_point': (plot_cut_point:=False), \n",
    "    'sgRNA_intervals': (sgRNA_intervals:=[(3, 22), (99, 119), (98, 112)]), \n",
    "    'sgRNA_names': (sgRNA_names:=['hi', 'dear', '']), \n",
    "    'sgRNA_mismatches': (sgRNA_mismatches:=[[], [0], [7]]), \n",
    "    'annotate_wildtype_allele': (annotate_wildtype_allele:='')\n",
    "}"
   ]
  },
  {
   "cell_type": "code",
   "execution_count": 9,
   "id": "86094be1",
   "metadata": {},
   "outputs": [],
   "source": [
    "(\n",
    "    X, # 2d array: This is the sequence converted to ints I THINK for the cmap \n",
    "    annot, # This is the sequence of bp's \n",
    "    y_labels, # this is the percentage and tallies displayed to the right ``\n",
    "    insertion_dict, # I think this is key: which aligned_seq has insertion, value: where the insertion is\n",
    "    per_element_annot_kws, # dict of dicts: this is for bolding the substitutions\n",
    "    is_reference,\n",
    "    ref_sequence_amino_acids) = CRISPRessoPlot.prep_amino_acid_table(\n",
    "        df_to_plot, \n",
    "        plot_9a_inputs['reference_seq'], \n",
    "        plot_9a_inputs['MAX_N_ROWS'], \n",
    "        plot_9a_inputs['MIN_FREQUENCY']\n",
    "        )\n"
   ]
  },
  {
   "cell_type": "code",
   "execution_count": 10,
   "id": "71a042f7",
   "metadata": {},
   "outputs": [
    {
     "data": {
      "text/plain": [
       "[[7, 6, 8, 13, 16, 1, 1, 13, 6, 16, 10, 5, 15],\n",
       " [7, 6, 8, 13, 16, 1, 22, 13, 6, 16, 10, 5, 15],\n",
       " [7, 6, 8, 13, 16, 3, 10, 3, 15, 5, 16, 4, 21],\n",
       " [7, 6, 8, 13, 16, 1, 1, 19, 8, 1, 5, 13, 21],\n",
       " [7, 6, 8, 13, 16, 1, 1, 17, 19, 8, 1, 5, 13],\n",
       " [7, 6, 8, 22, 2, 6, 0, 13, 20, 20, 15, 10, 5],\n",
       " [7, 6, 8, 13, 16, 13, 6, 16, 10, 5, 15, 21, 21],\n",
       " [7, 6, 8, 13, 16, 22, 17, 19, 8, 1, 5, 13, 21],\n",
       " [7, 6, 8, 13, 16, 22, 7, 10, 3, 15, 5, 16, 4],\n",
       " [7, 6, 8, 13, 16, 1, 19, 8, 1, 5, 13, 21, 21],\n",
       " [7, 6, 8, 13, 16, 1, 17, 19, 8, 1, 5, 13, 21],\n",
       " [7, 6, 8, 13, 16, 1, 4, 6, 8, 1, 5, 13, 21],\n",
       " [7, 6, 8, 13, 16, 1, 3, 14, 15, 6, 16, 10, 14],\n",
       " [7, 6, 8, 13, 16, 1, 1, 8, 1, 5, 13, 21, 21],\n",
       " [7, 6, 8, 13, 16, 1, 1, 6, 16, 10, 5, 15, 21],\n",
       " [7, 6, 8, 13, 16, 1, 1, 17, 19, 8, 1, 5, 13],\n",
       " [7, 6, 8, 13, 16, 1, 1, 10, 3, 15, 5, 16, 4],\n",
       " [7, 6, 8, 13, 16, 1, 1, 16, 6, 16, 10, 5, 15],\n",
       " [7, 6, 8, 13, 16, 1, 1, 17, 19, 8, 1, 5, 13],\n",
       " [7, 6, 8, 13, 16, 1, 1, 16, 22, 15, 5, 16, 4]]"
      ]
     },
     "execution_count": 10,
     "metadata": {},
     "output_type": "execute_result"
    }
   ],
   "source": [
    "X"
   ]
  },
  {
   "cell_type": "code",
   "execution_count": 11,
   "id": "78099829",
   "metadata": {},
   "outputs": [],
   "source": [
    "CRISPRessoPlot.plot_amino_acid_table(**plot_9a_inputs)"
   ]
  },
  {
   "cell_type": "code",
   "execution_count": 11,
   "id": "5a02e6d9",
   "metadata": {},
   "outputs": [
    {
     "data": {
      "text/plain": [
       "21"
      ]
     },
     "execution_count": 11,
     "metadata": {},
     "output_type": "execute_result"
    }
   ],
   "source": [
    "len(set(CRISPRessoShared.CODON_TO_AMINO_ACID_SINGLE_CHAR.values()))"
   ]
  },
  {
   "cell_type": "code",
   "execution_count": 11,
   "id": "dedfd3af",
   "metadata": {},
   "outputs": [],
   "source": [
    "amino_acids = list(set(CRISPRessoShared.CODON_TO_AMINO_ACID_SINGLE_CHAR.values())) + ['']"
   ]
  },
  {
   "cell_type": "code",
   "execution_count": 12,
   "id": "b23902a8",
   "metadata": {},
   "outputs": [],
   "source": [
    "cmap = ['#FF000066', '#90EE9066', '#00800066', '#00640066', '#00640066', '#C8A2C866', '#90EE9066', '#00008B66', '#0000FF66', '#FFA50066', '#0000FF66', '#0000FF66', '#00640066', '#FFC0CB66', '#00640066', '#FFA50066', '#FF573366', '#FF573366', '#0000FF66', '#C8A2C866', '#C8A2C866', '#FFFFFF66']\n"
   ]
  },
  {
   "cell_type": "code",
   "execution_count": 18,
   "id": "7c53dd48",
   "metadata": {},
   "outputs": [],
   "source": [
    "df_alleles = pd.read_csv('Alleles_frequency_table.txt', sep='\\t', index_col='Aligned_Sequence')"
   ]
  },
  {
   "cell_type": "code",
   "execution_count": 22,
   "id": "2fcf1b3e",
   "metadata": {},
   "outputs": [
    {
     "data": {
      "text/plain": [
       "250"
      ]
     },
     "execution_count": 22,
     "metadata": {},
     "output_type": "execute_result"
    }
   ],
   "source": [
    "len(df_alleles.iloc[0,0])"
   ]
  },
  {
   "cell_type": "code",
   "execution_count": 23,
   "id": "b17bc1d6",
   "metadata": {},
   "outputs": [
    {
     "data": {
      "text/html": [
       "<div>\n",
       "<style scoped>\n",
       "    .dataframe tbody tr th:only-of-type {\n",
       "        vertical-align: middle;\n",
       "    }\n",
       "\n",
       "    .dataframe tbody tr th {\n",
       "        vertical-align: top;\n",
       "    }\n",
       "\n",
       "    .dataframe thead th {\n",
       "        text-align: right;\n",
       "    }\n",
       "</style>\n",
       "<table border=\"1\" class=\"dataframe\">\n",
       "  <thead>\n",
       "    <tr style=\"text-align: right;\">\n",
       "      <th></th>\n",
       "      <th>Reference_Sequence</th>\n",
       "      <th>Reference_Name</th>\n",
       "      <th>Read_Status</th>\n",
       "      <th>n_deleted</th>\n",
       "      <th>n_inserted</th>\n",
       "      <th>n_mutated</th>\n",
       "      <th>#Reads</th>\n",
       "      <th>%Reads</th>\n",
       "      <th>contains dsODN</th>\n",
       "      <th>contains dsODN fragment</th>\n",
       "    </tr>\n",
       "    <tr>\n",
       "      <th>Aligned_Sequence</th>\n",
       "      <th></th>\n",
       "      <th></th>\n",
       "      <th></th>\n",
       "      <th></th>\n",
       "      <th></th>\n",
       "      <th></th>\n",
       "      <th></th>\n",
       "      <th></th>\n",
       "      <th></th>\n",
       "      <th></th>\n",
       "    </tr>\n",
       "  </thead>\n",
       "  <tbody>\n",
       "    <tr>\n",
       "      <th>ACATCGGATGTTCCAATCAGTACGCAGAGAGTCGCCGTCTCCAAGGTGAAAGCGGAAGTAGGGCCTTCGCGCACCTCATGGAATCCCTTCTGCAGCACCTGGATCGCTTTTCCGAGCTTCTGGCGGTCTCAAGCACTACCTACGTCAGCACCTGGGACCCCGCCACCGTGCGCCGGGCCTTGCAGTGGGCGCGCTACCTGCGCCACATCCATCGGCGCTTTGGTCGGCATGGCCCCATTCGCACGGCTCT</th>\n",
       "      <td>----CGGATGTTCCAATCAGTACGCAGAGAGTCGCCGTCTCCAAGG...</td>\n",
       "      <td>FANC</td>\n",
       "      <td>UNMODIFIED</td>\n",
       "      <td>0</td>\n",
       "      <td>0</td>\n",
       "      <td>0</td>\n",
       "      <td>3</td>\n",
       "      <td>1.442308</td>\n",
       "      <td>False</td>\n",
       "      <td>False</td>\n",
       "    </tr>\n",
       "    <tr>\n",
       "      <th>AGAGCGGATGTTCCAATCAGTACGCAGAGAGTCGCCGTCTCCAAGGTGAAAGCGGAAGTAGGGCCTTCGCGCACCTCATGGAATCCCTTCTGCAGCACCTGGATCGCTTTTCCGAGCTTCTGGCGGTCTCAAGCACTACCTACGTCAGCACCTGGGACCCCGCCACCGTGCGCCGGGCCTTGCAGTGGGCGCGCTACCTGCGCCACATCCATCGGCGCTTTGGTCGGCATGGCCCCATTCGCACGGCTCT</th>\n",
       "      <td>----CGGATGTTCCAATCAGTACGCAGAGAGTCGCCGTCTCCAAGG...</td>\n",
       "      <td>FANC</td>\n",
       "      <td>UNMODIFIED</td>\n",
       "      <td>0</td>\n",
       "      <td>0</td>\n",
       "      <td>0</td>\n",
       "      <td>3</td>\n",
       "      <td>1.442308</td>\n",
       "      <td>False</td>\n",
       "      <td>False</td>\n",
       "    </tr>\n",
       "    <tr>\n",
       "      <th>AGGGCGGATGTTCCAATCAGTACGCAGAGAGTCGCCGTCTCCAAGGTGAAAGCGGAAGTAGGGCCTTCGCGCACCTCATGGAATCCCTTCTGCAGCACCTGGATCGCTTTTCCGAGCTTCTGGCGGTCTCAAGCACTACCTACGTCAGCACCTGGGACCCCGCCACCGTGCGCCGGGCCTTGCAGTGGGCGCGCTACCTGCGCCACATCCATCGGCGCTTTGGTCGGCATGGCCCCATTCGCACGGCTCT</th>\n",
       "      <td>----CGGATGTTCCAATCAGTACGCAGAGAGTCGCCGTCTCCAAGG...</td>\n",
       "      <td>FANC</td>\n",
       "      <td>UNMODIFIED</td>\n",
       "      <td>0</td>\n",
       "      <td>0</td>\n",
       "      <td>0</td>\n",
       "      <td>3</td>\n",
       "      <td>1.442308</td>\n",
       "      <td>False</td>\n",
       "      <td>False</td>\n",
       "    </tr>\n",
       "    <tr>\n",
       "      <th>GCAGCGGATGTTCCAATCAGTACGCAGAGAGTCGCCGTCTCCAAGGTGAAAGCGGAAGTAGGGCCTTCGCGCACCTCATGGAATCCCTTCTGCAGCACCTGGATCGCTTTTCCGAGCTTCTGGCGGTCTCAAGCACTACCTACGTCAGCACCTGGGACCCCGCCACCGTGCGCCGGGCCTTGCAGTGGGCGCGCTACCTGCGCCACATCCATCGGCGCTTTGGTCGGCATGGCCCCATTCGCACGGCTCT</th>\n",
       "      <td>----CGGATGTTCCAATCAGTACGCAGAGAGTCGCCGTCTCCAAGG...</td>\n",
       "      <td>FANC</td>\n",
       "      <td>UNMODIFIED</td>\n",
       "      <td>0</td>\n",
       "      <td>0</td>\n",
       "      <td>0</td>\n",
       "      <td>3</td>\n",
       "      <td>1.442308</td>\n",
       "      <td>False</td>\n",
       "      <td>False</td>\n",
       "    </tr>\n",
       "    <tr>\n",
       "      <th>GGAGCGGATGTTCCAATCAGTACGCAGAGAGTCGCCGTCTCCAAGGTGAAAGCGGAAGTAGGGCCTTCGCGCACCTCATGGAATCCCTTCTGCAGCACCTGGATCGCTTTTCCGAGCTTCTGGCGGTCTCAAGCACTACCTACGTCAGCACCTGGGACCCCGCCACCGTGCGCCGGGCCTTGCAGTGGGCGCGCTACCTGCGCCACATCCATCGGCGCTTTGGTCGGCATGGCCCCATTCGCACGGCTCT</th>\n",
       "      <td>----CGGATGTTCCAATCAGTACGCAGAGAGTCGCCGTCTCCAAGG...</td>\n",
       "      <td>FANC</td>\n",
       "      <td>UNMODIFIED</td>\n",
       "      <td>0</td>\n",
       "      <td>0</td>\n",
       "      <td>0</td>\n",
       "      <td>3</td>\n",
       "      <td>1.442308</td>\n",
       "      <td>False</td>\n",
       "      <td>False</td>\n",
       "    </tr>\n",
       "  </tbody>\n",
       "</table>\n",
       "</div>"
      ],
      "text/plain": [
       "                                                                                   Reference_Sequence  \\\n",
       "Aligned_Sequence                                                                                        \n",
       "ACATCGGATGTTCCAATCAGTACGCAGAGAGTCGCCGTCTCCAAGGT...  ----CGGATGTTCCAATCAGTACGCAGAGAGTCGCCGTCTCCAAGG...   \n",
       "AGAGCGGATGTTCCAATCAGTACGCAGAGAGTCGCCGTCTCCAAGGT...  ----CGGATGTTCCAATCAGTACGCAGAGAGTCGCCGTCTCCAAGG...   \n",
       "AGGGCGGATGTTCCAATCAGTACGCAGAGAGTCGCCGTCTCCAAGGT...  ----CGGATGTTCCAATCAGTACGCAGAGAGTCGCCGTCTCCAAGG...   \n",
       "GCAGCGGATGTTCCAATCAGTACGCAGAGAGTCGCCGTCTCCAAGGT...  ----CGGATGTTCCAATCAGTACGCAGAGAGTCGCCGTCTCCAAGG...   \n",
       "GGAGCGGATGTTCCAATCAGTACGCAGAGAGTCGCCGTCTCCAAGGT...  ----CGGATGTTCCAATCAGTACGCAGAGAGTCGCCGTCTCCAAGG...   \n",
       "\n",
       "                                                   Reference_Name Read_Status  \\\n",
       "Aligned_Sequence                                                                \n",
       "ACATCGGATGTTCCAATCAGTACGCAGAGAGTCGCCGTCTCCAAGGT...           FANC  UNMODIFIED   \n",
       "AGAGCGGATGTTCCAATCAGTACGCAGAGAGTCGCCGTCTCCAAGGT...           FANC  UNMODIFIED   \n",
       "AGGGCGGATGTTCCAATCAGTACGCAGAGAGTCGCCGTCTCCAAGGT...           FANC  UNMODIFIED   \n",
       "GCAGCGGATGTTCCAATCAGTACGCAGAGAGTCGCCGTCTCCAAGGT...           FANC  UNMODIFIED   \n",
       "GGAGCGGATGTTCCAATCAGTACGCAGAGAGTCGCCGTCTCCAAGGT...           FANC  UNMODIFIED   \n",
       "\n",
       "                                                    n_deleted  n_inserted  \\\n",
       "Aligned_Sequence                                                            \n",
       "ACATCGGATGTTCCAATCAGTACGCAGAGAGTCGCCGTCTCCAAGGT...          0           0   \n",
       "AGAGCGGATGTTCCAATCAGTACGCAGAGAGTCGCCGTCTCCAAGGT...          0           0   \n",
       "AGGGCGGATGTTCCAATCAGTACGCAGAGAGTCGCCGTCTCCAAGGT...          0           0   \n",
       "GCAGCGGATGTTCCAATCAGTACGCAGAGAGTCGCCGTCTCCAAGGT...          0           0   \n",
       "GGAGCGGATGTTCCAATCAGTACGCAGAGAGTCGCCGTCTCCAAGGT...          0           0   \n",
       "\n",
       "                                                    n_mutated  #Reads  \\\n",
       "Aligned_Sequence                                                        \n",
       "ACATCGGATGTTCCAATCAGTACGCAGAGAGTCGCCGTCTCCAAGGT...          0       3   \n",
       "AGAGCGGATGTTCCAATCAGTACGCAGAGAGTCGCCGTCTCCAAGGT...          0       3   \n",
       "AGGGCGGATGTTCCAATCAGTACGCAGAGAGTCGCCGTCTCCAAGGT...          0       3   \n",
       "GCAGCGGATGTTCCAATCAGTACGCAGAGAGTCGCCGTCTCCAAGGT...          0       3   \n",
       "GGAGCGGATGTTCCAATCAGTACGCAGAGAGTCGCCGTCTCCAAGGT...          0       3   \n",
       "\n",
       "                                                      %Reads  contains dsODN  \\\n",
       "Aligned_Sequence                                                               \n",
       "ACATCGGATGTTCCAATCAGTACGCAGAGAGTCGCCGTCTCCAAGGT...  1.442308           False   \n",
       "AGAGCGGATGTTCCAATCAGTACGCAGAGAGTCGCCGTCTCCAAGGT...  1.442308           False   \n",
       "AGGGCGGATGTTCCAATCAGTACGCAGAGAGTCGCCGTCTCCAAGGT...  1.442308           False   \n",
       "GCAGCGGATGTTCCAATCAGTACGCAGAGAGTCGCCGTCTCCAAGGT...  1.442308           False   \n",
       "GGAGCGGATGTTCCAATCAGTACGCAGAGAGTCGCCGTCTCCAAGGT...  1.442308           False   \n",
       "\n",
       "                                                    contains dsODN fragment  \n",
       "Aligned_Sequence                                                             \n",
       "ACATCGGATGTTCCAATCAGTACGCAGAGAGTCGCCGTCTCCAAGGT...                    False  \n",
       "AGAGCGGATGTTCCAATCAGTACGCAGAGAGTCGCCGTCTCCAAGGT...                    False  \n",
       "AGGGCGGATGTTCCAATCAGTACGCAGAGAGTCGCCGTCTCCAAGGT...                    False  \n",
       "GCAGCGGATGTTCCAATCAGTACGCAGAGAGTCGCCGTCTCCAAGGT...                    False  \n",
       "GGAGCGGATGTTCCAATCAGTACGCAGAGAGTCGCCGTCTCCAAGGT...                    False  "
      ]
     },
     "execution_count": 23,
     "metadata": {},
     "output_type": "execute_result"
    }
   ],
   "source": [
    "df_alleles.head()"
   ]
  },
  {
   "cell_type": "code",
   "execution_count": null,
   "id": "4734b86e",
   "metadata": {},
   "outputs": [],
   "source": []
  },
  {
   "cell_type": "markdown",
   "id": "deac54fa",
   "metadata": {},
   "source": [
    "## Load info dict"
   ]
  },
  {
   "cell_type": "code",
   "execution_count": 12,
   "id": "96d3d0c0",
   "metadata": {},
   "outputs": [],
   "source": [
    "root = '../CRISPResso2_tests/cli_integration_tests/CRISPResso_on_params/'\n",
    "crispresso2_info = CRISPRessoShared.load_crispresso_info(root)"
   ]
  },
  {
   "cell_type": "code",
   "execution_count": 13,
   "id": "36319e7e",
   "metadata": {},
   "outputs": [],
   "source": [
    "refs = crispresso2_info['results']['refs']"
   ]
  },
  {
   "cell_type": "code",
   "execution_count": 14,
   "id": "76711c73",
   "metadata": {},
   "outputs": [],
   "source": [
    "sequence = refs['FANC']['sequence']"
   ]
  },
  {
   "cell_type": "code",
   "execution_count": 15,
   "id": "35c1721f",
   "metadata": {},
   "outputs": [
    {
     "data": {
      "text/plain": [
       "True"
      ]
     },
     "execution_count": 15,
     "metadata": {},
     "output_type": "execute_result"
    }
   ],
   "source": [
    "refs['FANC']['contains_coding_seq']"
   ]
  },
  {
   "cell_type": "code",
   "execution_count": 16,
   "id": "a383b527",
   "metadata": {},
   "outputs": [],
   "source": [
    "exon_positions = refs['FANC']['exon_positions']"
   ]
  },
  {
   "cell_type": "code",
   "execution_count": 17,
   "id": "090b4305",
   "metadata": {},
   "outputs": [],
   "source": [
    "coding_seq = ''.join([refs['FANC']['sequence'][i] for i in refs['FANC']['exon_positions']])"
   ]
  },
  {
   "cell_type": "markdown",
   "id": "33bbac51",
   "metadata": {},
   "source": [
    "## Get DF to Plot"
   ]
  },
  {
   "cell_type": "markdown",
   "id": "ee924b88",
   "metadata": {},
   "source": [
    "* Aligned Sequence is the aligned read from the fastq. '-' is a deletion.\n",
    "* Reference Sequence is the aligned reference sequence. '-' is an insertion.\n",
    "\n",
    "Our goal is to grab the coding sequences out of the aligned sequences. We'll use `CRISPRessoShared.get_dataframe_around_cut`"
   ]
  },
  {
   "cell_type": "code",
   "execution_count": 18,
   "id": "40b8a43d",
   "metadata": {},
   "outputs": [
    {
     "data": {
      "text/plain": [
       "[91, 188, 172]"
      ]
     },
     "execution_count": 18,
     "metadata": {},
     "output_type": "execute_result"
    }
   ],
   "source": [
    "refs['FANC']['sgRNA_cut_points']"
   ]
  },
  {
   "cell_type": "code",
   "execution_count": 64,
   "id": "6d11205a",
   "metadata": {},
   "outputs": [],
   "source": [
    "df_alleles = pd.read_csv('df_alleles.txt', sep='\\t', index_col=0)\n",
    "df_alleles['ref_positions'] = df_alleles['ref_positions'].apply(ast.literal_eval)"
   ]
  },
  {
   "cell_type": "code",
   "execution_count": 66,
   "id": "79338989",
   "metadata": {},
   "outputs": [],
   "source": [
    "df_test = df_alleles_around_cut=CRISPRessoShared.get_dataframe_around_cut(df_alleles.loc[df_alleles['Reference_Name'] == 'FANC'], 91, 20)"
   ]
  },
  {
   "cell_type": "code",
   "execution_count": 67,
   "id": "f677a0ad",
   "metadata": {},
   "outputs": [
    {
     "data": {
      "text/html": [
       "<div>\n",
       "<style scoped>\n",
       "    .dataframe tbody tr th:only-of-type {\n",
       "        vertical-align: middle;\n",
       "    }\n",
       "\n",
       "    .dataframe tbody tr th {\n",
       "        vertical-align: top;\n",
       "    }\n",
       "\n",
       "    .dataframe thead th {\n",
       "        text-align: right;\n",
       "    }\n",
       "</style>\n",
       "<table border=\"1\" class=\"dataframe\">\n",
       "  <thead>\n",
       "    <tr style=\"text-align: right;\">\n",
       "      <th></th>\n",
       "      <th>Reference_Sequence</th>\n",
       "      <th>Unedited</th>\n",
       "      <th>n_deleted</th>\n",
       "      <th>n_inserted</th>\n",
       "      <th>n_mutated</th>\n",
       "      <th>#Reads</th>\n",
       "      <th>%Reads</th>\n",
       "    </tr>\n",
       "    <tr>\n",
       "      <th>Aligned_Sequence</th>\n",
       "      <th></th>\n",
       "      <th></th>\n",
       "      <th></th>\n",
       "      <th></th>\n",
       "      <th></th>\n",
       "      <th></th>\n",
       "      <th></th>\n",
       "    </tr>\n",
       "  </thead>\n",
       "  <tbody>\n",
       "    <tr>\n",
       "      <th>CATGGAATCCCTTCTGCAGCACCTGGATCGCTTTTCCGAG</th>\n",
       "      <td>CATGGAATCCCTTCTGCAGCACCTGGATCGCTTTTCCGAG</td>\n",
       "      <td>True</td>\n",
       "      <td>0</td>\n",
       "      <td>0</td>\n",
       "      <td>0</td>\n",
       "      <td>163</td>\n",
       "      <td>78.365385</td>\n",
       "    </tr>\n",
       "    <tr>\n",
       "      <th>CATGGAATCCCTTCTGCA---CCTGGATCGCTTTTCCGAG</th>\n",
       "      <td>CATGGAATCCCTTCTGCAGCACCTGGATCGCTTTTCCGAG</td>\n",
       "      <td>True</td>\n",
       "      <td>0</td>\n",
       "      <td>0</td>\n",
       "      <td>0</td>\n",
       "      <td>8</td>\n",
       "      <td>3.846154</td>\n",
       "    </tr>\n",
       "    <tr>\n",
       "      <th>CATGGAATCCCTTCTG----ACCTGGATCGCTTTTCCGAG</th>\n",
       "      <td>CATGGAATCCCTTCTGCAGCACCTGGATCGCTTTTCCGAG</td>\n",
       "      <td>True</td>\n",
       "      <td>0</td>\n",
       "      <td>0</td>\n",
       "      <td>0</td>\n",
       "      <td>2</td>\n",
       "      <td>0.961538</td>\n",
       "    </tr>\n",
       "    <tr>\n",
       "      <th>CATGGAATCCCTTCTGCAGC--CTGGATCGCTTTTCCGAG</th>\n",
       "      <td>CATGGAATCCCTTCTGCAGCACCTGGATCGCTTTTCCGAG</td>\n",
       "      <td>True</td>\n",
       "      <td>0</td>\n",
       "      <td>0</td>\n",
       "      <td>0</td>\n",
       "      <td>2</td>\n",
       "      <td>0.961538</td>\n",
       "    </tr>\n",
       "    <tr>\n",
       "      <th>CATGGAATCCCTTCTGCAGCCACCTGGATCGCTTTTCCGA</th>\n",
       "      <td>CATGGAATCCCTTCTGCAGC-ACCTGGATCGCTTTTCCGA</td>\n",
       "      <td>True</td>\n",
       "      <td>0</td>\n",
       "      <td>0</td>\n",
       "      <td>0</td>\n",
       "      <td>2</td>\n",
       "      <td>0.961538</td>\n",
       "    </tr>\n",
       "    <tr>\n",
       "      <th>CATGGAATC---TGTGGATAACC-GTATTACCGCCTTTTC</th>\n",
       "      <td>CATGGAATCCCTTCTGCAGCACCTGGATCGC----TTTTC</td>\n",
       "      <td>True</td>\n",
       "      <td>0</td>\n",
       "      <td>0</td>\n",
       "      <td>0</td>\n",
       "      <td>1</td>\n",
       "      <td>0.480769</td>\n",
       "    </tr>\n",
       "    <tr>\n",
       "      <th>CATGGAATCCCTTC------ACCTGGATCGCTTTTCCGAG</th>\n",
       "      <td>CATGGAATCCCTTCTGCAGCACCTGGATCGCTTTTCCGAG</td>\n",
       "      <td>True</td>\n",
       "      <td>0</td>\n",
       "      <td>0</td>\n",
       "      <td>0</td>\n",
       "      <td>1</td>\n",
       "      <td>0.480769</td>\n",
       "    </tr>\n",
       "    <tr>\n",
       "      <th>CATGGAATCCCTTCT-----ACCTGGATCGCTTTTCCGAG</th>\n",
       "      <td>CATGGAATCCCTTCTGCAGCACCTGGATCGCTTTTCCGAG</td>\n",
       "      <td>True</td>\n",
       "      <td>0</td>\n",
       "      <td>0</td>\n",
       "      <td>0</td>\n",
       "      <td>1</td>\n",
       "      <td>0.480769</td>\n",
       "    </tr>\n",
       "    <tr>\n",
       "      <th>CATGGAATCCCTTCT----CACCTGGATCGCTTTTCCGAG</th>\n",
       "      <td>CATGGAATCCCTTCTGCAGCACCTGGATCGCTTTTCCGAG</td>\n",
       "      <td>True</td>\n",
       "      <td>0</td>\n",
       "      <td>0</td>\n",
       "      <td>0</td>\n",
       "      <td>1</td>\n",
       "      <td>0.480769</td>\n",
       "    </tr>\n",
       "    <tr>\n",
       "      <th>CATGGAATCCCTTCTGC-----CTGGATCGCTTTTCCGAG</th>\n",
       "      <td>CATGGAATCCCTTCTGCAGCACCTGGATCGCTTTTCCGAG</td>\n",
       "      <td>True</td>\n",
       "      <td>0</td>\n",
       "      <td>0</td>\n",
       "      <td>0</td>\n",
       "      <td>1</td>\n",
       "      <td>0.480769</td>\n",
       "    </tr>\n",
       "    <tr>\n",
       "      <th>CATGGAATCCCTTCTGCA--ACCTGGATCGCTTTTCCGAG</th>\n",
       "      <td>CATGGAATCCCTTCTGCAGCACCTGGATCGCTTTTCCGAG</td>\n",
       "      <td>True</td>\n",
       "      <td>0</td>\n",
       "      <td>0</td>\n",
       "      <td>0</td>\n",
       "      <td>1</td>\n",
       "      <td>0.480769</td>\n",
       "    </tr>\n",
       "    <tr>\n",
       "      <th>CATGGAATCCCTTCTGCAGAAG--GGATCGCTTTTCCGAG</th>\n",
       "      <td>CATGGAATCCCTTCTGCAGCACCTGGATCGCTTTTCCGAG</td>\n",
       "      <td>True</td>\n",
       "      <td>0</td>\n",
       "      <td>0</td>\n",
       "      <td>0</td>\n",
       "      <td>1</td>\n",
       "      <td>0.480769</td>\n",
       "    </tr>\n",
       "    <tr>\n",
       "      <th>CATGGAATCCCTTCTGCAGATCAGCGGGGATCCCTGCAGA</th>\n",
       "      <td>CATGGAATCCCTTCTGCAGC--------------------</td>\n",
       "      <td>True</td>\n",
       "      <td>0</td>\n",
       "      <td>0</td>\n",
       "      <td>0</td>\n",
       "      <td>1</td>\n",
       "      <td>0.480769</td>\n",
       "    </tr>\n",
       "    <tr>\n",
       "      <th>CATGGAATCCCTTCTGCAGC-----GATCGCTTTTCCGAG</th>\n",
       "      <td>CATGGAATCCCTTCTGCAGCACCTGGATCGCTTTTCCGAG</td>\n",
       "      <td>True</td>\n",
       "      <td>0</td>\n",
       "      <td>0</td>\n",
       "      <td>0</td>\n",
       "      <td>1</td>\n",
       "      <td>0.480769</td>\n",
       "    </tr>\n",
       "    <tr>\n",
       "      <th>CATGGAATCCCTTCTGCAGC---TGGATCGCTTTTCCGAG</th>\n",
       "      <td>CATGGAATCCCTTCTGCAGCACCTGGATCGCTTTTCCGAG</td>\n",
       "      <td>True</td>\n",
       "      <td>0</td>\n",
       "      <td>0</td>\n",
       "      <td>0</td>\n",
       "      <td>1</td>\n",
       "      <td>0.480769</td>\n",
       "    </tr>\n",
       "    <tr>\n",
       "      <th>CATGGAATCCCTTCTGCAGCAACCTGGATCGCTTTTCCGA</th>\n",
       "      <td>CATGGAATCCCTTCTGCAGC-ACCTGGATCGCTTTTCCGA</td>\n",
       "      <td>True</td>\n",
       "      <td>0</td>\n",
       "      <td>0</td>\n",
       "      <td>0</td>\n",
       "      <td>1</td>\n",
       "      <td>0.480769</td>\n",
       "    </tr>\n",
       "    <tr>\n",
       "      <th>CATGGAATCCCTTCTGCAGCAC-TGGATCGCTTTTCCGAG</th>\n",
       "      <td>CATGGAATCCCTTCTGCAGCACCTGGATCGCTTTTCCGAG</td>\n",
       "      <td>True</td>\n",
       "      <td>0</td>\n",
       "      <td>0</td>\n",
       "      <td>0</td>\n",
       "      <td>1</td>\n",
       "      <td>0.480769</td>\n",
       "    </tr>\n",
       "    <tr>\n",
       "      <th>CATGGAATCCCTTCTGCAGCATCTGGATCGCTTTTCCGAG</th>\n",
       "      <td>CATGGAATCCCTTCTGCAGCACCTGGATCGCTTTTCCGAG</td>\n",
       "      <td>True</td>\n",
       "      <td>0</td>\n",
       "      <td>0</td>\n",
       "      <td>0</td>\n",
       "      <td>1</td>\n",
       "      <td>0.480769</td>\n",
       "    </tr>\n",
       "    <tr>\n",
       "      <th>CATGGAATCCCTTCTGCAGCTACCTGGATCGCTTTTCCGA</th>\n",
       "      <td>CATGGAATCCCTTCTGCAGC-ACCTGGATCGCTTTTCCGA</td>\n",
       "      <td>True</td>\n",
       "      <td>0</td>\n",
       "      <td>0</td>\n",
       "      <td>0</td>\n",
       "      <td>1</td>\n",
       "      <td>0.480769</td>\n",
       "    </tr>\n",
       "    <tr>\n",
       "      <th>CATGGAATCCCTTCTGCAGCTTCT----CGCTTTTCCGAG</th>\n",
       "      <td>CATGGAATCCCTTCTGCAGCACCTGGATCGCTTTTCCGAG</td>\n",
       "      <td>True</td>\n",
       "      <td>0</td>\n",
       "      <td>0</td>\n",
       "      <td>0</td>\n",
       "      <td>1</td>\n",
       "      <td>0.480769</td>\n",
       "    </tr>\n",
       "  </tbody>\n",
       "</table>\n",
       "</div>"
      ],
      "text/plain": [
       "                                                                Reference_Sequence  \\\n",
       "Aligned_Sequence                                                                     \n",
       "CATGGAATCCCTTCTGCAGCACCTGGATCGCTTTTCCGAG  CATGGAATCCCTTCTGCAGCACCTGGATCGCTTTTCCGAG   \n",
       "CATGGAATCCCTTCTGCA---CCTGGATCGCTTTTCCGAG  CATGGAATCCCTTCTGCAGCACCTGGATCGCTTTTCCGAG   \n",
       "CATGGAATCCCTTCTG----ACCTGGATCGCTTTTCCGAG  CATGGAATCCCTTCTGCAGCACCTGGATCGCTTTTCCGAG   \n",
       "CATGGAATCCCTTCTGCAGC--CTGGATCGCTTTTCCGAG  CATGGAATCCCTTCTGCAGCACCTGGATCGCTTTTCCGAG   \n",
       "CATGGAATCCCTTCTGCAGCCACCTGGATCGCTTTTCCGA  CATGGAATCCCTTCTGCAGC-ACCTGGATCGCTTTTCCGA   \n",
       "CATGGAATC---TGTGGATAACC-GTATTACCGCCTTTTC  CATGGAATCCCTTCTGCAGCACCTGGATCGC----TTTTC   \n",
       "CATGGAATCCCTTC------ACCTGGATCGCTTTTCCGAG  CATGGAATCCCTTCTGCAGCACCTGGATCGCTTTTCCGAG   \n",
       "CATGGAATCCCTTCT-----ACCTGGATCGCTTTTCCGAG  CATGGAATCCCTTCTGCAGCACCTGGATCGCTTTTCCGAG   \n",
       "CATGGAATCCCTTCT----CACCTGGATCGCTTTTCCGAG  CATGGAATCCCTTCTGCAGCACCTGGATCGCTTTTCCGAG   \n",
       "CATGGAATCCCTTCTGC-----CTGGATCGCTTTTCCGAG  CATGGAATCCCTTCTGCAGCACCTGGATCGCTTTTCCGAG   \n",
       "CATGGAATCCCTTCTGCA--ACCTGGATCGCTTTTCCGAG  CATGGAATCCCTTCTGCAGCACCTGGATCGCTTTTCCGAG   \n",
       "CATGGAATCCCTTCTGCAGAAG--GGATCGCTTTTCCGAG  CATGGAATCCCTTCTGCAGCACCTGGATCGCTTTTCCGAG   \n",
       "CATGGAATCCCTTCTGCAGATCAGCGGGGATCCCTGCAGA  CATGGAATCCCTTCTGCAGC--------------------   \n",
       "CATGGAATCCCTTCTGCAGC-----GATCGCTTTTCCGAG  CATGGAATCCCTTCTGCAGCACCTGGATCGCTTTTCCGAG   \n",
       "CATGGAATCCCTTCTGCAGC---TGGATCGCTTTTCCGAG  CATGGAATCCCTTCTGCAGCACCTGGATCGCTTTTCCGAG   \n",
       "CATGGAATCCCTTCTGCAGCAACCTGGATCGCTTTTCCGA  CATGGAATCCCTTCTGCAGC-ACCTGGATCGCTTTTCCGA   \n",
       "CATGGAATCCCTTCTGCAGCAC-TGGATCGCTTTTCCGAG  CATGGAATCCCTTCTGCAGCACCTGGATCGCTTTTCCGAG   \n",
       "CATGGAATCCCTTCTGCAGCATCTGGATCGCTTTTCCGAG  CATGGAATCCCTTCTGCAGCACCTGGATCGCTTTTCCGAG   \n",
       "CATGGAATCCCTTCTGCAGCTACCTGGATCGCTTTTCCGA  CATGGAATCCCTTCTGCAGC-ACCTGGATCGCTTTTCCGA   \n",
       "CATGGAATCCCTTCTGCAGCTTCT----CGCTTTTCCGAG  CATGGAATCCCTTCTGCAGCACCTGGATCGCTTTTCCGAG   \n",
       "\n",
       "                                          Unedited  n_deleted  n_inserted  \\\n",
       "Aligned_Sequence                                                            \n",
       "CATGGAATCCCTTCTGCAGCACCTGGATCGCTTTTCCGAG      True          0           0   \n",
       "CATGGAATCCCTTCTGCA---CCTGGATCGCTTTTCCGAG      True          0           0   \n",
       "CATGGAATCCCTTCTG----ACCTGGATCGCTTTTCCGAG      True          0           0   \n",
       "CATGGAATCCCTTCTGCAGC--CTGGATCGCTTTTCCGAG      True          0           0   \n",
       "CATGGAATCCCTTCTGCAGCCACCTGGATCGCTTTTCCGA      True          0           0   \n",
       "CATGGAATC---TGTGGATAACC-GTATTACCGCCTTTTC      True          0           0   \n",
       "CATGGAATCCCTTC------ACCTGGATCGCTTTTCCGAG      True          0           0   \n",
       "CATGGAATCCCTTCT-----ACCTGGATCGCTTTTCCGAG      True          0           0   \n",
       "CATGGAATCCCTTCT----CACCTGGATCGCTTTTCCGAG      True          0           0   \n",
       "CATGGAATCCCTTCTGC-----CTGGATCGCTTTTCCGAG      True          0           0   \n",
       "CATGGAATCCCTTCTGCA--ACCTGGATCGCTTTTCCGAG      True          0           0   \n",
       "CATGGAATCCCTTCTGCAGAAG--GGATCGCTTTTCCGAG      True          0           0   \n",
       "CATGGAATCCCTTCTGCAGATCAGCGGGGATCCCTGCAGA      True          0           0   \n",
       "CATGGAATCCCTTCTGCAGC-----GATCGCTTTTCCGAG      True          0           0   \n",
       "CATGGAATCCCTTCTGCAGC---TGGATCGCTTTTCCGAG      True          0           0   \n",
       "CATGGAATCCCTTCTGCAGCAACCTGGATCGCTTTTCCGA      True          0           0   \n",
       "CATGGAATCCCTTCTGCAGCAC-TGGATCGCTTTTCCGAG      True          0           0   \n",
       "CATGGAATCCCTTCTGCAGCATCTGGATCGCTTTTCCGAG      True          0           0   \n",
       "CATGGAATCCCTTCTGCAGCTACCTGGATCGCTTTTCCGA      True          0           0   \n",
       "CATGGAATCCCTTCTGCAGCTTCT----CGCTTTTCCGAG      True          0           0   \n",
       "\n",
       "                                          n_mutated  #Reads     %Reads  \n",
       "Aligned_Sequence                                                        \n",
       "CATGGAATCCCTTCTGCAGCACCTGGATCGCTTTTCCGAG          0     163  78.365385  \n",
       "CATGGAATCCCTTCTGCA---CCTGGATCGCTTTTCCGAG          0       8   3.846154  \n",
       "CATGGAATCCCTTCTG----ACCTGGATCGCTTTTCCGAG          0       2   0.961538  \n",
       "CATGGAATCCCTTCTGCAGC--CTGGATCGCTTTTCCGAG          0       2   0.961538  \n",
       "CATGGAATCCCTTCTGCAGCCACCTGGATCGCTTTTCCGA          0       2   0.961538  \n",
       "CATGGAATC---TGTGGATAACC-GTATTACCGCCTTTTC          0       1   0.480769  \n",
       "CATGGAATCCCTTC------ACCTGGATCGCTTTTCCGAG          0       1   0.480769  \n",
       "CATGGAATCCCTTCT-----ACCTGGATCGCTTTTCCGAG          0       1   0.480769  \n",
       "CATGGAATCCCTTCT----CACCTGGATCGCTTTTCCGAG          0       1   0.480769  \n",
       "CATGGAATCCCTTCTGC-----CTGGATCGCTTTTCCGAG          0       1   0.480769  \n",
       "CATGGAATCCCTTCTGCA--ACCTGGATCGCTTTTCCGAG          0       1   0.480769  \n",
       "CATGGAATCCCTTCTGCAGAAG--GGATCGCTTTTCCGAG          0       1   0.480769  \n",
       "CATGGAATCCCTTCTGCAGATCAGCGGGGATCCCTGCAGA          0       1   0.480769  \n",
       "CATGGAATCCCTTCTGCAGC-----GATCGCTTTTCCGAG          0       1   0.480769  \n",
       "CATGGAATCCCTTCTGCAGC---TGGATCGCTTTTCCGAG          0       1   0.480769  \n",
       "CATGGAATCCCTTCTGCAGCAACCTGGATCGCTTTTCCGA          0       1   0.480769  \n",
       "CATGGAATCCCTTCTGCAGCAC-TGGATCGCTTTTCCGAG          0       1   0.480769  \n",
       "CATGGAATCCCTTCTGCAGCATCTGGATCGCTTTTCCGAG          0       1   0.480769  \n",
       "CATGGAATCCCTTCTGCAGCTACCTGGATCGCTTTTCCGA          0       1   0.480769  \n",
       "CATGGAATCCCTTCTGCAGCTTCT----CGCTTTTCCGAG          0       1   0.480769  "
      ]
     },
     "execution_count": 67,
     "metadata": {},
     "output_type": "execute_result"
    }
   ],
   "source": [
    "df_test"
   ]
  },
  {
   "cell_type": "code",
   "execution_count": null,
   "id": "35ca6c23",
   "metadata": {},
   "outputs": [],
   "source": []
  }
 ],
 "metadata": {
  "kernelspec": {
   "display_name": "Python 3 (ipykernel)",
   "language": "python",
   "name": "python3"
  },
  "language_info": {
   "codemirror_mode": {
    "name": "ipython",
    "version": 3
   },
   "file_extension": ".py",
   "mimetype": "text/x-python",
   "name": "python",
   "nbconvert_exporter": "python",
   "pygments_lexer": "ipython3",
   "version": "3.10.14"
  }
 },
 "nbformat": 4,
 "nbformat_minor": 5
}
