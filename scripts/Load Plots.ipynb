{
 "cells": [
  {
   "cell_type": "code",
   "execution_count": 1,
   "id": "5895c995",
   "metadata": {},
   "outputs": [],
   "source": [
    "import os\n",
    "import pandas as pd\n",
    "from CRISPResso2 import CRISPRessoShared, CRISPRessoPlot\n",
    "from collections import defaultdict"
   ]
  },
  {
   "cell_type": "markdown",
   "id": "ac064182",
   "metadata": {},
   "source": [
    "## Loading from report folder"
   ]
  },
  {
   "cell_type": "code",
   "execution_count": null,
   "id": "c443b274",
   "metadata": {},
   "outputs": [],
   "source": [
    "!ls ../CRISPResso2_tests/cli_integration_tests/CRISPResso_on_params/"
   ]
  },
  {
   "cell_type": "code",
   "execution_count": null,
   "id": "a64da86e",
   "metadata": {},
   "outputs": [],
   "source": [
    "#! unzip ../CRISPResso2_tests/cli_integration_tests/CRISPResso_on_params/Alleles_frequency_table.zip"
   ]
  },
  {
   "cell_type": "code",
   "execution_count": null,
   "id": "ebbb2808",
   "metadata": {},
   "outputs": [],
   "source": [
    "# I think this is right\n",
    "df_alleles = pd.read_csv('Alleles_frequency_table.txt', sep='\\t', header=0)"
   ]
  },
  {
   "cell_type": "code",
   "execution_count": null,
   "id": "51eab164",
   "metadata": {},
   "outputs": [],
   "source": [
    "df_alleles.columns"
   ]
  },
  {
   "cell_type": "code",
   "execution_count": null,
   "id": "156ae9b0",
   "metadata": {},
   "outputs": [],
   "source": [
    "root = \"../CRISPResso_on_Linear_chr11_sm_201_left\"\n",
    "root = \"../CRISPResso2_tests/cli_integration_tests/CRISPResso_on_params/\"\n",
    "crispresso2_info = CRISPRessoShared.load_crispresso_info(root)\n",
    "print(crispresso2_info['results']['ref_names'])\n",
    "ref_name = crispresso2_info['results']['ref_names'][0]"
   ]
  },
  {
   "cell_type": "code",
   "execution_count": null,
   "id": "22b83821",
   "metadata": {},
   "outputs": [],
   "source": [
    "refs = crispresso2_info['results']['refs']"
   ]
  },
  {
   "cell_type": "code",
   "execution_count": null,
   "id": "5cfd3b1a",
   "metadata": {},
   "outputs": [],
   "source": [
    "refs"
   ]
  },
  {
   "cell_type": "code",
   "execution_count": null,
   "id": "d45ae8b5",
   "metadata": {},
   "outputs": [],
   "source": [
    "counts_total = crispresso2_info['results']['alignment_stats']['counts_total']"
   ]
  },
  {
   "cell_type": "markdown",
   "id": "bfc5da62",
   "metadata": {},
   "source": [
    "We're interested in figures 9 for plotting"
   ]
  },
  {
   "cell_type": "markdown",
   "id": "08ba822e",
   "metadata": {},
   "source": [
    "from CRISPRessoCORE\n",
    "```\n",
    "plot_9_input = {\n",
    "    'reference_seq': ref_seq_around_cut,\n",
    "    'df_alleles': df_to_plot,\n",
    "    'fig_filename_root': fig_filename_root,\n",
    "    'custom_colors': custom_config[\"colors\"],\n",
    "    'MIN_FREQUENCY': args.min_frequency_alleles_around_cut_to_plot,\n",
    "    'MAX_N_ROWS': args.max_rows_alleles_around_cut_to_plot,\n",
    "    'SAVE_ALSO_PNG': save_png,\n",
    "    'plot_cut_point': plot_cut_point,\n",
    "    'sgRNA_intervals': new_sgRNA_intervals,\n",
    "    'sgRNA_names': sgRNA_names,\n",
    "    'sgRNA_mismatches': sgRNA_mismatches,\n",
    "    'annotate_wildtype_allele': args.annotate_wildtype_allele,\n",
    "}\n",
    "debug('Plotting allele distribution around cut for {0}'.format(ref_name))\n",
    "plot(CRISPRessoPlot.plot_alleles_table, plot_9_input)\n",
    "```\n",
    "\n",
    "`df_to_plot` is constructed with the following lines:\n",
    "```\n",
    "df_alleles_around_cut=CRISPRessoShared.get_dataframe_around_cut(df_alleles.loc[df_alleles['Reference_Name'] == ref_name], cut_point, plot_half_window)\n",
    "count_total = counts_total[ref_name]\n",
    "if args.allele_plot_pcts_only_for_assigned_reference:\n",
    "    df_alleles_around_cut['%AllReads']=df_alleles_around_cut['%Reads']\n",
    "    df_alleles_around_cut['%Reads']=df_alleles_around_cut['#Reads']/count_total*100\n",
    "\n",
    "#...\n",
    "\n",
    "df_to_plot = df_alleles_around_cut\n",
    "if not args.expand_allele_plots_by_quantification:\n",
    "    df_to_plot = df_alleles_around_cut.groupby(['Aligned_Sequence', 'Reference_Sequence']).sum().reset_index().set_index('Aligned_Sequence')\n",
    "    df_to_plot.sort_values(by=['#Reads', 'Aligned_Sequence', 'Reference_Sequence'], inplace=True, ascending=[False, True, True])\n",
    "```\n",
    "\n",
    "Need to figure out what the cut point is supposed to be?"
   ]
  },
  {
   "cell_type": "code",
   "execution_count": null,
   "id": "f3c6377d",
   "metadata": {},
   "outputs": [],
   "source": [
    "crispresso2_info_copy = crispresso2_info.copy()"
   ]
  },
  {
   "cell_type": "code",
   "execution_count": null,
   "id": "a550ade7",
   "metadata": {},
   "outputs": [],
   "source": [
    "sgRNA_sequences = refs[ref_name]['sgRNA_sequences']\n",
    "sgRNA_cut_points = refs[ref_name]['sgRNA_cut_points']"
   ]
  },
  {
   "cell_type": "code",
   "execution_count": null,
   "id": "a9154687",
   "metadata": {},
   "outputs": [],
   "source": [
    "print(sgRNA_sequences)\n",
    "print(sgRNA_cut_points)"
   ]
  },
  {
   "cell_type": "code",
   "execution_count": null,
   "id": "d09a33e2",
   "metadata": {},
   "outputs": [],
   "source": [
    "crispresso2_info['running_info']['args'].plot_window_size"
   ]
  },
  {
   "cell_type": "code",
   "execution_count": null,
   "id": "91a16785",
   "metadata": {},
   "outputs": [],
   "source": [
    "cut_point = sgRNA_cut_points[0]\n",
    "plot_half_window = max(1, crispresso2_info['running_info']['args'].plot_window_size)"
   ]
  },
  {
   "cell_type": "code",
   "execution_count": null,
   "id": "b57b78f4",
   "metadata": {},
   "outputs": [],
   "source": [
    "crispresso2_info['running_info']['args'].coding_seq"
   ]
  },
  {
   "cell_type": "code",
   "execution_count": null,
   "id": "f0b3e307",
   "metadata": {},
   "outputs": [],
   "source": [
    "df_alleles_around_cut=CRISPRessoShared.get_dataframe_around_cut(df_alleles.loc[df_alleles['Reference_Name'] == ref_name], cut_point, plot_half_window)\n",
    "df_to_plot = df_alleles_around_cut\n"
   ]
  },
  {
   "cell_type": "markdown",
   "id": "ef1d29c9",
   "metadata": {},
   "source": [
    "## Amino Acid coding"
   ]
  },
  {
   "cell_type": "code",
   "execution_count": null,
   "id": "3f924fba",
   "metadata": {},
   "outputs": [],
   "source": [
    "coding_seq = crispresso2_info['running_info']['args'].coding_seq\n",
    "# coding_seq = coding_seq[1::]"
   ]
  },
  {
   "cell_type": "code",
   "execution_count": null,
   "id": "118287cc",
   "metadata": {},
   "outputs": [],
   "source": [
    "codon_to_amino_acid = {\n",
    "    'TTT': 'Phe', 'TTC': 'Phe', 'TTA': 'Leu', 'TTG': 'Leu',\n",
    "    'TCT': 'Ser', 'TCC': 'Ser', 'TCA': 'Ser', 'TCG': 'Ser',\n",
    "    'TAT': 'Tyr', 'TAC': 'Tyr', 'TAA': 'STOP', 'TAG': 'STOP',\n",
    "    'TGT': 'Cys', 'TGC': 'Cys', 'TGA': 'STOP', 'TGG': 'Trp',\n",
    "    'CTT': 'Leu', 'CTC': 'Leu', 'CTA': 'Leu', 'CTG': 'Leu',\n",
    "    'CCT': 'Pro', 'CCC': 'Pro', 'CCA': 'Pro', 'CCG': 'Pro',\n",
    "    'CAT': 'His', 'CAC': 'His', 'CAA': 'Gln', 'CAG': 'Gln',\n",
    "    'CGT': 'Arg', 'CGC': 'Arg', 'CGA': 'Arg', 'CGG': 'Arg',\n",
    "    'ATT': 'Ile', 'ATC': 'Ile', 'ATA': 'Ile', 'ATG': 'Met',\n",
    "    'ACT': 'Thr', 'ACC': 'Thr', 'ACA': 'Thr', 'ACG': 'Thr',\n",
    "    'AAT': 'Asn', 'AAC': 'Asn', 'AAA': 'Lys', 'AAG': 'Lys',\n",
    "    'AGT': 'Ser', 'AGC': 'Ser', 'AGA': 'Arg', 'AGG': 'Arg',\n",
    "    'GTT': 'Val', 'GTC': 'Val', 'GTA': 'Val', 'GTG': 'Val',\n",
    "    'GCT': 'Ala', 'GCC': 'Ala', 'GCA': 'Ala', 'GCG': 'Ala',\n",
    "    'GAT': 'Asp', 'GAC': 'Asp', 'GAA': 'Glu', 'GAG': 'Glu',\n",
    "    'GGT': 'Gly', 'GGC': 'Gly', 'GGA': 'Gly', 'GGG': 'Gly'\n",
    "}"
   ]
  },
  {
   "cell_type": "code",
   "execution_count": null,
   "id": "3ab9b3a8",
   "metadata": {},
   "outputs": [],
   "source": [
    "while len(coding_seq) > 2:\n",
    "    codon, coding_seq = coding_seq[:3], coding_seq[3:]\n",
    "    print(f\"{codon} -> {codon_to_amino_acid[codon]}\")"
   ]
  },
  {
   "cell_type": "markdown",
   "id": "6ed2cea2",
   "metadata": {},
   "source": [
    "## Plotting"
   ]
  },
  {
   "cell_type": "code",
   "execution_count": 2,
   "id": "97fde43f",
   "metadata": {},
   "outputs": [],
   "source": [
    "df_to_plot = pd.read_csv('df_to_plot.csv', header=0, sep='\\t', index_col=0)"
   ]
  },
  {
   "cell_type": "code",
   "execution_count": 3,
   "id": "12ea4a35",
   "metadata": {},
   "outputs": [
    {
     "data": {
      "text/html": [
       "<div>\n",
       "<style scoped>\n",
       "    .dataframe tbody tr th:only-of-type {\n",
       "        vertical-align: middle;\n",
       "    }\n",
       "\n",
       "    .dataframe tbody tr th {\n",
       "        vertical-align: top;\n",
       "    }\n",
       "\n",
       "    .dataframe thead th {\n",
       "        text-align: right;\n",
       "    }\n",
       "</style>\n",
       "<table border=\"1\" class=\"dataframe\">\n",
       "  <thead>\n",
       "    <tr style=\"text-align: right;\">\n",
       "      <th></th>\n",
       "      <th>Reference_Sequence</th>\n",
       "      <th>Unedited</th>\n",
       "      <th>n_deleted</th>\n",
       "      <th>n_inserted</th>\n",
       "      <th>n_mutated</th>\n",
       "      <th>#Reads</th>\n",
       "      <th>%Reads</th>\n",
       "    </tr>\n",
       "    <tr>\n",
       "      <th>Aligned_Sequence</th>\n",
       "      <th></th>\n",
       "      <th></th>\n",
       "      <th></th>\n",
       "      <th></th>\n",
       "      <th></th>\n",
       "      <th></th>\n",
       "      <th></th>\n",
       "    </tr>\n",
       "  </thead>\n",
       "  <tbody>\n",
       "    <tr>\n",
       "      <th>CATGGAATCCCTTCTGCAGCACCTGGATCGCTTTTCCGAG</th>\n",
       "      <td>CATGGAATCCCTTCTGCAGCACCTGGATCGCTTTTCCGAG</td>\n",
       "      <td>1</td>\n",
       "      <td>0</td>\n",
       "      <td>0</td>\n",
       "      <td>0</td>\n",
       "      <td>163</td>\n",
       "      <td>78.365385</td>\n",
       "    </tr>\n",
       "    <tr>\n",
       "      <th>CATGGAATCCCTTCTGCA---CCTGGATCGCTTTTCCGAG</th>\n",
       "      <td>CATGGAATCCCTTCTGCAGCACCTGGATCGCTTTTCCGAG</td>\n",
       "      <td>1</td>\n",
       "      <td>0</td>\n",
       "      <td>0</td>\n",
       "      <td>0</td>\n",
       "      <td>8</td>\n",
       "      <td>3.846154</td>\n",
       "    </tr>\n",
       "    <tr>\n",
       "      <th>CATGGAATCCCTTCTG----ACCTGGATCGCTTTTCCGAG</th>\n",
       "      <td>CATGGAATCCCTTCTGCAGCACCTGGATCGCTTTTCCGAG</td>\n",
       "      <td>1</td>\n",
       "      <td>0</td>\n",
       "      <td>0</td>\n",
       "      <td>0</td>\n",
       "      <td>2</td>\n",
       "      <td>0.961538</td>\n",
       "    </tr>\n",
       "    <tr>\n",
       "      <th>CATGGAATCCCTTCTGCAGC--CTGGATCGCTTTTCCGAG</th>\n",
       "      <td>CATGGAATCCCTTCTGCAGCACCTGGATCGCTTTTCCGAG</td>\n",
       "      <td>1</td>\n",
       "      <td>0</td>\n",
       "      <td>0</td>\n",
       "      <td>0</td>\n",
       "      <td>2</td>\n",
       "      <td>0.961538</td>\n",
       "    </tr>\n",
       "    <tr>\n",
       "      <th>CATGGAATCCCTTCTGCAGCCACCTGGATCGCTTTTCCGA</th>\n",
       "      <td>CATGGAATCCCTTCTGCAGC-ACCTGGATCGCTTTTCCGA</td>\n",
       "      <td>1</td>\n",
       "      <td>0</td>\n",
       "      <td>0</td>\n",
       "      <td>0</td>\n",
       "      <td>2</td>\n",
       "      <td>0.961538</td>\n",
       "    </tr>\n",
       "  </tbody>\n",
       "</table>\n",
       "</div>"
      ],
      "text/plain": [
       "                                                                Reference_Sequence  \\\n",
       "Aligned_Sequence                                                                     \n",
       "CATGGAATCCCTTCTGCAGCACCTGGATCGCTTTTCCGAG  CATGGAATCCCTTCTGCAGCACCTGGATCGCTTTTCCGAG   \n",
       "CATGGAATCCCTTCTGCA---CCTGGATCGCTTTTCCGAG  CATGGAATCCCTTCTGCAGCACCTGGATCGCTTTTCCGAG   \n",
       "CATGGAATCCCTTCTG----ACCTGGATCGCTTTTCCGAG  CATGGAATCCCTTCTGCAGCACCTGGATCGCTTTTCCGAG   \n",
       "CATGGAATCCCTTCTGCAGC--CTGGATCGCTTTTCCGAG  CATGGAATCCCTTCTGCAGCACCTGGATCGCTTTTCCGAG   \n",
       "CATGGAATCCCTTCTGCAGCCACCTGGATCGCTTTTCCGA  CATGGAATCCCTTCTGCAGC-ACCTGGATCGCTTTTCCGA   \n",
       "\n",
       "                                          Unedited  n_deleted  n_inserted  \\\n",
       "Aligned_Sequence                                                            \n",
       "CATGGAATCCCTTCTGCAGCACCTGGATCGCTTTTCCGAG         1          0           0   \n",
       "CATGGAATCCCTTCTGCA---CCTGGATCGCTTTTCCGAG         1          0           0   \n",
       "CATGGAATCCCTTCTG----ACCTGGATCGCTTTTCCGAG         1          0           0   \n",
       "CATGGAATCCCTTCTGCAGC--CTGGATCGCTTTTCCGAG         1          0           0   \n",
       "CATGGAATCCCTTCTGCAGCCACCTGGATCGCTTTTCCGA         1          0           0   \n",
       "\n",
       "                                          n_mutated  #Reads     %Reads  \n",
       "Aligned_Sequence                                                        \n",
       "CATGGAATCCCTTCTGCAGCACCTGGATCGCTTTTCCGAG          0     163  78.365385  \n",
       "CATGGAATCCCTTCTGCA---CCTGGATCGCTTTTCCGAG          0       8   3.846154  \n",
       "CATGGAATCCCTTCTG----ACCTGGATCGCTTTTCCGAG          0       2   0.961538  \n",
       "CATGGAATCCCTTCTGCAGC--CTGGATCGCTTTTCCGAG          0       2   0.961538  \n",
       "CATGGAATCCCTTCTGCAGCCACCTGGATCGCTTTTCCGA          0       2   0.961538  "
      ]
     },
     "execution_count": 3,
     "metadata": {},
     "output_type": "execute_result"
    }
   ],
   "source": [
    "df_to_plot.head()"
   ]
  },
  {
   "cell_type": "code",
   "execution_count": 4,
   "id": "6690ab9e",
   "metadata": {},
   "outputs": [],
   "source": [
    "plot_9a_inputs = {\n",
    "    'reference_seq': (reference_seq:='CATGGAATCCCTTCTGCAGCACCTGGATCGCTTTTCCGAG'), \n",
    "    'df_alleles': (df_alleles:=df_to_plot), \n",
    "    'fig_filename_root': (fig_filename_root:='./scripts/figures/9a'), \n",
    "    'custom_colors': (custom_colors:={\n",
    "        'Substitution': '#0000FF', \n",
    "        'Insertion': '#008000', \n",
    "        'Deletion': '#FF0000', \n",
    "        'A': '#7FC97F', \n",
    "        'T': '#BEAED4', \n",
    "        'C': '#FDC086', \n",
    "        'G': '#FFFF99', \n",
    "        'N': '#C8C8C8', \n",
    "        '-': '#1E1E1E'\n",
    "    }), \n",
    "    'MIN_FREQUENCY': (MIN_FREQUENCY:=0.2), \n",
    "    'MAX_N_ROWS': (MAX_N_ROWS:=50), \n",
    "    'SAVE_ALSO_PNG': (SAVE_ALSO_PNG:=True), \n",
    "    'plot_cut_point': (plot_cut_point:=False), \n",
    "    'sgRNA_intervals': (sgRNA_intervals:=[(3, 22), (99, 119), (98, 112)]), \n",
    "    'sgRNA_names': (sgRNA_names:=['hi', 'dear', '']), \n",
    "    'sgRNA_mismatches': (sgRNA_mismatches:=[[], [0], [7]]), \n",
    "    'annotate_wildtype_allele': (annotate_wildtype_allele:='')\n",
    "}"
   ]
  },
  {
   "cell_type": "code",
   "execution_count": 5,
   "id": "393ebdb2",
   "metadata": {},
   "outputs": [
    {
     "name": "stdout",
     "output_type": "stream",
     "text": [
      "CATGGAATCCCTTCTGCAGCACCTGGATCGCTTTTCCGAG\n"
     ]
    }
   ],
   "source": [
    "for idx, row in df_alleles[df_alleles['%Reads']>=MIN_FREQUENCY][:MAX_N_ROWS].iterrows():\n",
    "    print(idx)\n",
    "    break"
   ]
  },
  {
   "cell_type": "code",
   "execution_count": 6,
   "id": "86094be1",
   "metadata": {},
   "outputs": [],
   "source": [
    "(\n",
    "    X, # 2d array: This is the sequence converted to ints I THINK for the cmap \n",
    "    annot, # This is the sequence of bp's \n",
    "    y_labels, # this is the percentage and tallies displayed to the right ``\n",
    "    insertion_dict, # I think this is key: which aligned_seq has insertion, value: where the insertion is\n",
    "    per_element_annot_kws, # dict of dicts: this is for bolding the substitutions\n",
    "    is_reference,\n",
    "    ref_sequence_amino_acids) = CRISPRessoPlot.prep_amino_acid_table(\n",
    "        df_to_plot, \n",
    "        plot_9a_inputs['reference_seq'], \n",
    "        plot_9a_inputs['MAX_N_ROWS'], \n",
    "        plot_9a_inputs['MIN_FREQUENCY']\n",
    "        )\n"
   ]
  },
  {
   "cell_type": "code",
   "execution_count": 7,
   "id": "78099829",
   "metadata": {},
   "outputs": [],
   "source": [
    "CRISPRessoPlot.plot_amino_acid_table(**plot_9a_inputs)"
   ]
  },
  {
   "cell_type": "code",
   "execution_count": null,
   "id": "02840d80",
   "metadata": {},
   "outputs": [],
   "source": []
  }
 ],
 "metadata": {
  "kernelspec": {
   "display_name": "Python 3 (ipykernel)",
   "language": "python",
   "name": "python3"
  },
  "language_info": {
   "codemirror_mode": {
    "name": "ipython",
    "version": 3
   },
   "file_extension": ".py",
   "mimetype": "text/x-python",
   "name": "python",
   "nbconvert_exporter": "python",
   "pygments_lexer": "ipython3",
   "version": "3.10.14"
  }
 },
 "nbformat": 4,
 "nbformat_minor": 5
}
